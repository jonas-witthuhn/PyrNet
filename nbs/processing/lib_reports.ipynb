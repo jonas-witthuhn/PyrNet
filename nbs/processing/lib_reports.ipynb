{
 "cells": [
  {
   "cell_type": "code",
   "execution_count": 1,
   "outputs": [],
   "source": [
    "#|hide\n",
    "#|default_exp reports"
   ],
   "metadata": {
    "collapsed": false
   }
  },
  {
   "cell_type": "markdown",
   "source": [
    "# LimeSurvey Maintenance Reports"
   ],
   "metadata": {
    "collapsed": false
   }
  },
  {
   "cell_type": "code",
   "execution_count": 2,
   "outputs": [],
   "source": [
    "#|export\n",
    "import pandas as pd\n",
    "from pandas._typing import (\n",
    "    FilePath,\n",
    "    ReadCsvBuffer,\n",
    ")\n",
    "import datetime as dt\n",
    "import numpy as np\n",
    "from toolz import assoc_in\n",
    "\n",
    "import lib.utils as utils\n",
    "\n"
   ],
   "metadata": {
    "collapsed": false
   }
  },
  {
   "cell_type": "markdown",
   "source": [
    "\n",
    "## Survey Export\n",
    "In the following, the functions are designed to work with the survey response export in the .csv format:\n",
    "* Field separator: \"Semicolon\"\n",
    "* Responses: \"Answer codes\"\n",
    "* Headings: \"Question code\"\n",
    "\n",
    "The responses can be exported manually from the website ..."
   ],
   "metadata": {
    "collapsed": false
   }
  },
  {
   "cell_type": "code",
   "execution_count": 3,
   "outputs": [
    {
     "data": {
      "text/plain": "   id           submitdate  lastpage startlanguage        seed  \\\n0   1  2023-05-08 15:13:33         1            en  1428982518   \n1   2  2023-05-08 16:08:20         1            en   852861659   \n2   3  2023-05-08 16:09:06         1            en   632878730   \n\n             startdate            datestamp  Q00             Q01 MainQ01  ...  \\\n0  2023-05-08 15:02:53  2023-05-08 15:13:33    1  this is a test    AO01  ...   \n1  2023-05-08 16:08:09  2023-05-08 16:08:20    2             222    AO03  ...   \n2  2023-05-08 16:08:46  2023-05-08 16:09:06    1             222    AO02  ...   \n\n  interviewtime groupTime57 Q00Time Q01Time groupTime59 MainQ01Time  \\\n0        837.45        None    None    None        None        None   \n1         11.13        None    None    None        None        None   \n2         19.89        None    None    None        None        None   \n\n  MainQ02Time  groupTime58 ExtraQ01Time ExtraQ02Time  \n0        None         None         None         None  \n1        None         None         None         None  \n2        None         None         None         None  \n\n[3 rows x 27 columns]",
      "text/html": "<div>\n<style scoped>\n    .dataframe tbody tr th:only-of-type {\n        vertical-align: middle;\n    }\n\n    .dataframe tbody tr th {\n        vertical-align: top;\n    }\n\n    .dataframe thead th {\n        text-align: right;\n    }\n</style>\n<table border=\"1\" class=\"dataframe\">\n  <thead>\n    <tr style=\"text-align: right;\">\n      <th></th>\n      <th>id</th>\n      <th>submitdate</th>\n      <th>lastpage</th>\n      <th>startlanguage</th>\n      <th>seed</th>\n      <th>startdate</th>\n      <th>datestamp</th>\n      <th>Q00</th>\n      <th>Q01</th>\n      <th>MainQ01</th>\n      <th>...</th>\n      <th>interviewtime</th>\n      <th>groupTime57</th>\n      <th>Q00Time</th>\n      <th>Q01Time</th>\n      <th>groupTime59</th>\n      <th>MainQ01Time</th>\n      <th>MainQ02Time</th>\n      <th>groupTime58</th>\n      <th>ExtraQ01Time</th>\n      <th>ExtraQ02Time</th>\n    </tr>\n  </thead>\n  <tbody>\n    <tr>\n      <th>0</th>\n      <td>1</td>\n      <td>2023-05-08 15:13:33</td>\n      <td>1</td>\n      <td>en</td>\n      <td>1428982518</td>\n      <td>2023-05-08 15:02:53</td>\n      <td>2023-05-08 15:13:33</td>\n      <td>1</td>\n      <td>this is a test</td>\n      <td>AO01</td>\n      <td>...</td>\n      <td>837.45</td>\n      <td>None</td>\n      <td>None</td>\n      <td>None</td>\n      <td>None</td>\n      <td>None</td>\n      <td>None</td>\n      <td>None</td>\n      <td>None</td>\n      <td>None</td>\n    </tr>\n    <tr>\n      <th>1</th>\n      <td>2</td>\n      <td>2023-05-08 16:08:20</td>\n      <td>1</td>\n      <td>en</td>\n      <td>852861659</td>\n      <td>2023-05-08 16:08:09</td>\n      <td>2023-05-08 16:08:20</td>\n      <td>2</td>\n      <td>222</td>\n      <td>AO03</td>\n      <td>...</td>\n      <td>11.13</td>\n      <td>None</td>\n      <td>None</td>\n      <td>None</td>\n      <td>None</td>\n      <td>None</td>\n      <td>None</td>\n      <td>None</td>\n      <td>None</td>\n      <td>None</td>\n    </tr>\n    <tr>\n      <th>2</th>\n      <td>3</td>\n      <td>2023-05-08 16:09:06</td>\n      <td>1</td>\n      <td>en</td>\n      <td>632878730</td>\n      <td>2023-05-08 16:08:46</td>\n      <td>2023-05-08 16:09:06</td>\n      <td>1</td>\n      <td>222</td>\n      <td>AO02</td>\n      <td>...</td>\n      <td>19.89</td>\n      <td>None</td>\n      <td>None</td>\n      <td>None</td>\n      <td>None</td>\n      <td>None</td>\n      <td>None</td>\n      <td>None</td>\n      <td>None</td>\n      <td>None</td>\n    </tr>\n  </tbody>\n</table>\n<p>3 rows × 27 columns</p>\n</div>"
     },
     "execution_count": 3,
     "metadata": {},
     "output_type": "execute_result"
    }
   ],
   "source": [
    "fn = \"../../example_data/results-survey224783.csv\"\n",
    "\n",
    "df = pd.read_csv(fn, sep=';')\n",
    "df = df.fillna(\"None\")\n",
    "df\n"
   ],
   "metadata": {
    "collapsed": false
   }
  },
  {
   "cell_type": "markdown",
   "source": [
    "... or via the *limepy* python package."
   ],
   "metadata": {
    "collapsed": false
   }
  },
  {
   "cell_type": "code",
   "execution_count": 4,
   "outputs": [],
   "source": [
    "import limepy\n",
    "import getpass\n",
    "from io import StringIO\n",
    "\n",
    "pwd = getpass.getpass(\"LimeSurvey BeRichter Password: \")\n",
    "if pwd != '':\n",
    "    url = \"https://lgs-car.limesurvey.net/admin/remotecontrol\"\n",
    "    csv = limepy.download.get_responses(\n",
    "        base_url=url,\n",
    "        user_name=\"BeRichter\",\n",
    "        password=pwd,\n",
    "        user_id=1,\n",
    "        sid=224783\n",
    "    )\n",
    "    df = pd.read_csv(StringIO(csv), sep=';')\n",
    "    df = df.fillna(\"None\")\n",
    "    df\n",
    "else:\n",
    "    print(\"No password, no data.\")"
   ],
   "metadata": {
    "collapsed": false
   }
  },
  {
   "cell_type": "code",
   "execution_count": 5,
   "outputs": [],
   "source": [
    "#|export\n",
    "def get_responses(\n",
    "        *,\n",
    "        fn: FilePath | ReadCsvBuffer[bytes] | ReadCsvBuffer[str]|None = None,\n",
    "        online: dict|None = None\n",
    ") -> pd.DataFrame:\n",
    "    \"\"\"\n",
    "    Get LimeSurvey responses as pandas Dataframe providing a file or online download information.\n",
    "\n",
    "    Parameters\n",
    "    ----------\n",
    "    fn: str, path object or file-like object\n",
    "        Any pandas readable representation of the LimeSurvey response export file\n",
    "        (.csv, sep=';', answer and question codes).\n",
    "    online: dict\n",
    "        Dictionary of information required to download the responses via limepy:\n",
    "        * base_url -> limesurvey remote_control url\n",
    "        * user_name -> account name\n",
    "        * password\n",
    "        * user_id -> ID of account user (usually 1)\n",
    "        * sid -> Survey ID\n",
    "        Minimal information stored in *online is the base_url, other information will then be filled via user input promt.\n",
    "    Returns\n",
    "    -------\n",
    "    pd.Dataframe\n",
    "        parsed responses csv file\n",
    "    \"\"\"\n",
    "    if fn is not None:\n",
    "        filepath_or_buffer = fn\n",
    "    elif online is not None:\n",
    "        import limepy\n",
    "        import getpass\n",
    "        from io import StringIO\n",
    "        if \"base_url\" not in online:\n",
    "            raise ValueError\n",
    "        if \"user_name\" not in online:\n",
    "            online.update({'user_name': input(\"LimeSurvey Account Name: \")})\n",
    "        if \"password\" not in online:\n",
    "            online.update({'password': getpass.getpass(\"LimeSurvey Password: \")})\n",
    "        if \"user_id\" not in online:\n",
    "            online.update({\"user_id\": input(\"LimeSurvey User ID: \")})\n",
    "        if \"sid\" not in online:\n",
    "            online.update({'sid': input(\"LimeSurvey Survey ID: \")})\n",
    "\n",
    "        csv = limepy.download.get_responses(**online)\n",
    "        filepath_or_buffer = StringIO(csv)\n",
    "    else:\n",
    "        raise ValueError\n",
    "    df = pd.read_csv(filepath_or_buffer, sep=';')\n",
    "    df = df.fillna(\"None\")\n",
    "    return df"
   ],
   "metadata": {
    "collapsed": false
   }
  },
  {
   "cell_type": "code",
   "execution_count": 6,
   "outputs": [
    {
     "data": {
      "text/plain": "   id           submitdate  lastpage startlanguage        seed  \\\n0   1  2023-05-08 15:13:33         1            en  1428982518   \n1   2  2023-05-08 16:08:20         1            en   852861659   \n2   3  2023-05-08 16:09:06         1            en   632878730   \n\n             startdate            datestamp  Q00             Q01 MainQ01  \\\n0  2023-05-08 15:02:53  2023-05-08 15:13:33    1  this is a test    AO01   \n1  2023-05-08 16:08:09  2023-05-08 16:08:20    2             222    AO03   \n2  2023-05-08 16:08:46  2023-05-08 16:09:06    1             222    AO02   \n\n  MainQ01[comment] MainQ02 MainQ02[comment] ExtraQ01 ExtraQ01[comment]  \\\n0             None    AO02    testing notes     AO03              None   \n1             None    None             None     None              None   \n2             test    AO03             None     AO04              None   \n\n  ExtraQ02 ExtraQ02[comment]  \n0     AO01              None  \n1     None              None  \n2     AO02              None  ",
      "text/html": "<div>\n<style scoped>\n    .dataframe tbody tr th:only-of-type {\n        vertical-align: middle;\n    }\n\n    .dataframe tbody tr th {\n        vertical-align: top;\n    }\n\n    .dataframe thead th {\n        text-align: right;\n    }\n</style>\n<table border=\"1\" class=\"dataframe\">\n  <thead>\n    <tr style=\"text-align: right;\">\n      <th></th>\n      <th>id</th>\n      <th>submitdate</th>\n      <th>lastpage</th>\n      <th>startlanguage</th>\n      <th>seed</th>\n      <th>startdate</th>\n      <th>datestamp</th>\n      <th>Q00</th>\n      <th>Q01</th>\n      <th>MainQ01</th>\n      <th>MainQ01[comment]</th>\n      <th>MainQ02</th>\n      <th>MainQ02[comment]</th>\n      <th>ExtraQ01</th>\n      <th>ExtraQ01[comment]</th>\n      <th>ExtraQ02</th>\n      <th>ExtraQ02[comment]</th>\n    </tr>\n  </thead>\n  <tbody>\n    <tr>\n      <th>0</th>\n      <td>1</td>\n      <td>2023-05-08 15:13:33</td>\n      <td>1</td>\n      <td>en</td>\n      <td>1428982518</td>\n      <td>2023-05-08 15:02:53</td>\n      <td>2023-05-08 15:13:33</td>\n      <td>1</td>\n      <td>this is a test</td>\n      <td>AO01</td>\n      <td>None</td>\n      <td>AO02</td>\n      <td>testing notes</td>\n      <td>AO03</td>\n      <td>None</td>\n      <td>AO01</td>\n      <td>None</td>\n    </tr>\n    <tr>\n      <th>1</th>\n      <td>2</td>\n      <td>2023-05-08 16:08:20</td>\n      <td>1</td>\n      <td>en</td>\n      <td>852861659</td>\n      <td>2023-05-08 16:08:09</td>\n      <td>2023-05-08 16:08:20</td>\n      <td>2</td>\n      <td>222</td>\n      <td>AO03</td>\n      <td>None</td>\n      <td>None</td>\n      <td>None</td>\n      <td>None</td>\n      <td>None</td>\n      <td>None</td>\n      <td>None</td>\n    </tr>\n    <tr>\n      <th>2</th>\n      <td>3</td>\n      <td>2023-05-08 16:09:06</td>\n      <td>1</td>\n      <td>en</td>\n      <td>632878730</td>\n      <td>2023-05-08 16:08:46</td>\n      <td>2023-05-08 16:09:06</td>\n      <td>1</td>\n      <td>222</td>\n      <td>AO02</td>\n      <td>test</td>\n      <td>AO03</td>\n      <td>None</td>\n      <td>AO04</td>\n      <td>None</td>\n      <td>AO02</td>\n      <td>None</td>\n    </tr>\n  </tbody>\n</table>\n</div>"
     },
     "execution_count": 6,
     "metadata": {},
     "output_type": "execute_result"
    }
   ],
   "source": [
    "url = \"https://lgs-car.limesurvey.net/admin/remotecontrol\"\n",
    "get_responses(\n",
    "    online=dict(\n",
    "        base_url=url,\n",
    "        user_id=1,\n",
    "        sid=224783\n",
    "    )\n",
    ")"
   ],
   "metadata": {
    "collapsed": false
   }
  },
  {
   "cell_type": "markdown",
   "source": [
    "## Parse Responses to dict\n",
    "Maintenance Flags shall be parsed to a dictionary sorted by the PyrNet box number. The Survey reports are collected over the entire campaign. Therefore, consider only reports within a certain time interval around maintenance time (2 days) for quality flagging the measurement periode.\n",
    "\n",
    "Reports within +-2 days around maintenance time are considered, giving the opportunity for corrections within this time frame by issuing another response (or via insert in the website interface). For example, the first report at 1PM includes the quality marks and some notes. Later, if one want to add notes for this station or correct marks, another report can be filled. The Values will be updated by the parsing function:\n",
    "    * Valid Marks (not None) of the latest report within +-2days\n",
    "    * Notes of multiple reports are attached (separated by \";\") starting with the oldest report notes."
   ],
   "metadata": {
    "collapsed": false
   }
  },
  {
   "cell_type": "code",
   "execution_count": 7,
   "outputs": [],
   "source": [
    "#|export\n",
    "_pollution_marks = {\n",
    "    \"None\":4,\n",
    "    \"AO01\":0,\n",
    "    \"AO02\":1,\n",
    "    \"AO03\":2,\n",
    "    \"AO04\":3,\n",
    "}\n",
    "_alignment_marks = {\n",
    "    \"None\":4,\n",
    "    \"AO01\":0,\n",
    "    \"AO02\":1,\n",
    "    \"AO03\":2,\n",
    "}\n",
    "_note_keys = {\n",
    "    \"note_general\": \"Q01\",\n",
    "    \"note_align\": \"MainQ01[comment]\",\n",
    "    \"note_clean\": \"MainQ02[comment]\",\n",
    "    \"note_align2\": \"ExtraQ01[comment]\",\n",
    "    \"note_clean2\": \"ExtraQ02[comment]\",\n",
    "}\n",
    "_mark_keys = {\n",
    "    \"clean\": \"MainQ01\",\n",
    "    \"align\": \"MainQ02\",\n",
    "    \"clean2\": \"ExtraQ01\",\n",
    "    \"align2\": \"ExtraQ02\",\n",
    "}\n",
    "\n",
    "def parse_report(\n",
    "        df:  pd.DataFrame,\n",
    "        date_of_maintenance: float | dt.datetime | np.datetime64,\n",
    ") -> dict:\n",
    "    \"\"\"\n",
    "    User pandas.read_csv (sep=';') to parse the survey report.\n",
    "\n",
    "    Parameters\n",
    "    ----------\n",
    "   df: Dataframe\n",
    "        LimeSurvey response parsed as pandas Dataframe.\n",
    "    date_of_maintenance: float, datetime or datetime64\n",
    "        A representation of time. If float, interpreted as Julian day from 2000-01-01T12:00.\n",
    "    Returns\n",
    "    -------\n",
    "    dict\n",
    "        Dictionary storing maintenance flags and notes by PyrNet box number.\n",
    "    \"\"\"\n",
    "    date_of_maintenance = utils.to_datetime64(date_of_maintenance)\n",
    "\n",
    "    results = {}\n",
    "    for i in range(df.shape[0]):\n",
    "        # consider only reports +-2 days around date of maintenance\n",
    "        mdate = pd.to_datetime(df['datestamp'][i])\n",
    "        if np.abs(mdate - date_of_maintenance) > np.timedelta64(2,'D'):\n",
    "            continue\n",
    "\n",
    "        # store report in dictionary\n",
    "        box = int(df[\"Q00\"].values[i])\n",
    "        key = f\"{box:03d}\"\n",
    "        if key not in results:\n",
    "            # initialize marks\n",
    "            for mkey in _mark_keys:\n",
    "                results = assoc_in(results, [key,mkey], 4)\n",
    "            # initialize notes\n",
    "            for nkey in _note_keys:\n",
    "                results = assoc_in(results, [key,nkey], \"\")\n",
    "\n",
    "        # merge notes if multiple reports exist\n",
    "        for nkey in _note_keys:\n",
    "            new_note = df[_note_keys[nkey]].values[i]\n",
    "            update_note = (results[key][nkey]+'; '+new_note).strip('; ')\n",
    "            results = assoc_in(results, [key,nkey], update_note)\n",
    "\n",
    "        # update marks with most recent report if not None\n",
    "        for mkey in _mark_keys:\n",
    "            new_mark = df[_mark_keys[mkey]][i]\n",
    "            if new_mark==\"None\":\n",
    "                continue\n",
    "            if mkey.startswith(\"clean\"):\n",
    "                new_mark = _pollution_marks[new_mark]\n",
    "            else:\n",
    "                new_mark = _alignment_marks[new_mark]\n",
    "            results = assoc_in(results, [key,mkey], new_mark)\n",
    "    return results\n"
   ],
   "metadata": {
    "collapsed": false
   }
  },
  {
   "cell_type": "code",
   "execution_count": 8,
   "outputs": [
    {
     "data": {
      "text/plain": "{'001': {'clean': 1,\n  'align': 2,\n  'clean2': 3,\n  'align2': 1,\n  'note_general': 'this is a test; 222',\n  'note_align': 'None; test',\n  'note_clean': 'testing notes; None',\n  'note_align2': 'None; None',\n  'note_clean2': 'None; None'},\n '002': {'clean': 2,\n  'align': 4,\n  'clean2': 4,\n  'align2': 4,\n  'note_general': '222',\n  'note_align': 'None',\n  'note_clean': 'None',\n  'note_align2': 'None',\n  'note_clean2': 'None'}}"
     },
     "execution_count": 8,
     "metadata": {},
     "output_type": "execute_result"
    }
   ],
   "source": [
    "parse_report(df, np.datetime64(\"2023-05-08T12:00\"))"
   ],
   "metadata": {
    "collapsed": false
   }
  },
  {
   "cell_type": "markdown",
   "source": [
    "## Make aggregated quality flags\n",
    "Aggregate quality marks to a binary number according to CF-Convention section 3.5 for quality flags.\n",
    "\n",
    "QC flag binary representation, bits: XXYY  with:\n",
    "* XX - level - [00,01,10] - good, slight out of level, bad out of level\n",
    "* YY - clean - [00,01,10,11] good, slight-, moderate-, strong covered\n",
    "```\n",
    "flag_mask = '3b,3b,3b, 12b, 12b'\n",
    "flag_values = '1b, 2b, 3b, 4b, 8b '\n",
    "flag_meanings = \"\n",
    "    soiling_light\n",
    "    soiling_moderate\n",
    "    soiling_heavy\n",
    "    level_problematic\n",
    "    level_bad\"\n",
    "```\n"
   ],
   "metadata": {
    "collapsed": false
   }
  },
  {
   "cell_type": "code",
   "execution_count": 9,
   "outputs": [],
   "source": [
    "#|export\n",
    "def get_qcflag(qc_clean, qc_level):\n",
    "    \"\"\"\n",
    "    Aggregate quality flags.\n",
    "\n",
    "    Parameters\n",
    "    ----------\n",
    "    qc_clean: int\n",
    "        [0,1,2,3] [clean, slight-, moderate-, strong covered]\n",
    "    qc_level: int\n",
    "        [0,1,2] [good, slight misalignment, strong misalignment]\n",
    "\n",
    "    Returns\n",
    "    -------\n",
    "    int\n",
    "        aggregated quality flagg [0-11]\n",
    "    \"\"\"\n",
    "    qc = (qc_level<<2) + qc_clean\n",
    "    return qc\n"
   ],
   "metadata": {
    "collapsed": false
   }
  },
  {
   "cell_type": "code",
   "execution_count": 10,
   "outputs": [
    {
     "data": {
      "text/plain": "array([ 0,  5, 10, 11])"
     },
     "execution_count": 10,
     "metadata": {},
     "output_type": "execute_result"
    }
   ],
   "source": [
    "get_qcflag(np.array([0,1,2,3]),np.array([0,1,2,2]))\n"
   ],
   "metadata": {
    "collapsed": false
   }
  },
  {
   "cell_type": "markdown",
   "source": [
    "## Export module\n",
    "Requires *nbdev* to export and update the */lib/reports.py* module"
   ],
   "metadata": {
    "collapsed": false
   }
  },
  {
   "cell_type": "code",
   "execution_count": 11,
   "outputs": [],
   "source": [
    "#|eval: false\n",
    "import nbdev.export\n",
    "nbdev.export.nb_export('lib_reports.ipynb','../../lib')"
   ],
   "metadata": {
    "collapsed": false
   }
  }
 ],
 "metadata": {
  "kernelspec": {
   "display_name": "Python 3",
   "language": "python",
   "name": "python3"
  },
  "language_info": {
   "codemirror_mode": {
    "name": "ipython",
    "version": 2
   },
   "file_extension": ".py",
   "mimetype": "text/x-python",
   "name": "python",
   "nbconvert_exporter": "python",
   "pygments_lexer": "ipython2",
   "version": "2.7.6"
  }
 },
 "nbformat": 4,
 "nbformat_minor": 0
}
