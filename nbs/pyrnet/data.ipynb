{
 "cells": [
  {
   "cell_type": "code",
   "execution_count": 1,
   "outputs": [],
   "source": [
    "#|hide\n",
    "#|default_exp data"
   ],
   "metadata": {
    "collapsed": false
   }
  },
  {
   "cell_type": "markdown",
   "source": [
    "# Data level\n",
    "\n",
    "Reading and advance in data processing levels to be stored in netcdf database format.\n",
    "\n",
    "```{note}\n",
    "raw > l1a > l1b > l1c\n",
    "```"
   ],
   "metadata": {
    "collapsed": false
   }
  },
  {
   "cell_type": "code",
   "execution_count": 2,
   "outputs": [],
   "source": [
    "#|export\n",
    "import os\n",
    "import numpy as np\n",
    "import pandas as pd\n",
    "import xarray as xr\n",
    "import logging\n",
    "from toolz import assoc_in\n",
    "import pkg_resources as pkg_res\n",
    "import warnings\n",
    "\n",
    "from trosat import sunpos as sp\n",
    "\n",
    "import pyrnet as pyrnet_main\n",
    "pyrnet_version = pyrnet_main.__version__\n",
    "from pyrnet import pyrnet\n",
    "from pyrnet import utils as pyrutils\n",
    "from pyrnet import logger as pyrlogger\n",
    "from pyrnet import reports as pyrreports\n",
    "\n",
    "# logging setup\n",
    "logging.basicConfig(\n",
    "    filename='pyrnet.log',\n",
    "    encoding='utf-8',\n",
    "    level=logging.DEBUG,\n",
    "    format='%(asctime)s %(name)s %(levelname)s:%(message)s'\n",
    ")\n",
    "logger = logging.getLogger(__name__)"
   ],
   "metadata": {
    "collapsed": false,
    "ExecuteTime": {
     "end_time": "2023-06-27T06:54:50.218045800Z",
     "start_time": "2023-06-27T06:54:48.971590400Z"
    }
   }
  },
  {
   "cell_type": "code",
   "execution_count": 3,
   "outputs": [],
   "source": [
    "import matplotlib.pyplot as plt"
   ],
   "metadata": {
    "collapsed": false,
    "ExecuteTime": {
     "end_time": "2023-06-27T06:54:50.549528Z",
     "start_time": "2023-06-27T06:54:50.224051100Z"
    }
   }
  },
  {
   "cell_type": "markdown",
   "source": [
    "## netCDF dataset operations\n"
   ],
   "metadata": {
    "collapsed": false
   }
  },
  {
   "cell_type": "code",
   "execution_count": 4,
   "outputs": [],
   "source": [
    "#|export\n",
    "def update_coverage_meta(ds,timevar='time'):\n",
    "    \"\"\"Update global attributes related to geospatial and time coverage\n",
    "    \"\"\"\n",
    "    duration = ds[timevar].values[-1] - ds[timevar].values[0]\n",
    "    resolution = np.mean(np.diff(ds[timevar].values))\n",
    "    now = pd.to_datetime(np.datetime64(\"now\"))\n",
    "    gattrs = {\n",
    "        'date_created': now.isoformat(),\n",
    "        'geospatial_lat_min': np.nanmin(ds.lat.values),\n",
    "        'geospatial_lat_max': np.nanmax(ds.lat.values),\n",
    "        'geospatial_lat_units': 'degN',\n",
    "        'geospatial_lon_min': np.nanmin(ds.lon.values),\n",
    "        'geospatial_lon_max': np.nanmax(ds.lon.values),\n",
    "        'geospatial_lon_units': 'degE',\n",
    "        'time_coverage_start': pd.to_datetime(ds[timevar].values[0]).isoformat(),\n",
    "        'time_coverage_end': pd.to_datetime(ds[timevar].values[-1]).isoformat(),\n",
    "        'time_coverage_duration': pd.to_timedelta(duration).isoformat(),\n",
    "        'time_coverage_resolution': pd.to_timedelta(resolution).isoformat(),\n",
    "    }\n",
    "    ds.attrs.update(gattrs)\n",
    "    return ds\n"
   ],
   "metadata": {
    "collapsed": false,
    "ExecuteTime": {
     "end_time": "2023-06-27T06:54:50.561496200Z",
     "start_time": "2023-06-27T06:54:50.557108900Z"
    }
   }
  },
  {
   "cell_type": "code",
   "execution_count": 5,
   "outputs": [],
   "source": [
    "#|export\n",
    "def stretch_resolution(ds: xr.Dataset) -> xr.Dataset:\n",
    "    \"\"\" Stretch variable resolution to full integer size,\n",
    "    to not lose resolution after averaging ADC count data.\"\"\"\n",
    "    for var in ds:\n",
    "        if \"scale_factor\" not in ds[var].encoding:\n",
    "            continue\n",
    "        if \"valid_range\" not in ds[var].attrs:\n",
    "            continue\n",
    "        dtype = ds[var].encoding['dtype']\n",
    "        valid_range = ds[var].valid_range\n",
    "        int_limit = np.iinfo(dtype).max\n",
    "        scale_factor = ds[var].encoding['scale_factor']\n",
    "        scale_factor_mod = int((int_limit-1)/valid_range[1])\n",
    "        ds[var].encoding.update({\n",
    "            \"scale_factor\": scale_factor / scale_factor_mod,\n",
    "            \"_FillValue\": int_limit,\n",
    "        })\n",
    "        ds[var].attrs.update({\n",
    "            \"valid_range\": valid_range * scale_factor_mod\n",
    "        })\n",
    "    return ds"
   ],
   "metadata": {
    "collapsed": false,
    "ExecuteTime": {
     "end_time": "2023-06-27T06:54:50.570331200Z",
     "start_time": "2023-06-27T06:54:50.565647800Z"
    }
   }
  },
  {
   "cell_type": "code",
   "execution_count": 6,
   "outputs": [],
   "source": [
    "#|export\n",
    "def merge_ds(ds1,ds2):\n",
    "    \"\"\"Merge two datasets along the time dimension.\n",
    "    \"\"\"\n",
    "    if ds1.time.equals(ds2.time):\n",
    "        logging.info(\"Overwrite existing file.\")\n",
    "        return ds2\n",
    "    logging.info(\"Merge with existing file.\")\n",
    "\n",
    "    ## overwrite non time dependent variables\n",
    "    overwrite_vars = [ v for v in ds1 if \"time\" not in ds1[v].dims]\n",
    "\n",
    "    ## merge both datasets\n",
    "    ds_new=ds1.merge(ds2,compat='no_conflicts',overwrite_vars=overwrite_vars)\n",
    "\n",
    "    # add global coverage attributes\n",
    "    ds_new.attrs.update({'merged':1})\n",
    "\n",
    "    # add encoding again\n",
    "    ds_new = add_encoding(ds_new)\n",
    "    return ds_new"
   ],
   "metadata": {
    "collapsed": false,
    "ExecuteTime": {
     "end_time": "2023-06-27T06:54:50.614058800Z",
     "start_time": "2023-06-27T06:54:50.577926100Z"
    }
   }
  },
  {
   "cell_type": "code",
   "execution_count": 7,
   "outputs": [],
   "source": [
    "#|export\n",
    "def to_netcdf(ds,fname):\n",
    "    \"\"\"xarray to netcdf, but merge if exist\n",
    "    \"\"\"\n",
    "    # merge if necessary\n",
    "    if os.path.exists(fname):\n",
    "        ds1 = xr.open_dataset(fname)\n",
    "        ds = merge_ds(ds1,ds)\n",
    "        os.remove(fname)\n",
    "\n",
    "    # save to netCDF4\n",
    "    ds = update_coverage_meta(ds, timevar=\"time\")\n",
    "    ds.to_netcdf(fname,\n",
    "                 encoding={'time':{'dtype':'float64'}}) # for OpenDAP 2 compatibility"
   ],
   "metadata": {
    "collapsed": false,
    "ExecuteTime": {
     "end_time": "2023-06-27T06:54:50.614058800Z",
     "start_time": "2023-06-27T06:54:50.581433600Z"
    }
   }
  },
  {
   "cell_type": "markdown",
   "source": [
    "## Default config and nc encoding\n",
    "Parse default config and cfmeta, and merge with user condfig"
   ],
   "metadata": {
    "collapsed": false
   }
  },
  {
   "cell_type": "code",
   "execution_count": 8,
   "outputs": [],
   "source": [
    "#|export\n",
    "def get_config(config: dict|None = None) -> dict:\n",
    "    \"\"\"Read default config and merge with input config\n",
    "    \"\"\"\n",
    "\n",
    "    fn_config = pkg_res.resource_filename(\"pyrnet\", \"share/pyrnet_config.json\")\n",
    "    default_config = pyrutils.read_json(fn_config)\n",
    "    if config is None:\n",
    "        config = default_config\n",
    "    config = {**default_config, **config}\n",
    "\n",
    "    # add default files\n",
    "    cfiles = {\n",
    "        \"file_cfmeta\": \"share/pyrnet_cfmeta.json\",\n",
    "        \"file_calibration\": \"share/pyrnet_calibration.json\",\n",
    "        \"file_mapping\": \"share/pyrnet_station_map.json\",\n",
    "        \"file_gti_angles\": \"share/pyrnet_gti_angles.json\",\n",
    "        \"file_site\": \"share/pyrnet_sites.json\",\n",
    "    }\n",
    "    for fn in cfiles:\n",
    "        if config[fn] is None:\n",
    "            config[fn] =  pkg_res.resource_filename(\"pyrnet\", cfiles[fn])\n",
    "    return config\n",
    "\n",
    "def get_cfmeta(config: dict|None = None) -> dict:\n",
    "    \"\"\"Read global and variable attributes and encoding from cfmeta.json\n",
    "    \"\"\"\n",
    "    config= get_config(config)\n",
    "    # parse the json file\n",
    "    cfdict = pyrutils.read_json(config[\"file_cfmeta\"])\n",
    "    # get global attributes:\n",
    "    gattrs = cfdict['attributes']\n",
    "    # apply config\n",
    "    gattrs = {k:v.format_map(config) for k,v in gattrs.items()}\n",
    "    # get variable attributes\n",
    "    d = pyrutils.get_var_attrs(cfdict)\n",
    "    # split encoding attributes\n",
    "    vattrs, vencode = pyrutils.get_attrs_enc(d)\n",
    "    return gattrs ,vattrs, vencode\n"
   ],
   "metadata": {
    "collapsed": false,
    "ExecuteTime": {
     "end_time": "2023-06-27T06:54:50.614058800Z",
     "start_time": "2023-06-27T06:54:50.597386500Z"
    }
   }
  },
  {
   "cell_type": "markdown",
   "source": [
    "## Encoding\n",
    "The encoding attributes are defined within the file PyrNet/share/pyrnet_cfmeta.json per default.\n",
    "\n",
    "The netcdf packing of data is realized via the two attributes *scale_factor* and *add_offset*:\n",
    "  ```unpacked_variable = scale_factor * packed_variable + add_offset```"
   ],
   "metadata": {
    "collapsed": false
   }
  },
  {
   "cell_type": "code",
   "execution_count": 9,
   "outputs": [
    {
     "data": {
      "text/plain": "{'attributes': {'title': 'TROPOS pyranometer network (PyrNet) observations',\n  'institution': 'Leibniz Institute for Tropospheric Research (TROPOS)',\n  'department': 'Remote Sensing of Atmospheric Processes',\n  'department_team': 'Clouds, Aerosol and Radiation',\n  'address': 'Permoser Str. 15, 04318 Leipzig, Germany',\n  'source': 'TROPOS pyranometer network (PyrNet)',\n  'contact_person': 'Andreas Macke and the clouds, aerosol and radiation team of the remote sensing department, mailto:andreas.macke@tropos.de',\n  'contributor_name': '{contributor_name}',\n  'contributor_role': '{contributor_role}',\n  'authors_software': 'Hartwig Deneke, Jonas Witthuhn, mailto:deneke@tropos.de',\n  'creator_name': '{creator_name}',\n  'project': '{project}',\n  'references': 'https://doi.org/10.5194/amt-9-1153-2016',\n  'standard_name_vocabulary': 'CF Standard Name Table v81',\n  'conventions': 'CF-1.10, ACDD-1.3',\n  'license': 'CC-BY-SA 3.0'},\n 'variables': {'ta': {'type': 'u2',\n   'attributes': {'units': 'K',\n    'long_name': 'air temperature',\n    'standard_name': 'air_temperature',\n    'scale_factor': 0.12903225806451613,\n    'add_offset': 253.15,\n    '_FillValue': 65535,\n    'valid_range': [0, 775],\n    'zlib': True}},\n  'rh': {'type': 'u2',\n   'attributes': {'units': '1',\n    'long_name': 'air relative humidity',\n    'standard_name': 'relative_humidity',\n    'scale_factor': 0.0012903225806451613,\n    'add_offset': 0.0,\n    'valid_range': [0, 775],\n    '_FillValue': 65535,\n    'zlib': True}},\n  'battery_voltage': {'type': 'u2',\n   'attributes': {'units': 'V',\n    'standard_name': 'battery_voltage',\n    'scale_factor': 0.0064516129032258064,\n    'add_offset': 0.0,\n    'valid_range': [0, 1023],\n    '_FillValue': 65535,\n    'zlib': True}},\n  'ghi': {'type': 'u2',\n   'attributes': {'units': 'V',\n    'long_name': 'downwelling shortwave flux',\n    'standard_name': 'downwelling_shortwave_flux_in_air',\n    'scale_factor': 1.075268817204301e-05,\n    'add_offset': 0.0,\n    'valid_range': [0, 1023],\n    '_FillValue': 65535,\n    'zlib': True}},\n  'gti': {'type': 'u2',\n   'attributes': {'units': 'V',\n    'long_name': 'downwelling shortwave flux measured on secondary platform, might be tilted',\n    'standard_name': 'downwelling_shortwave_flux_in_air',\n    'scale_factor': 1.075268817204301e-05,\n    'add_offset': 0.0,\n    'valid_range': [0, 1023],\n    '_FillValue': 65535,\n    'zlib': True}},\n  'station': {'type': 'u1',\n   'attributes': {'units': '-',\n    'long_name': 'PyrNet unit box number',\n    '_FillValue': 255,\n    'zlib': True}},\n  'szen': {'type': 'u2',\n   'attributes': {'standard_name': 'solar_zenith_angle',\n    'units': 'degree',\n    'scale_factor': 0.005,\n    'add_offset': 0.0,\n    'valid_range': [0, 36000],\n    '_FillValue': 65535,\n    'zlib': True}},\n  'sazi': {'type': 'u2',\n   'attributes': {'standard_name': 'solar_azimuth_angle',\n    'units': 'degree',\n    'scale_factor': 0.01,\n    'add_offset': 0.0,\n    'valid_range': [0, 36000],\n    '_FillValue': 65535,\n    'zlib': True}},\n  'esd': {'type': 'u2',\n   'attributes': {'standard_name': 'earth_sun_distance',\n    'units': 'AU',\n    'scale_factor': 1e-06,\n    'add_offset': 0.98,\n    'valid_range': [0, 40000],\n    '_FillValue': 65535,\n    'zlib': True}},\n  'ghi_qc': {'type': 'u1',\n   'attributes': {'standard_name': 'quality_flag',\n    'long_name': 'Maintenance quality control flags for main pyranometer',\n    'note': 'Soiling describes subjectively the coverage of the pyranometer dome with dirt. The level flag is problematic if the bubble of the spirit level touches the reference ring, and bad if it is outside.',\n    'valid_range': [0, 11],\n    'flag_masks': [3, 3, 3, 12, 12],\n    'flag_values': [1, 2, 3, 4, 8],\n    'flag_meanings': 'soiling_light soiling_moderate soiling_heavy level_problematic level_bad',\n    '_FillValue': 255,\n    'zlib': True}},\n  'gti_qc': {'type': 'u1',\n   'attributes': {'standard_name': 'quality_flag',\n    'long_name': 'Maintenance quality control flags for secondary pyranometer',\n    'note': 'Soiling describes subjectively the coverage of the pyranometer dome with dirt. The level flag is problematic if the bubble of the spirit level touches the reference ring, and bad if it is outside.',\n    'valid_range': [0, 11],\n    'flag_masks': [3, 3, 3, 12, 12],\n    'flag_values': [1, 2, 3, 4, 8],\n    'flag_meanings': 'soiling_light soiling_moderate soiling_heavy level_problematic level_bad',\n    '_FillValue': 255,\n    'zlib': True}},\n  'lat': {'type': 'u4',\n   'attributes': {'standard_name': 'latitude',\n    'units': 'degree_north',\n    'scale_factor': 1e-06,\n    'add_offset': -90,\n    'valid_range': [0, 180000000.0],\n    '_FillValue': 4294967295,\n    'zlib': True}},\n  'lon': {'type': 'u4',\n   'attributes': {'standard_name': 'longitude',\n    'units': 'degree_east',\n    'scale_factor': 1e-06,\n    'add_offset': -180,\n    'valid_range': [0, 360000000.0],\n    '_FillValue': 4294967295,\n    'zlib': True}},\n  'iadc': {'type': 'u4',\n   'attributes': {'standard_name': 'index',\n    'comment': 'index to map gps to adc records',\n    'units': '-',\n    '_FillValue': 4294967295,\n    'zlib': True}},\n  'adctime': {'type': 'u4',\n   'attributes': {'standard_name': 'time',\n    '_FillValue': 4294967295,\n    'zlib': True}}}}"
     },
     "execution_count": 9,
     "metadata": {},
     "output_type": "execute_result"
    }
   ],
   "source": [
    "#|dropcode\n",
    "#|dropout\n",
    "fn_cfjson = pkg_res.resource_filename(\"pyrnet\", \"share/pyrnet_cfmeta.json\")\n",
    "pyrutils.read_json(fn_cfjson)"
   ],
   "metadata": {
    "collapsed": false,
    "ExecuteTime": {
     "end_time": "2023-06-27T06:54:50.614058800Z",
     "start_time": "2023-06-27T06:54:50.598435600Z"
    }
   }
  },
  {
   "cell_type": "markdown",
   "source": [
    "### Irradiance values\n",
    "\n",
    "Irradiance values are stored as Voltage for later calibration. Assigning 1500Wm-2 as maximum measurable irradiance from the irradiance sensor. The maximum counts (*valid_max*) measured by the logger can be calculated by:\n",
    " * maximum counts = $\\mathrm{gain}*1500*\\mathrm{C_{max}}*1023/3.3$\n",
    "\n",
    "Most calibration factors are in the area of 7.5 uV/Wm-2, assuming $\\mathrm{C_{max}}=8$uV/Wm-2 for this estimate seems sufficient. All radiation sensors are amplified with a fixed gain of $\\mathrm{gain}=300$.\n",
    "\n",
    "Later (level 1c+) the scale factor will be instrument specific by adding the calibration from V to W m-2\n",
    "\n",
    "### Temperature and humidity\n",
    "\n",
    "\n",
    "Calibration coefficients for Temperature and Humidity DKRF-4000 series (discontinued) https://www.driesen-kern.de/downloads/produktlinie_feuchte.pdf are:\n",
    " * Temperature (T) range :-20-80 degC  from 0-5V\n",
    " * relative Humidity (rH) range: 0-100% from 0-5V\n",
    "\n",
    "As the logger ADC range is 0-3.3V with a 10bit resolution, the sensors are measured through a voltage splitting circuit. Therefore, the ADC counts have to be doubled.\n",
    " * Voltage U [V] = $2* 3.3/1023$ [counts]\n",
    " * T = $-20 + 100*(U/5)$ [degC] = $253.15 + 100*(U/5)$ [K]\n",
    " * rH = $(U/5)$  [%]  = $(U/5)$    [%]\n",
    "\n",
    "### Ancillary data\n",
    "\n",
    "* solar zenith angle (*szen*)\n",
    "    * valid range unpacked: (0,180) (deg)\n",
    "    * packing in u2 integer (unsigned 16bit)\n",
    "        * fill value = $2^{16} - 1$\n",
    "        * scale_factor = $180 /(2^{16}-2)$\n",
    "* solar azimuth angle (*sazi*)\n",
    "    * valid range unpacked: (0,360)\n",
    "    * packing in u2 integer (unsigned 16bit)\n",
    "        * fill_value = $2^{16} -1$\n",
    "        * scale_factor= $360 / (2^{16}-2)$\n",
    "* earth sun distance (*esd*)\n",
    "    * valid range unpacked: (0.98,1.02)\n",
    "    * packing in u2 integer (unsigned 16bit)\n",
    "        * fill_value = $2^{16} -1$\n",
    "        * scale_factor= $(1.02-0.98)/(2^{16}-2)$\n",
    "        * add_offset = 0.98\n"
   ],
   "metadata": {
    "collapsed": false
   }
  },
  {
   "cell_type": "code",
   "execution_count": 10,
   "outputs": [
    {
     "name": "stdout",
     "output_type": "stream",
     "text": [
      "ta scale_factor: 0.12903225806451613\n",
      "ta add_offset: 253.15\n",
      "ta valid_range: [0, 775]\n",
      "\n",
      "rh scale_factor: 0.0012903225806451613\n",
      "rh add_offset: 0\n",
      "rh valid_range: [0, 775]\n",
      "\n",
      "battery scale_factor: 0.0064516129032258064\n",
      "battery add_offset: 0\n",
      "battery valid_range: [0, 992]\n",
      "\n",
      "radflux scale_factor: 1.075268817204301e-05\n",
      "radflux add_offset: 0\n",
      "radflux valid_range: [0, 1023]\n",
      "\n",
      "scale_factor szen (deg): 0.005\n",
      "add_offset szen: 0.0 \n",
      "valid_range szen: [0, 36000]\n",
      "\n",
      "scale_factor sazi (deg): 0.01\n",
      "add_offset sazi: 0.0 \n",
      "valid_range sazi: [0, 36000]\n",
      "\n",
      "scale_factor esd (AU): 1.0000000000000008e-06\n",
      "add_offset esd: 0.98 \n",
      "valid_range esd: [0, 40000]\n",
      "\n",
      "scale_factor lat (degree_north): 1e-06\n",
      "add_offset lat (degree_north): -90.\n",
      "valid_range lat: [0, 180_000_000]\n",
      "\n",
      "scale_factor lon (degree_east): 1e-06\n",
      "add_offset lon (degree_east): -180.\n",
      "valid_range lon: [0, 360_000_000]\n",
      "\n"
     ]
    }
   ],
   "source": [
    "#|dropcode\n",
    "#|dropout\n",
    "sensor_config = {\n",
    "    \"ta\": {\n",
    "        \"C\": 100./5., # K/V\n",
    "        \"offset\": 253.15, # K at 0V\n",
    "        \"gain\": 0.5, # measured over voltage splitter\n",
    "        \"Vmax\": 5, # V output at sensor\n",
    "    },\n",
    "    \"rh\": {\n",
    "        \"C\": 1./5., # 1/V\n",
    "        \"offset\": 0, # 0 at 0V\n",
    "        \"gain\": 0.5, # measured over voltage splitter\n",
    "        \"Vmax\": 5, # V output at sensor\n",
    "    },\n",
    "    \"battery\": {\n",
    "        \"C\": 1., # V(batt)/V\n",
    "        \"offset\": 0, # V at 0V\n",
    "        \"gain\": 0.5, # measured over voltage splitter\n",
    "        \"Vmax\": 6.4, # V output at sensor\n",
    "    },\n",
    "    \"radflux\": {\n",
    "        \"C\": 1., # Vsensor/Vmeasured\n",
    "        \"offset\": 0, # V at 0V\n",
    "        \"gain\": 300, # amplified\n",
    "        \"Vmax\": 1500*8*1e-6, # V output at sensor\n",
    "    },\n",
    "}\n",
    "ADCfac = 3.3/1023. # V/counts\n",
    "for var in sensor_config:\n",
    "    sconf = sensor_config[var]\n",
    "    print(f\"{var} scale_factor: {sconf['C']*ADCfac/sconf['gain']}\")\n",
    "    print(f\"{var} add_offset: {sconf['offset']}\")\n",
    "    print(f\"{var} valid_range: [0, {min((1023, int(sconf['Vmax']*sconf['gain']/ADCfac)))}]\")\n",
    "    print()\n",
    "\n",
    "# szen encoding\n",
    "print(f\"scale_factor szen (deg): {180./(36_000)}\")\n",
    "print(f\"add_offset szen: 0.0 \")\n",
    "print(f\"valid_range szen: [0, {36_000}]\")\n",
    "print()\n",
    "# sazi encoding\n",
    "print(f\"scale_factor sazi (deg): {360./(36_000)}\")\n",
    "print(f\"add_offset sazi: 0.0 \")\n",
    "print(f\"valid_range sazi: [0, {36_000}]\")\n",
    "print()\n",
    "# esd encoding\n",
    "print(f\"scale_factor esd (AU): {(1.02-0.98)/(40_000)}\")\n",
    "print(f\"add_offset esd: 0.98 \")\n",
    "print(f\"valid_range esd: [0, {40_000}]\")\n",
    "print()\n",
    "# lat encoding\n",
    "print(f\"scale_factor lat (degree_north): {(90.-(-90.))/180_000_000}\")\n",
    "print(f\"add_offset lat (degree_north): -90.\")\n",
    "print(f\"valid_range lat: [0, 180_000_000]\")\n",
    "print()\n",
    "# lon encoding\n",
    "print(f\"scale_factor lon (degree_east): {(180.-(-180.))/360_000_000}\")\n",
    "print(f\"add_offset lon (degree_east): -180.\")\n",
    "print(f\"valid_range lon: [0, 360_000_000]\")\n",
    "print()"
   ],
   "metadata": {
    "collapsed": false,
    "ExecuteTime": {
     "end_time": "2023-06-27T06:54:50.637491900Z",
     "start_time": "2023-06-27T06:54:50.614058800Z"
    }
   }
  },
  {
   "cell_type": "code",
   "execution_count": 11,
   "outputs": [],
   "source": [
    "#|export\n",
    "def add_encoding(ds, vencode=None):\n",
    "    \"\"\"\n",
    "    Set valid_range attribute and encoding to every variable of the dataset.\n",
    "\n",
    "    Parameters\n",
    "    ----------\n",
    "    ds: xr.Dataset\n",
    "        Dataset of any processing level. The processing level will be\n",
    "        determined by the global attribute 'processing_level'.\n",
    "    vencode: dict or None\n",
    "        Dictionary of encoding attributes by variable name, will be merged with pyrnet default cfmeta. The default is None.\n",
    "\n",
    "    Returns\n",
    "    -------\n",
    "    xr.Dataset\n",
    "        The input dataset but with encoding and valid_range attribute.\n",
    "    \"\"\"\n",
    "    # prepare netcdf encoding\n",
    "    _, vattrs_default, vencode_default = get_cfmeta()\n",
    "\n",
    "    # Add valid range temporary to encoding dict.\n",
    "    # As valid_range is not implemented in xarray encoding,\n",
    "    #  it has to be stored as a variable attribute later.\n",
    "    for k in vencode_default:\n",
    "        if \"valid_range\" not in vencode_default[k]:\n",
    "            continue\n",
    "        vencode_default = assoc_in(vencode_default,\n",
    "                                   [k,'valid_range'],\n",
    "                                   vattrs_default['valid_range'])\n",
    "\n",
    "    # merge input and default with preference on input\n",
    "    if vencode is None:\n",
    "        vencode = vencode_default\n",
    "    else:\n",
    "        a = vencode_default.copy()\n",
    "        b = vencode.copy()\n",
    "        vencode = {}\n",
    "        for k in set(a)-set(b):\n",
    "            vencode.update({k:a[k]})\n",
    "        for k in set(a)&set(b):\n",
    "            vencode.update({k: {**a[k],**b[k]}})\n",
    "        for k in set(b)-set(a):\n",
    "            vencode.update({k:b[k]})\n",
    "\n",
    "    # add encoding to Dataset\n",
    "    for k, v in vencode.items():\n",
    "        if k not in ds.keys():\n",
    "            continue\n",
    "        ds[k].encoding = v\n",
    "        if \"valid_range\" not in vencode[k]:\n",
    "            continue\n",
    "        # add valid_range to variable attributes\n",
    "        ds[k].attrs.update({\n",
    "            'valid_range': vencode[k]['valid_range']\n",
    "        })\n",
    "\n",
    "    # special treatment of time and flux variables\n",
    "    if ds.processing_level=='l1a':\n",
    "        ds[\"gpstime\"].encoding.update({\n",
    "            \"dtype\": 'f8',\n",
    "            \"units\": f\"seconds since {np.datetime_as_string(ds.gpstime.data[0], unit='D')}T00:00Z\",\n",
    "        })\n",
    "        ds[\"adctime\"].encoding.update({\n",
    "            \"units\": f\"milliseconds\",\n",
    "        })\n",
    "    elif ds.processing_level == 'l1b':\n",
    "        ds = stretch_resolution(ds)\n",
    "        # special treatment for flux variables\n",
    "        for k in ['ghi', 'gti']:\n",
    "            if k not in ds:\n",
    "                continue\n",
    "            # add encoding\n",
    "            dtype = ds[k].encoding['dtype']\n",
    "            int_limit = np.iinfo(dtype).max\n",
    "            valid_range = [0, int_limit - 1]\n",
    "            scale_factor = 1500. / float(int_limit - 1)\n",
    "            ds[k].encoding.update({\n",
    "                \"scale_factor\": scale_factor,\n",
    "                \"_FillValue\": int_limit,\n",
    "            })\n",
    "            ds[k].attrs.update({\n",
    "                \"units\": \"W m-2\",\n",
    "                \"valid_range\": valid_range\n",
    "            })\n",
    "\n",
    "        ds[\"time\"].encoding.update({\n",
    "            \"dtype\": 'f8',\n",
    "            \"units\": f\"seconds since {np.datetime_as_string(ds.time.data[0], unit='D')}T00:00Z\",\n",
    "        })\n",
    "    else:\n",
    "        raise ValueError(\"Dataset has no 'processing_level' attribute.\")\n",
    "    return ds"
   ],
   "metadata": {
    "collapsed": false,
    "ExecuteTime": {
     "end_time": "2023-06-27T06:54:50.645040100Z",
     "start_time": "2023-06-27T06:54:50.637491900Z"
    }
   }
  },
  {
   "cell_type": "markdown",
   "source": [
    "## l1a\n",
    "Full resolution unprocessed, uncalibrated data. One data file corresponds to one maintenance period of one PyrNet station.\n",
    "\n",
    "Level *l1a* will be processed from the logger raw data with the following workflow:\n",
    "\n",
    "1. Parse raw logger file\n",
    "    * ```pyrnet.logger.read_records```\n",
    "1. Get maintenance logbook quality flags\n",
    "    * ```pyrnet.reports```\n",
    "1. Get metadata and encoding\n",
    "    * ```pyrnet_cfmeta_l1b.json```\n",
    "1. Make xarray Dataset\n",
    "1. Add variable and global attributes and encoding"
   ],
   "metadata": {
    "collapsed": false
   }
  },
  {
   "cell_type": "code",
   "execution_count": 12,
   "outputs": [],
   "source": [
    "#|export\n",
    "def to_l1a(\n",
    "        fname : str,\n",
    "        *,\n",
    "        station: int,\n",
    "        report: dict|pd.DataFrame|None,\n",
    "        date_of_measure : np.datetime64 = np.datetime64(\"now\"),\n",
    "        config: dict|None = None,\n",
    "        global_attrs: dict|None = None\n",
    ") -> xr.Dataset|None:\n",
    "    \"\"\"\n",
    "    Read logger raw file and parse it to xarray Dataset. Thereby, attributes and names are defined via cfmeta.json file and sun position values are calculated and added.\n",
    "\n",
    "    Parameters\n",
    "    ----------\n",
    "    fname: str\n",
    "        Path and filename of the raw logger file.\n",
    "    station: int\n",
    "        PyrNet station box number.\n",
    "    report: dict\n",
    "        Parsed maintenance report, see reports.ipynb\n",
    "    bins: int\n",
    "        Number of desired bins per day. The default is 86400, which result in\n",
    "        mean values of 1 second steps per day. Maximum resolution is 86400000.\n",
    "    date_of_measure: float, datetime or datetime64\n",
    "        A rough date of measure  to account for GPS week rollover. If measured in 2019, day resolution is recommended, before 2019 annual resolution, 2020 onwards not required. If float, interpreted as Julian day from 2000-01-01T12:00. the default is np.datetime64(\"now\").\n",
    "    config: dict\n",
    "        Stores processing specific configuration.\n",
    "            * cfjson -> path to cfmeta.json, the default is \"../share/pyrnet_cfmeta.json\"\n",
    "            * stripminutes -> number of minutes to be stripped from the data at start and end,\n",
    "                the default is 5.\n",
    "    global_attrs: dict\n",
    "        Additional global attributes for the Dataset. (Overrides cfmeta.json attributes)\n",
    "    Returns\n",
    "    -------\n",
    "    xarray.Dataset\n",
    "        Raw Logger data for one measurement periode.\n",
    "    \"\"\"\n",
    "    config = get_config(config)\n",
    "    gattrs, vattrs, vencode = get_cfmeta(config)\n",
    "\n",
    "    if global_attrs is not None:\n",
    "        gattrs.update(global_attrs)\n",
    "\n",
    "    date_of_measure = pyrutils.to_datetime64(date_of_measure)\n",
    "\n",
    "    # 1. Parse raw file\n",
    "    rec_adc, rec_gprmc = pyrlogger.read_records(fname=fname, date_of_measure=date_of_measure)\n",
    "\n",
    "    if type(rec_adc)==bool or len(rec_gprmc.time)<3:\n",
    "        logger.debug(\"Failed to load the data from the file, because of not enough stable GPS data, or file is empty.\")\n",
    "        return None\n",
    "\n",
    "    # Get ADC time\n",
    "    adctime = pyrlogger.get_adc_time(rec_adc)\n",
    "\n",
    "    # ADC to Volts\n",
    "    # Drop time and internal battery sensor output (columns 0 and 1)\n",
    "    adc_volts = 3.3 * rec_adc[:,2:] / 1023.\n",
    "\n",
    "    # 2. Get Logbook maintenance quality flags\n",
    "    key = f\"{station:03d}\"\n",
    "    if report is None:\n",
    "        logger.warning(\"No report available!\")\n",
    "        report = {}\n",
    "    if isinstance(report, pd.DataFrame):\n",
    "        logger.info(f\"Parsing report at date {rec_gprmc.time[-1]}\")\n",
    "        report = pyrreports.parse_report(report,\n",
    "                                date_of_maintenance=rec_gprmc.time[-1])\n",
    "\n",
    "    if key not in report:\n",
    "        logger.warning(f\"No report for station {station} available.\")\n",
    "        warnings.warn(f\"No report for station {station} available.\")\n",
    "        qc_main = pyrreports.get_qcflag(4,3)\n",
    "        qc_extra = pyrreports.get_qcflag(4,3)\n",
    "        vattrs = assoc_in(vattrs, [\"ghi_qc\",\"note_general\"], \"No maintenance report!\")\n",
    "        vattrs = assoc_in(vattrs, [\"gti_qc\",\"note_general\"], \"No maintenance report!\")\n",
    "    else:\n",
    "        qc_main = pyrreports.get_qcflag(\n",
    "            qc_clean=report[key]['clean'],\n",
    "            qc_level=report[key]['align']\n",
    "        )\n",
    "        qc_extra = pyrreports.get_qcflag(\n",
    "            qc_clean=report[key]['clean2'],\n",
    "            qc_level=report[key]['align2']\n",
    "        )\n",
    "        # add qc notes\n",
    "        vattrs = assoc_in(vattrs, [\"ghi_qc\",\"note_general\"], report[key][\"note_general\"])\n",
    "        vattrs = assoc_in(vattrs, [\"gti_qc\",\"note_general\"], report[key][\"note_general\"])\n",
    "        vattrs = assoc_in(vattrs, [\"ghi_qc\",\"note_clean\"], report[key][\"note_clean\"])\n",
    "        vattrs = assoc_in(vattrs, [\"gti_qc\",\"note_clean\"], report[key][\"note_clean2\"])\n",
    "        vattrs = assoc_in(vattrs, [\"ghi_qc\",\"note_level\"], report[key][\"note_align\"])\n",
    "        vattrs = assoc_in(vattrs, [\"gti_qc\",\"note_level\"], report[key][\"note_align2\"])\n",
    "\n",
    "    # 3. Add global meta data\n",
    "    now = pd.to_datetime(np.datetime64(\"now\"))\n",
    "    gattrs.update({\n",
    "        'processing_level': 'l1a',\n",
    "        'product_version': pyrnet_version,\n",
    "        'history': f'{now.isoformat()}: Generated level l1a  by pyrnet version {pyrnet_version}; ',\n",
    "    })\n",
    "    # add site information\n",
    "    if config['sites'] is not None:\n",
    "        sites = pyrutils.read_json(config['file_site'])[config['sites']]\n",
    "        if key in sites:\n",
    "            gattrs.update({ \"site\" : sites[key]})\n",
    "\n",
    "    # add gti angles\n",
    "    # default horizontal\n",
    "    vattrs = assoc_in(vattrs, [\"gti\",\"hangle\"], 0.)\n",
    "    vattrs = assoc_in(vattrs, [\"gti\",\"vangle\"], 0.)\n",
    "    # update with angles from mapping file\n",
    "    if config['gti_angles'] is not None:\n",
    "        gti_angles = pyrutils.read_json(config['file_gti_angles'])[config['gti_angles']]\n",
    "        if key in gti_angles:\n",
    "            hangle = np.nan if gti_angles[key][0] is None else gti_angles[key][0]\n",
    "            vangle = np.nan if gti_angles[key][1] is None else gti_angles[key][1]\n",
    "            vattrs = assoc_in(vattrs, [\"gti\",\"hangle\"], hangle)\n",
    "            vattrs = assoc_in(vattrs, [\"gti\",\"vangle\"], vangle)\n",
    "\n",
    "    if adc_volts.shape[1]<5: # gti data is not available\n",
    "        adc_volts = np.concatenate((adc_volts,-1*np.ones(adc_volts.shape[0])[:,None]),axis=1)\n",
    "\n",
    "    # 8. Make xarray Dataset\n",
    "    ds = xr.Dataset(\n",
    "        data_vars={\n",
    "            \"ghi\": ((\"adctime\",\"station\"), adc_volts[:,2][:,None] / 300.), # [V]\n",
    "            \"gti\": ((\"adctime\",\"station\"), adc_volts[:,4][:,None] / 300.), # [V]\n",
    "            \"ta\": ((\"adctime\",\"station\"), 253.15 + 20.*2.*adc_volts[:,0][:,None]), # [K]\n",
    "            \"rh\": ((\"adctime\",\"station\"), 0.2*2.*adc_volts[:,1][:,None]), # [-]\n",
    "            \"battery_voltage\": ((\"adctime\",\"station\"), 2.*adc_volts[:,3][:,None]), # [V]\n",
    "            \"lat\": ((\"gpstime\",\"station\"), rec_gprmc.lat[:,None]), # [degN]\n",
    "            \"lon\": ((\"gpstime\",\"station\"), rec_gprmc.lon[:,None]), # [degE]\n",
    "            \"ghi_qc\": (\"station\", [qc_main]),\n",
    "            \"gti_qc\": (\"station\", [qc_extra]),\n",
    "            \"iadc\": ((\"gpstime\", \"station\"), rec_gprmc.iadc[:,None])\n",
    "        },\n",
    "        coords={\n",
    "            \"adctime\": (\"adctime\", adctime.astype('timedelta64[ns]')),\n",
    "            \"gpstime\": (\"gpstime\", rec_gprmc.time.astype('datetime64[ns]')),\n",
    "            \"station\": (\"station\", [station]),\n",
    "        },\n",
    "        attrs=gattrs\n",
    "    )\n",
    "\n",
    "    # drop ocurance of douplicate gps values\n",
    "    ds = ds.drop_duplicates(\"gpstime\")\n",
    "\n",
    "    # add global coverage attributes\n",
    "    ds = update_coverage_meta(ds, timevar=\"gpstime\")\n",
    "\n",
    "    # add attributes to Dataset\n",
    "    for k,v in vattrs.items():\n",
    "        if k not in ds.keys():\n",
    "            continue\n",
    "        ds[k].attrs = v\n",
    "\n",
    "    # add encoding to Dataset\n",
    "    ds = add_encoding(ds, vencode)\n",
    "\n",
    "    return ds"
   ],
   "metadata": {
    "collapsed": false,
    "ExecuteTime": {
     "end_time": "2023-06-27T06:54:50.739763500Z",
     "start_time": "2023-06-27T06:54:50.657201900Z"
    }
   }
  },
  {
   "cell_type": "code",
   "execution_count": 13,
   "outputs": [
    {
     "data": {
      "text/plain": "<xarray.Dataset>\nDimensions:          (adctime: 77, station: 1, gpstime: 5)\nCoordinates:\n  * adctime          (adctime) timedelta64[ns] 00:00:00 ... 00:00:07.600000\n  * gpstime          (gpstime) datetime64[ns] 2022-08-30T11:21:04.065000 ... ...\n  * station          (station) int64 1\nData variables:\n    ghi              (adctime, station) float64 0.002086 0.002086 ... 0.002086\n    gti              (adctime, station) float64 0.001935 0.001935 ... 0.001935\n    ta               (adctime, station) float64 294.7 294.7 ... 294.8 295.0\n    rh               (adctime, station) float64 0.6245 0.6245 ... 0.6297 0.6297\n    battery_voltage  (adctime, station) float64 6.452 6.439 ... 6.465 6.452\n    lat              (gpstime, station) float64 51.39 51.39 51.39 51.39 51.39\n    lon              (gpstime, station) float64 11.89 11.89 11.89 11.89 11.89\n    ghi_qc           (station) int64 9\n    gti_qc           (station) int64 7\n    iadc             (gpstime, station) uint32 26 35 54 64 74\nAttributes: (12/31)\n    title:                     TROPOS pyranometer network (PyrNet) observations\n    institution:               Leibniz Institute for Tropospheric Research (T...\n    department:                Remote Sensing of Atmospheric Processes\n    department_team:           Clouds, Aerosol and Radiation\n    address:                   Permoser Str. 15, 04318 Leipzig, Germany\n    source:                    TROPOS pyranometer network (PyrNet)\n    ...                        ...\n    geospatial_lon_max:        11.885256666666667\n    geospatial_lon_units:      degE\n    time_coverage_start:       2022-08-30T11:21:04.065000\n    time_coverage_end:         2022-08-30T11:21:09\n    time_coverage_duration:    P0DT0H0M4.935S\n    time_coverage_resolution:  P0DT0H0M1.23375S",
      "text/html": "<div><svg style=\"position: absolute; width: 0; height: 0; overflow: hidden\">\n<defs>\n<symbol id=\"icon-database\" viewBox=\"0 0 32 32\">\n<path d=\"M16 0c-8.837 0-16 2.239-16 5v4c0 2.761 7.163 5 16 5s16-2.239 16-5v-4c0-2.761-7.163-5-16-5z\"></path>\n<path d=\"M16 17c-8.837 0-16-2.239-16-5v6c0 2.761 7.163 5 16 5s16-2.239 16-5v-6c0 2.761-7.163 5-16 5z\"></path>\n<path d=\"M16 26c-8.837 0-16-2.239-16-5v6c0 2.761 7.163 5 16 5s16-2.239 16-5v-6c0 2.761-7.163 5-16 5z\"></path>\n</symbol>\n<symbol id=\"icon-file-text2\" viewBox=\"0 0 32 32\">\n<path d=\"M28.681 7.159c-0.694-0.947-1.662-2.053-2.724-3.116s-2.169-2.030-3.116-2.724c-1.612-1.182-2.393-1.319-2.841-1.319h-15.5c-1.378 0-2.5 1.121-2.5 2.5v27c0 1.378 1.122 2.5 2.5 2.5h23c1.378 0 2.5-1.122 2.5-2.5v-19.5c0-0.448-0.137-1.23-1.319-2.841zM24.543 5.457c0.959 0.959 1.712 1.825 2.268 2.543h-4.811v-4.811c0.718 0.556 1.584 1.309 2.543 2.268zM28 29.5c0 0.271-0.229 0.5-0.5 0.5h-23c-0.271 0-0.5-0.229-0.5-0.5v-27c0-0.271 0.229-0.5 0.5-0.5 0 0 15.499-0 15.5 0v7c0 0.552 0.448 1 1 1h7v19.5z\"></path>\n<path d=\"M23 26h-14c-0.552 0-1-0.448-1-1s0.448-1 1-1h14c0.552 0 1 0.448 1 1s-0.448 1-1 1z\"></path>\n<path d=\"M23 22h-14c-0.552 0-1-0.448-1-1s0.448-1 1-1h14c0.552 0 1 0.448 1 1s-0.448 1-1 1z\"></path>\n<path d=\"M23 18h-14c-0.552 0-1-0.448-1-1s0.448-1 1-1h14c0.552 0 1 0.448 1 1s-0.448 1-1 1z\"></path>\n</symbol>\n</defs>\n</svg>\n<style>/* CSS stylesheet for displaying xarray objects in jupyterlab.\n *\n */\n\n:root {\n  --xr-font-color0: var(--jp-content-font-color0, rgba(0, 0, 0, 1));\n  --xr-font-color2: var(--jp-content-font-color2, rgba(0, 0, 0, 0.54));\n  --xr-font-color3: var(--jp-content-font-color3, rgba(0, 0, 0, 0.38));\n  --xr-border-color: var(--jp-border-color2, #e0e0e0);\n  --xr-disabled-color: var(--jp-layout-color3, #bdbdbd);\n  --xr-background-color: var(--jp-layout-color0, white);\n  --xr-background-color-row-even: var(--jp-layout-color1, white);\n  --xr-background-color-row-odd: var(--jp-layout-color2, #eeeeee);\n}\n\nhtml[theme=dark],\nbody[data-theme=dark],\nbody.vscode-dark {\n  --xr-font-color0: rgba(255, 255, 255, 1);\n  --xr-font-color2: rgba(255, 255, 255, 0.54);\n  --xr-font-color3: rgba(255, 255, 255, 0.38);\n  --xr-border-color: #1F1F1F;\n  --xr-disabled-color: #515151;\n  --xr-background-color: #111111;\n  --xr-background-color-row-even: #111111;\n  --xr-background-color-row-odd: #313131;\n}\n\n.xr-wrap {\n  display: block !important;\n  min-width: 300px;\n  max-width: 700px;\n}\n\n.xr-text-repr-fallback {\n  /* fallback to plain text repr when CSS is not injected (untrusted notebook) */\n  display: none;\n}\n\n.xr-header {\n  padding-top: 6px;\n  padding-bottom: 6px;\n  margin-bottom: 4px;\n  border-bottom: solid 1px var(--xr-border-color);\n}\n\n.xr-header > div,\n.xr-header > ul {\n  display: inline;\n  margin-top: 0;\n  margin-bottom: 0;\n}\n\n.xr-obj-type,\n.xr-array-name {\n  margin-left: 2px;\n  margin-right: 10px;\n}\n\n.xr-obj-type {\n  color: var(--xr-font-color2);\n}\n\n.xr-sections {\n  padding-left: 0 !important;\n  display: grid;\n  grid-template-columns: 150px auto auto 1fr 20px 20px;\n}\n\n.xr-section-item {\n  display: contents;\n}\n\n.xr-section-item input {\n  display: none;\n}\n\n.xr-section-item input + label {\n  color: var(--xr-disabled-color);\n}\n\n.xr-section-item input:enabled + label {\n  cursor: pointer;\n  color: var(--xr-font-color2);\n}\n\n.xr-section-item input:enabled + label:hover {\n  color: var(--xr-font-color0);\n}\n\n.xr-section-summary {\n  grid-column: 1;\n  color: var(--xr-font-color2);\n  font-weight: 500;\n}\n\n.xr-section-summary > span {\n  display: inline-block;\n  padding-left: 0.5em;\n}\n\n.xr-section-summary-in:disabled + label {\n  color: var(--xr-font-color2);\n}\n\n.xr-section-summary-in + label:before {\n  display: inline-block;\n  content: '►';\n  font-size: 11px;\n  width: 15px;\n  text-align: center;\n}\n\n.xr-section-summary-in:disabled + label:before {\n  color: var(--xr-disabled-color);\n}\n\n.xr-section-summary-in:checked + label:before {\n  content: '▼';\n}\n\n.xr-section-summary-in:checked + label > span {\n  display: none;\n}\n\n.xr-section-summary,\n.xr-section-inline-details {\n  padding-top: 4px;\n  padding-bottom: 4px;\n}\n\n.xr-section-inline-details {\n  grid-column: 2 / -1;\n}\n\n.xr-section-details {\n  display: none;\n  grid-column: 1 / -1;\n  margin-bottom: 5px;\n}\n\n.xr-section-summary-in:checked ~ .xr-section-details {\n  display: contents;\n}\n\n.xr-array-wrap {\n  grid-column: 1 / -1;\n  display: grid;\n  grid-template-columns: 20px auto;\n}\n\n.xr-array-wrap > label {\n  grid-column: 1;\n  vertical-align: top;\n}\n\n.xr-preview {\n  color: var(--xr-font-color3);\n}\n\n.xr-array-preview,\n.xr-array-data {\n  padding: 0 5px !important;\n  grid-column: 2;\n}\n\n.xr-array-data,\n.xr-array-in:checked ~ .xr-array-preview {\n  display: none;\n}\n\n.xr-array-in:checked ~ .xr-array-data,\n.xr-array-preview {\n  display: inline-block;\n}\n\n.xr-dim-list {\n  display: inline-block !important;\n  list-style: none;\n  padding: 0 !important;\n  margin: 0;\n}\n\n.xr-dim-list li {\n  display: inline-block;\n  padding: 0;\n  margin: 0;\n}\n\n.xr-dim-list:before {\n  content: '(';\n}\n\n.xr-dim-list:after {\n  content: ')';\n}\n\n.xr-dim-list li:not(:last-child):after {\n  content: ',';\n  padding-right: 5px;\n}\n\n.xr-has-index {\n  font-weight: bold;\n}\n\n.xr-var-list,\n.xr-var-item {\n  display: contents;\n}\n\n.xr-var-item > div,\n.xr-var-item label,\n.xr-var-item > .xr-var-name span {\n  background-color: var(--xr-background-color-row-even);\n  margin-bottom: 0;\n}\n\n.xr-var-item > .xr-var-name:hover span {\n  padding-right: 5px;\n}\n\n.xr-var-list > li:nth-child(odd) > div,\n.xr-var-list > li:nth-child(odd) > label,\n.xr-var-list > li:nth-child(odd) > .xr-var-name span {\n  background-color: var(--xr-background-color-row-odd);\n}\n\n.xr-var-name {\n  grid-column: 1;\n}\n\n.xr-var-dims {\n  grid-column: 2;\n}\n\n.xr-var-dtype {\n  grid-column: 3;\n  text-align: right;\n  color: var(--xr-font-color2);\n}\n\n.xr-var-preview {\n  grid-column: 4;\n}\n\n.xr-index-preview {\n  grid-column: 2 / 5;\n  color: var(--xr-font-color2);\n}\n\n.xr-var-name,\n.xr-var-dims,\n.xr-var-dtype,\n.xr-preview,\n.xr-attrs dt {\n  white-space: nowrap;\n  overflow: hidden;\n  text-overflow: ellipsis;\n  padding-right: 10px;\n}\n\n.xr-var-name:hover,\n.xr-var-dims:hover,\n.xr-var-dtype:hover,\n.xr-attrs dt:hover {\n  overflow: visible;\n  width: auto;\n  z-index: 1;\n}\n\n.xr-var-attrs,\n.xr-var-data,\n.xr-index-data {\n  display: none;\n  background-color: var(--xr-background-color) !important;\n  padding-bottom: 5px !important;\n}\n\n.xr-var-attrs-in:checked ~ .xr-var-attrs,\n.xr-var-data-in:checked ~ .xr-var-data,\n.xr-index-data-in:checked ~ .xr-index-data {\n  display: block;\n}\n\n.xr-var-data > table {\n  float: right;\n}\n\n.xr-var-name span,\n.xr-var-data,\n.xr-index-name div,\n.xr-index-data,\n.xr-attrs {\n  padding-left: 25px !important;\n}\n\n.xr-attrs,\n.xr-var-attrs,\n.xr-var-data,\n.xr-index-data {\n  grid-column: 1 / -1;\n}\n\ndl.xr-attrs {\n  padding: 0;\n  margin: 0;\n  display: grid;\n  grid-template-columns: 125px auto;\n}\n\n.xr-attrs dt,\n.xr-attrs dd {\n  padding: 0;\n  margin: 0;\n  float: left;\n  padding-right: 10px;\n  width: auto;\n}\n\n.xr-attrs dt {\n  font-weight: normal;\n  grid-column: 1;\n}\n\n.xr-attrs dt:hover span {\n  display: inline-block;\n  background: var(--xr-background-color);\n  padding-right: 10px;\n}\n\n.xr-attrs dd {\n  grid-column: 2;\n  white-space: pre-wrap;\n  word-break: break-all;\n}\n\n.xr-icon-database,\n.xr-icon-file-text2,\n.xr-no-icon {\n  display: inline-block;\n  vertical-align: middle;\n  width: 1em;\n  height: 1.5em !important;\n  stroke-width: 0;\n  stroke: currentColor;\n  fill: currentColor;\n}\n</style><pre class='xr-text-repr-fallback'>&lt;xarray.Dataset&gt;\nDimensions:          (adctime: 77, station: 1, gpstime: 5)\nCoordinates:\n  * adctime          (adctime) timedelta64[ns] 00:00:00 ... 00:00:07.600000\n  * gpstime          (gpstime) datetime64[ns] 2022-08-30T11:21:04.065000 ... ...\n  * station          (station) int64 1\nData variables:\n    ghi              (adctime, station) float64 0.002086 0.002086 ... 0.002086\n    gti              (adctime, station) float64 0.001935 0.001935 ... 0.001935\n    ta               (adctime, station) float64 294.7 294.7 ... 294.8 295.0\n    rh               (adctime, station) float64 0.6245 0.6245 ... 0.6297 0.6297\n    battery_voltage  (adctime, station) float64 6.452 6.439 ... 6.465 6.452\n    lat              (gpstime, station) float64 51.39 51.39 51.39 51.39 51.39\n    lon              (gpstime, station) float64 11.89 11.89 11.89 11.89 11.89\n    ghi_qc           (station) int64 9\n    gti_qc           (station) int64 7\n    iadc             (gpstime, station) uint32 26 35 54 64 74\nAttributes: (12/31)\n    title:                     TROPOS pyranometer network (PyrNet) observations\n    institution:               Leibniz Institute for Tropospheric Research (T...\n    department:                Remote Sensing of Atmospheric Processes\n    department_team:           Clouds, Aerosol and Radiation\n    address:                   Permoser Str. 15, 04318 Leipzig, Germany\n    source:                    TROPOS pyranometer network (PyrNet)\n    ...                        ...\n    geospatial_lon_max:        11.885256666666667\n    geospatial_lon_units:      degE\n    time_coverage_start:       2022-08-30T11:21:04.065000\n    time_coverage_end:         2022-08-30T11:21:09\n    time_coverage_duration:    P0DT0H0M4.935S\n    time_coverage_resolution:  P0DT0H0M1.23375S</pre><div class='xr-wrap' style='display:none'><div class='xr-header'><div class='xr-obj-type'>xarray.Dataset</div></div><ul class='xr-sections'><li class='xr-section-item'><input id='section-e994ce6c-a9d6-4a85-9906-f60894cca7af' class='xr-section-summary-in' type='checkbox' disabled ><label for='section-e994ce6c-a9d6-4a85-9906-f60894cca7af' class='xr-section-summary'  title='Expand/collapse section'>Dimensions:</label><div class='xr-section-inline-details'><ul class='xr-dim-list'><li><span class='xr-has-index'>adctime</span>: 77</li><li><span class='xr-has-index'>station</span>: 1</li><li><span class='xr-has-index'>gpstime</span>: 5</li></ul></div><div class='xr-section-details'></div></li><li class='xr-section-item'><input id='section-53017b79-a20e-436e-a72d-19b20c4a4bc2' class='xr-section-summary-in' type='checkbox'  checked><label for='section-53017b79-a20e-436e-a72d-19b20c4a4bc2' class='xr-section-summary' >Coordinates: <span>(3)</span></label><div class='xr-section-inline-details'></div><div class='xr-section-details'><ul class='xr-var-list'><li class='xr-var-item'><div class='xr-var-name'><span class='xr-has-index'>adctime</span></div><div class='xr-var-dims'>(adctime)</div><div class='xr-var-dtype'>timedelta64[ns]</div><div class='xr-var-preview xr-preview'>00:00:00 ... 00:00:07.600000</div><input id='attrs-729845a3-e9e2-4010-831c-08b67236e58f' class='xr-var-attrs-in' type='checkbox' ><label for='attrs-729845a3-e9e2-4010-831c-08b67236e58f' title='Show/Hide attributes'><svg class='icon xr-icon-file-text2'><use xlink:href='#icon-file-text2'></use></svg></label><input id='data-dcd8e189-2476-47b8-8e8b-ab8c86333ce7' class='xr-var-data-in' type='checkbox'><label for='data-dcd8e189-2476-47b8-8e8b-ab8c86333ce7' title='Show/Hide data repr'><svg class='icon xr-icon-database'><use xlink:href='#icon-database'></use></svg></label><div class='xr-var-attrs'><dl class='xr-attrs'><dt><span>standard_name :</span></dt><dd>time</dd></dl></div><div class='xr-var-data'><pre>array([         0,  100000000,  200000000,  300000000,  400000000,  500000000,\n        600000000,  700000000,  800000000,  900000000, 1000000000, 1100000000,\n       1200000000, 1300000000, 1400000000, 1500000000, 1600000000, 1700000000,\n       1800000000, 1900000000, 2000000000, 2100000000, 2200000000, 2300000000,\n       2400000000, 2500000000, 2600000000, 2700000000, 2800000000, 2900000000,\n       3000000000, 3100000000, 3200000000, 3300000000, 3400000000, 3500000000,\n       3600000000, 3700000000, 3800000000, 3900000000, 4000000000, 4100000000,\n       4200000000, 4300000000, 4400000000, 4500000000, 4600000000, 4700000000,\n       4800000000, 4900000000, 5000000000, 5100000000, 5200000000, 5300000000,\n       5400000000, 5500000000, 5600000000, 5700000000, 5800000000, 5900000000,\n       6000000000, 6100000000, 6200000000, 6300000000, 6400000000, 6500000000,\n       6600000000, 6700000000, 6800000000, 6900000000, 7000000000, 7100000000,\n       7200000000, 7300000000, 7400000000, 7500000000, 7600000000],\n      dtype=&#x27;timedelta64[ns]&#x27;)</pre></div></li><li class='xr-var-item'><div class='xr-var-name'><span class='xr-has-index'>gpstime</span></div><div class='xr-var-dims'>(gpstime)</div><div class='xr-var-dtype'>datetime64[ns]</div><div class='xr-var-preview xr-preview'>2022-08-30T11:21:04.065000 ... 2...</div><input id='attrs-3614bd9c-b6d8-4c89-9c68-c526dca02714' class='xr-var-attrs-in' type='checkbox' disabled><label for='attrs-3614bd9c-b6d8-4c89-9c68-c526dca02714' title='Show/Hide attributes'><svg class='icon xr-icon-file-text2'><use xlink:href='#icon-file-text2'></use></svg></label><input id='data-fd2e2f3d-038c-486b-a4cb-56dcc558ba46' class='xr-var-data-in' type='checkbox'><label for='data-fd2e2f3d-038c-486b-a4cb-56dcc558ba46' title='Show/Hide data repr'><svg class='icon xr-icon-database'><use xlink:href='#icon-database'></use></svg></label><div class='xr-var-attrs'><dl class='xr-attrs'></dl></div><div class='xr-var-data'><pre>array([&#x27;2022-08-30T11:21:04.065000000&#x27;, &#x27;2022-08-30T11:21:05.065000000&#x27;,\n       &#x27;2022-08-30T11:21:07.000000000&#x27;, &#x27;2022-08-30T11:21:08.000000000&#x27;,\n       &#x27;2022-08-30T11:21:09.000000000&#x27;], dtype=&#x27;datetime64[ns]&#x27;)</pre></div></li><li class='xr-var-item'><div class='xr-var-name'><span class='xr-has-index'>station</span></div><div class='xr-var-dims'>(station)</div><div class='xr-var-dtype'>int64</div><div class='xr-var-preview xr-preview'>1</div><input id='attrs-0b5ae0ac-1097-42f6-a285-7a2e20c341dd' class='xr-var-attrs-in' type='checkbox' ><label for='attrs-0b5ae0ac-1097-42f6-a285-7a2e20c341dd' title='Show/Hide attributes'><svg class='icon xr-icon-file-text2'><use xlink:href='#icon-file-text2'></use></svg></label><input id='data-282d7dbf-4b58-41b7-90df-bf4dfebed6d9' class='xr-var-data-in' type='checkbox'><label for='data-282d7dbf-4b58-41b7-90df-bf4dfebed6d9' title='Show/Hide data repr'><svg class='icon xr-icon-database'><use xlink:href='#icon-database'></use></svg></label><div class='xr-var-attrs'><dl class='xr-attrs'><dt><span>units :</span></dt><dd>-</dd><dt><span>long_name :</span></dt><dd>PyrNet unit box number</dd></dl></div><div class='xr-var-data'><pre>array([1])</pre></div></li></ul></div></li><li class='xr-section-item'><input id='section-86f51cab-0649-4a9c-a9ea-b23e50ccf1fb' class='xr-section-summary-in' type='checkbox'  checked><label for='section-86f51cab-0649-4a9c-a9ea-b23e50ccf1fb' class='xr-section-summary' >Data variables: <span>(10)</span></label><div class='xr-section-inline-details'></div><div class='xr-section-details'><ul class='xr-var-list'><li class='xr-var-item'><div class='xr-var-name'><span>ghi</span></div><div class='xr-var-dims'>(adctime, station)</div><div class='xr-var-dtype'>float64</div><div class='xr-var-preview xr-preview'>0.002086 0.002086 ... 0.002086</div><input id='attrs-734e5ced-16a0-4cdb-bda2-d0ca7ed7c038' class='xr-var-attrs-in' type='checkbox' ><label for='attrs-734e5ced-16a0-4cdb-bda2-d0ca7ed7c038' title='Show/Hide attributes'><svg class='icon xr-icon-file-text2'><use xlink:href='#icon-file-text2'></use></svg></label><input id='data-a07d4767-2164-46d1-8cb9-e2088ba1281a' class='xr-var-data-in' type='checkbox'><label for='data-a07d4767-2164-46d1-8cb9-e2088ba1281a' title='Show/Hide data repr'><svg class='icon xr-icon-database'><use xlink:href='#icon-database'></use></svg></label><div class='xr-var-attrs'><dl class='xr-attrs'><dt><span>units :</span></dt><dd>V</dd><dt><span>long_name :</span></dt><dd>downwelling shortwave flux</dd><dt><span>standard_name :</span></dt><dd>downwelling_shortwave_flux_in_air</dd><dt><span>valid_range :</span></dt><dd>[0, 1023]</dd></dl></div><div class='xr-var-data'><pre>array([[0.00208602],\n       [0.00208602],\n       [0.00208602],\n       [0.00208602],\n       [0.00208602],\n       [0.00208602],\n       [0.00208602],\n       [0.00208602],\n       [0.00208602],\n       [0.00208602],\n       [0.00208602],\n       [0.00208602],\n       [0.00208602],\n       [0.00208602],\n       [0.00208602],\n       [0.00208602],\n       [0.00208602],\n       [0.00208602],\n       [0.00208602],\n       [0.00208602],\n...\n       [0.00207527],\n       [0.00208602],\n       [0.00208602],\n       [0.00208602],\n       [0.00208602],\n       [0.00208602],\n       [0.00208602],\n       [0.00208602],\n       [0.00208602],\n       [0.00208602],\n       [0.00208602],\n       [0.00208602],\n       [0.00208602],\n       [0.00208602],\n       [0.00208602],\n       [0.00208602],\n       [0.00208602],\n       [0.00208602],\n       [0.00208602],\n       [0.00208602]])</pre></div></li><li class='xr-var-item'><div class='xr-var-name'><span>gti</span></div><div class='xr-var-dims'>(adctime, station)</div><div class='xr-var-dtype'>float64</div><div class='xr-var-preview xr-preview'>0.001935 0.001935 ... 0.001935</div><input id='attrs-9706a688-3527-495c-a0a3-deb3a2834091' class='xr-var-attrs-in' type='checkbox' ><label for='attrs-9706a688-3527-495c-a0a3-deb3a2834091' title='Show/Hide attributes'><svg class='icon xr-icon-file-text2'><use xlink:href='#icon-file-text2'></use></svg></label><input id='data-6578822a-1d02-4383-a089-7a7461fe605b' class='xr-var-data-in' type='checkbox'><label for='data-6578822a-1d02-4383-a089-7a7461fe605b' title='Show/Hide data repr'><svg class='icon xr-icon-database'><use xlink:href='#icon-database'></use></svg></label><div class='xr-var-attrs'><dl class='xr-attrs'><dt><span>units :</span></dt><dd>V</dd><dt><span>long_name :</span></dt><dd>downwelling shortwave flux measured on secondary platform, might be tilted</dd><dt><span>standard_name :</span></dt><dd>downwelling_shortwave_flux_in_air</dd><dt><span>valid_range :</span></dt><dd>[0, 1023]</dd><dt><span>hangle :</span></dt><dd>0.0</dd><dt><span>vangle :</span></dt><dd>0.0</dd></dl></div><div class='xr-var-data'><pre>array([[0.00193548],\n       [0.00193548],\n       [0.00193548],\n       [0.00193548],\n       [0.00194624],\n       [0.00193548],\n       [0.00194624],\n       [0.00193548],\n       [0.00193548],\n       [0.00193548],\n       [0.00193548],\n       [0.00194624],\n       [0.00193548],\n       [0.00193548],\n       [0.00193548],\n       [0.00193548],\n       [0.00193548],\n       [0.00193548],\n       [0.00193548],\n       [0.00193548],\n...\n       [0.00193548],\n       [0.00193548],\n       [0.00193548],\n       [0.00193548],\n       [0.00193548],\n       [0.00193548],\n       [0.00192473],\n       [0.00192473],\n       [0.00193548],\n       [0.00193548],\n       [0.00193548],\n       [0.00193548],\n       [0.00193548],\n       [0.00193548],\n       [0.00193548],\n       [0.00193548],\n       [0.00193548],\n       [0.00193548],\n       [0.00194624],\n       [0.00193548]])</pre></div></li><li class='xr-var-item'><div class='xr-var-name'><span>ta</span></div><div class='xr-var-dims'>(adctime, station)</div><div class='xr-var-dtype'>float64</div><div class='xr-var-preview xr-preview'>294.7 294.7 294.7 ... 294.8 295.0</div><input id='attrs-f78e3f63-4818-4a40-b1cb-e4b943203b67' class='xr-var-attrs-in' type='checkbox' ><label for='attrs-f78e3f63-4818-4a40-b1cb-e4b943203b67' title='Show/Hide attributes'><svg class='icon xr-icon-file-text2'><use xlink:href='#icon-file-text2'></use></svg></label><input id='data-24a51ad7-a03e-4287-b545-8560f45276d4' class='xr-var-data-in' type='checkbox'><label for='data-24a51ad7-a03e-4287-b545-8560f45276d4' title='Show/Hide data repr'><svg class='icon xr-icon-database'><use xlink:href='#icon-database'></use></svg></label><div class='xr-var-attrs'><dl class='xr-attrs'><dt><span>units :</span></dt><dd>K</dd><dt><span>long_name :</span></dt><dd>air temperature</dd><dt><span>standard_name :</span></dt><dd>air_temperature</dd><dt><span>valid_range :</span></dt><dd>[0, 775]</dd></dl></div><div class='xr-var-data'><pre>array([[294.6983871 ],\n       [294.6983871 ],\n       [294.6983871 ],\n       [294.6983871 ],\n       [294.95645161],\n       [294.95645161],\n       [294.6983871 ],\n       [294.6983871 ],\n       [294.6983871 ],\n       [294.6983871 ],\n       [294.6983871 ],\n       [294.82741935],\n       [294.95645161],\n       [294.6983871 ],\n       [294.6983871 ],\n       [294.6983871 ],\n       [294.82741935],\n       [294.6983871 ],\n       [294.82741935],\n       [294.6983871 ],\n...\n       [294.82741935],\n       [294.95645161],\n       [294.6983871 ],\n       [294.6983871 ],\n       [294.82741935],\n       [294.6983871 ],\n       [294.82741935],\n       [294.95645161],\n       [294.6983871 ],\n       [294.6983871 ],\n       [294.6983871 ],\n       [294.82741935],\n       [294.6983871 ],\n       [294.82741935],\n       [294.6983871 ],\n       [294.6983871 ],\n       [294.6983871 ],\n       [294.6983871 ],\n       [294.82741935],\n       [294.95645161]])</pre></div></li><li class='xr-var-item'><div class='xr-var-name'><span>rh</span></div><div class='xr-var-dims'>(adctime, station)</div><div class='xr-var-dtype'>float64</div><div class='xr-var-preview xr-preview'>0.6245 0.6245 ... 0.6297 0.6297</div><input id='attrs-5d3215c1-026d-4aa2-8e6f-a54f04af1804' class='xr-var-attrs-in' type='checkbox' ><label for='attrs-5d3215c1-026d-4aa2-8e6f-a54f04af1804' title='Show/Hide attributes'><svg class='icon xr-icon-file-text2'><use xlink:href='#icon-file-text2'></use></svg></label><input id='data-fb278638-1192-4e89-aa09-6fbc834ce4b6' class='xr-var-data-in' type='checkbox'><label for='data-fb278638-1192-4e89-aa09-6fbc834ce4b6' title='Show/Hide data repr'><svg class='icon xr-icon-database'><use xlink:href='#icon-database'></use></svg></label><div class='xr-var-attrs'><dl class='xr-attrs'><dt><span>units :</span></dt><dd>1</dd><dt><span>long_name :</span></dt><dd>air relative humidity</dd><dt><span>standard_name :</span></dt><dd>relative_humidity</dd><dt><span>valid_range :</span></dt><dd>[0, 775]</dd></dl></div><div class='xr-var-data'><pre>array([[0.62451613],\n       [0.62451613],\n       [0.62451613],\n       [0.62580645],\n       [0.62580645],\n       [0.62580645],\n       [0.62451613],\n       [0.62451613],\n       [0.62451613],\n       [0.62451613],\n       [0.62580645],\n       [0.62709677],\n       [0.62451613],\n       [0.62322581],\n       [0.62451613],\n       [0.62451613],\n       [0.62451613],\n       [0.62580645],\n       [0.62709677],\n       [0.62451613],\n...\n       [0.62967742],\n       [0.6283871 ],\n       [0.62709677],\n       [0.62709677],\n       [0.62709677],\n       [0.62967742],\n       [0.62967742],\n       [0.62967742],\n       [0.62709677],\n       [0.62709677],\n       [0.6283871 ],\n       [0.6283871 ],\n       [0.62967742],\n       [0.62967742],\n       [0.62709677],\n       [0.62709677],\n       [0.62709677],\n       [0.6283871 ],\n       [0.62967742],\n       [0.62967742]])</pre></div></li><li class='xr-var-item'><div class='xr-var-name'><span>battery_voltage</span></div><div class='xr-var-dims'>(adctime, station)</div><div class='xr-var-dtype'>float64</div><div class='xr-var-preview xr-preview'>6.452 6.439 6.445 ... 6.465 6.452</div><input id='attrs-a60195c0-5b56-4a44-9115-33ad90572e5a' class='xr-var-attrs-in' type='checkbox' ><label for='attrs-a60195c0-5b56-4a44-9115-33ad90572e5a' title='Show/Hide attributes'><svg class='icon xr-icon-file-text2'><use xlink:href='#icon-file-text2'></use></svg></label><input id='data-34cce182-cf93-4347-83b1-8829112870dd' class='xr-var-data-in' type='checkbox'><label for='data-34cce182-cf93-4347-83b1-8829112870dd' title='Show/Hide data repr'><svg class='icon xr-icon-database'><use xlink:href='#icon-database'></use></svg></label><div class='xr-var-attrs'><dl class='xr-attrs'><dt><span>units :</span></dt><dd>V</dd><dt><span>standard_name :</span></dt><dd>battery_voltage</dd><dt><span>valid_range :</span></dt><dd>[0, 1023]</dd></dl></div><div class='xr-var-data'><pre>array([[6.4516129 ],\n       [6.43870968],\n       [6.44516129],\n       [6.4516129 ],\n       [6.43870968],\n       [6.43870968],\n       [6.4516129 ],\n       [6.44516129],\n       [6.43870968],\n       [6.4516129 ],\n       [6.44516129],\n       [6.4516129 ],\n       [6.43870968],\n       [6.43870968],\n       [6.43870968],\n       [6.4516129 ],\n       [6.43870968],\n       [6.44516129],\n       [6.44516129],\n       [6.43870968],\n...\n       [6.45806452],\n       [6.43870968],\n       [6.43870968],\n       [6.44516129],\n       [6.43225806],\n       [6.43870968],\n       [6.44516129],\n       [6.4516129 ],\n       [6.46451613],\n       [6.4516129 ],\n       [6.46451613],\n       [6.4516129 ],\n       [6.4516129 ],\n       [6.43870968],\n       [6.43870968],\n       [6.43225806],\n       [6.4516129 ],\n       [6.46451613],\n       [6.46451613],\n       [6.4516129 ]])</pre></div></li><li class='xr-var-item'><div class='xr-var-name'><span>lat</span></div><div class='xr-var-dims'>(gpstime, station)</div><div class='xr-var-dtype'>float64</div><div class='xr-var-preview xr-preview'>51.39 51.39 51.39 51.39 51.39</div><input id='attrs-5ba01a64-4469-4b64-9b10-b6cf83bb4390' class='xr-var-attrs-in' type='checkbox' ><label for='attrs-5ba01a64-4469-4b64-9b10-b6cf83bb4390' title='Show/Hide attributes'><svg class='icon xr-icon-file-text2'><use xlink:href='#icon-file-text2'></use></svg></label><input id='data-4276c88f-7519-4dd5-8483-561c46a56702' class='xr-var-data-in' type='checkbox'><label for='data-4276c88f-7519-4dd5-8483-561c46a56702' title='Show/Hide data repr'><svg class='icon xr-icon-database'><use xlink:href='#icon-database'></use></svg></label><div class='xr-var-attrs'><dl class='xr-attrs'><dt><span>standard_name :</span></dt><dd>latitude</dd><dt><span>units :</span></dt><dd>degree_north</dd><dt><span>valid_range :</span></dt><dd>[0, 180000000.0]</dd></dl></div><div class='xr-var-data'><pre>array([[51.39021167],\n       [51.39021167],\n       [51.39021   ],\n       [51.39021   ],\n       [51.39020833]])</pre></div></li><li class='xr-var-item'><div class='xr-var-name'><span>lon</span></div><div class='xr-var-dims'>(gpstime, station)</div><div class='xr-var-dtype'>float64</div><div class='xr-var-preview xr-preview'>11.89 11.89 11.89 11.89 11.89</div><input id='attrs-9a02d57a-b94f-4092-a7be-be3ffc964402' class='xr-var-attrs-in' type='checkbox' ><label for='attrs-9a02d57a-b94f-4092-a7be-be3ffc964402' title='Show/Hide attributes'><svg class='icon xr-icon-file-text2'><use xlink:href='#icon-file-text2'></use></svg></label><input id='data-cb224fee-eed6-45c4-97d7-3cbc86211afb' class='xr-var-data-in' type='checkbox'><label for='data-cb224fee-eed6-45c4-97d7-3cbc86211afb' title='Show/Hide data repr'><svg class='icon xr-icon-database'><use xlink:href='#icon-database'></use></svg></label><div class='xr-var-attrs'><dl class='xr-attrs'><dt><span>standard_name :</span></dt><dd>longitude</dd><dt><span>units :</span></dt><dd>degree_east</dd><dt><span>valid_range :</span></dt><dd>[0, 360000000.0]</dd></dl></div><div class='xr-var-data'><pre>array([[11.885255  ],\n       [11.88525667],\n       [11.88525167],\n       [11.88525   ],\n       [11.88524667]])</pre></div></li><li class='xr-var-item'><div class='xr-var-name'><span>ghi_qc</span></div><div class='xr-var-dims'>(station)</div><div class='xr-var-dtype'>int64</div><div class='xr-var-preview xr-preview'>9</div><input id='attrs-71c7585c-de87-4ef0-a6c6-ef2dacfc0fba' class='xr-var-attrs-in' type='checkbox' ><label for='attrs-71c7585c-de87-4ef0-a6c6-ef2dacfc0fba' title='Show/Hide attributes'><svg class='icon xr-icon-file-text2'><use xlink:href='#icon-file-text2'></use></svg></label><input id='data-8c64d5b7-2dd5-4c44-9625-1b848349e580' class='xr-var-data-in' type='checkbox'><label for='data-8c64d5b7-2dd5-4c44-9625-1b848349e580' title='Show/Hide data repr'><svg class='icon xr-icon-database'><use xlink:href='#icon-database'></use></svg></label><div class='xr-var-attrs'><dl class='xr-attrs'><dt><span>standard_name :</span></dt><dd>quality_flag</dd><dt><span>long_name :</span></dt><dd>Maintenance quality control flags for main pyranometer</dd><dt><span>note :</span></dt><dd>Soiling describes subjectively the coverage of the pyranometer dome with dirt. The level flag is problematic if the bubble of the spirit level touches the reference ring, and bad if it is outside.</dd><dt><span>valid_range :</span></dt><dd>[0, 11]</dd><dt><span>flag_masks :</span></dt><dd>[3, 3, 3, 12, 12]</dd><dt><span>flag_values :</span></dt><dd>[1, 2, 3, 4, 8]</dd><dt><span>flag_meanings :</span></dt><dd>soiling_light soiling_moderate soiling_heavy level_problematic level_bad</dd><dt><span>note_general :</span></dt><dd>this is a test; 222</dd><dt><span>note_clean :</span></dt><dd>testing notes; None</dd><dt><span>note_level :</span></dt><dd>None; test</dd></dl></div><div class='xr-var-data'><pre>array([9])</pre></div></li><li class='xr-var-item'><div class='xr-var-name'><span>gti_qc</span></div><div class='xr-var-dims'>(station)</div><div class='xr-var-dtype'>int64</div><div class='xr-var-preview xr-preview'>7</div><input id='attrs-6f8e1d67-5207-4d93-8ab8-1916111437e1' class='xr-var-attrs-in' type='checkbox' ><label for='attrs-6f8e1d67-5207-4d93-8ab8-1916111437e1' title='Show/Hide attributes'><svg class='icon xr-icon-file-text2'><use xlink:href='#icon-file-text2'></use></svg></label><input id='data-06ea1172-1e66-43e1-ac92-5544429800bd' class='xr-var-data-in' type='checkbox'><label for='data-06ea1172-1e66-43e1-ac92-5544429800bd' title='Show/Hide data repr'><svg class='icon xr-icon-database'><use xlink:href='#icon-database'></use></svg></label><div class='xr-var-attrs'><dl class='xr-attrs'><dt><span>standard_name :</span></dt><dd>quality_flag</dd><dt><span>long_name :</span></dt><dd>Maintenance quality control flags for secondary pyranometer</dd><dt><span>note :</span></dt><dd>Soiling describes subjectively the coverage of the pyranometer dome with dirt. The level flag is problematic if the bubble of the spirit level touches the reference ring, and bad if it is outside.</dd><dt><span>valid_range :</span></dt><dd>[0, 11]</dd><dt><span>flag_masks :</span></dt><dd>[3, 3, 3, 12, 12]</dd><dt><span>flag_values :</span></dt><dd>[1, 2, 3, 4, 8]</dd><dt><span>flag_meanings :</span></dt><dd>soiling_light soiling_moderate soiling_heavy level_problematic level_bad</dd><dt><span>note_general :</span></dt><dd>this is a test; 222</dd><dt><span>note_clean :</span></dt><dd>None; None</dd><dt><span>note_level :</span></dt><dd>None; None</dd></dl></div><div class='xr-var-data'><pre>array([7])</pre></div></li><li class='xr-var-item'><div class='xr-var-name'><span>iadc</span></div><div class='xr-var-dims'>(gpstime, station)</div><div class='xr-var-dtype'>uint32</div><div class='xr-var-preview xr-preview'>26 35 54 64 74</div><input id='attrs-8b5af0eb-9f91-4e7b-953c-ceb9e117625a' class='xr-var-attrs-in' type='checkbox' ><label for='attrs-8b5af0eb-9f91-4e7b-953c-ceb9e117625a' title='Show/Hide attributes'><svg class='icon xr-icon-file-text2'><use xlink:href='#icon-file-text2'></use></svg></label><input id='data-227d1fba-23c8-42ba-98ca-38c67f0f8507' class='xr-var-data-in' type='checkbox'><label for='data-227d1fba-23c8-42ba-98ca-38c67f0f8507' title='Show/Hide data repr'><svg class='icon xr-icon-database'><use xlink:href='#icon-database'></use></svg></label><div class='xr-var-attrs'><dl class='xr-attrs'><dt><span>standard_name :</span></dt><dd>index</dd><dt><span>comment :</span></dt><dd>index to map gps to adc records</dd><dt><span>units :</span></dt><dd>-</dd></dl></div><div class='xr-var-data'><pre>array([[26],\n       [35],\n       [54],\n       [64],\n       [74]], dtype=uint32)</pre></div></li></ul></div></li><li class='xr-section-item'><input id='section-1ee6c0ac-440e-4145-b553-afb1a421f240' class='xr-section-summary-in' type='checkbox'  ><label for='section-1ee6c0ac-440e-4145-b553-afb1a421f240' class='xr-section-summary' >Indexes: <span>(3)</span></label><div class='xr-section-inline-details'></div><div class='xr-section-details'><ul class='xr-var-list'><li class='xr-var-item'><div class='xr-index-name'><div>adctime</div></div><div class='xr-index-preview'>PandasIndex</div><div></div><input id='index-b264d546-5a26-4c48-9f98-0f528c0336e1' class='xr-index-data-in' type='checkbox'/><label for='index-b264d546-5a26-4c48-9f98-0f528c0336e1' title='Show/Hide index repr'><svg class='icon xr-icon-database'><use xlink:href='#icon-database'></use></svg></label><div class='xr-index-data'><pre>PandasIndex(TimedeltaIndex([       &#x27;0 days 00:00:00&#x27;, &#x27;0 days 00:00:00.100000&#x27;,\n                &#x27;0 days 00:00:00.200000&#x27;, &#x27;0 days 00:00:00.300000&#x27;,\n                &#x27;0 days 00:00:00.400000&#x27;, &#x27;0 days 00:00:00.500000&#x27;,\n                &#x27;0 days 00:00:00.600000&#x27;, &#x27;0 days 00:00:00.700000&#x27;,\n                &#x27;0 days 00:00:00.800000&#x27;, &#x27;0 days 00:00:00.900000&#x27;,\n                       &#x27;0 days 00:00:01&#x27;, &#x27;0 days 00:00:01.100000&#x27;,\n                &#x27;0 days 00:00:01.200000&#x27;, &#x27;0 days 00:00:01.300000&#x27;,\n                &#x27;0 days 00:00:01.400000&#x27;, &#x27;0 days 00:00:01.500000&#x27;,\n                &#x27;0 days 00:00:01.600000&#x27;, &#x27;0 days 00:00:01.700000&#x27;,\n                &#x27;0 days 00:00:01.800000&#x27;, &#x27;0 days 00:00:01.900000&#x27;,\n                       &#x27;0 days 00:00:02&#x27;, &#x27;0 days 00:00:02.100000&#x27;,\n                &#x27;0 days 00:00:02.200000&#x27;, &#x27;0 days 00:00:02.300000&#x27;,\n                &#x27;0 days 00:00:02.400000&#x27;, &#x27;0 days 00:00:02.500000&#x27;,\n                &#x27;0 days 00:00:02.600000&#x27;, &#x27;0 days 00:00:02.700000&#x27;,\n                &#x27;0 days 00:00:02.800000&#x27;, &#x27;0 days 00:00:02.900000&#x27;,\n                       &#x27;0 days 00:00:03&#x27;, &#x27;0 days 00:00:03.100000&#x27;,\n                &#x27;0 days 00:00:03.200000&#x27;, &#x27;0 days 00:00:03.300000&#x27;,\n                &#x27;0 days 00:00:03.400000&#x27;, &#x27;0 days 00:00:03.500000&#x27;,\n                &#x27;0 days 00:00:03.600000&#x27;, &#x27;0 days 00:00:03.700000&#x27;,\n                &#x27;0 days 00:00:03.800000&#x27;, &#x27;0 days 00:00:03.900000&#x27;,\n                       &#x27;0 days 00:00:04&#x27;, &#x27;0 days 00:00:04.100000&#x27;,\n                &#x27;0 days 00:00:04.200000&#x27;, &#x27;0 days 00:00:04.300000&#x27;,\n                &#x27;0 days 00:00:04.400000&#x27;, &#x27;0 days 00:00:04.500000&#x27;,\n                &#x27;0 days 00:00:04.600000&#x27;, &#x27;0 days 00:00:04.700000&#x27;,\n                &#x27;0 days 00:00:04.800000&#x27;, &#x27;0 days 00:00:04.900000&#x27;,\n                       &#x27;0 days 00:00:05&#x27;, &#x27;0 days 00:00:05.100000&#x27;,\n                &#x27;0 days 00:00:05.200000&#x27;, &#x27;0 days 00:00:05.300000&#x27;,\n                &#x27;0 days 00:00:05.400000&#x27;, &#x27;0 days 00:00:05.500000&#x27;,\n                &#x27;0 days 00:00:05.600000&#x27;, &#x27;0 days 00:00:05.700000&#x27;,\n                &#x27;0 days 00:00:05.800000&#x27;, &#x27;0 days 00:00:05.900000&#x27;,\n                       &#x27;0 days 00:00:06&#x27;, &#x27;0 days 00:00:06.100000&#x27;,\n                &#x27;0 days 00:00:06.200000&#x27;, &#x27;0 days 00:00:06.300000&#x27;,\n                &#x27;0 days 00:00:06.400000&#x27;, &#x27;0 days 00:00:06.500000&#x27;,\n                &#x27;0 days 00:00:06.600000&#x27;, &#x27;0 days 00:00:06.700000&#x27;,\n                &#x27;0 days 00:00:06.800000&#x27;, &#x27;0 days 00:00:06.900000&#x27;,\n                       &#x27;0 days 00:00:07&#x27;, &#x27;0 days 00:00:07.100000&#x27;,\n                &#x27;0 days 00:00:07.200000&#x27;, &#x27;0 days 00:00:07.300000&#x27;,\n                &#x27;0 days 00:00:07.400000&#x27;, &#x27;0 days 00:00:07.500000&#x27;,\n                &#x27;0 days 00:00:07.600000&#x27;],\n               dtype=&#x27;timedelta64[ns]&#x27;, name=&#x27;adctime&#x27;, freq=None))</pre></div></li><li class='xr-var-item'><div class='xr-index-name'><div>gpstime</div></div><div class='xr-index-preview'>PandasIndex</div><div></div><input id='index-ab00a6ad-d149-4bdd-b542-8c71fa09dc0b' class='xr-index-data-in' type='checkbox'/><label for='index-ab00a6ad-d149-4bdd-b542-8c71fa09dc0b' title='Show/Hide index repr'><svg class='icon xr-icon-database'><use xlink:href='#icon-database'></use></svg></label><div class='xr-index-data'><pre>PandasIndex(DatetimeIndex([&#x27;2022-08-30 11:21:04.065000&#x27;, &#x27;2022-08-30 11:21:05.065000&#x27;,\n                      &#x27;2022-08-30 11:21:07&#x27;,        &#x27;2022-08-30 11:21:08&#x27;,\n                      &#x27;2022-08-30 11:21:09&#x27;],\n              dtype=&#x27;datetime64[ns]&#x27;, name=&#x27;gpstime&#x27;, freq=None))</pre></div></li><li class='xr-var-item'><div class='xr-index-name'><div>station</div></div><div class='xr-index-preview'>PandasIndex</div><div></div><input id='index-2f68b639-a5d9-4fc4-95d6-18114ac26b83' class='xr-index-data-in' type='checkbox'/><label for='index-2f68b639-a5d9-4fc4-95d6-18114ac26b83' title='Show/Hide index repr'><svg class='icon xr-icon-database'><use xlink:href='#icon-database'></use></svg></label><div class='xr-index-data'><pre>PandasIndex(Int64Index([1], dtype=&#x27;int64&#x27;, name=&#x27;station&#x27;))</pre></div></li></ul></div></li><li class='xr-section-item'><input id='section-ad14c0ad-ab40-49b8-b41c-faf6d052671b' class='xr-section-summary-in' type='checkbox'  ><label for='section-ad14c0ad-ab40-49b8-b41c-faf6d052671b' class='xr-section-summary' >Attributes: <span>(31)</span></label><div class='xr-section-inline-details'></div><div class='xr-section-details'><dl class='xr-attrs'><dt><span>title :</span></dt><dd>TROPOS pyranometer network (PyrNet) observations</dd><dt><span>institution :</span></dt><dd>Leibniz Institute for Tropospheric Research (TROPOS)</dd><dt><span>department :</span></dt><dd>Remote Sensing of Atmospheric Processes</dd><dt><span>department_team :</span></dt><dd>Clouds, Aerosol and Radiation</dd><dt><span>address :</span></dt><dd>Permoser Str. 15, 04318 Leipzig, Germany</dd><dt><span>source :</span></dt><dd>TROPOS pyranometer network (PyrNet)</dd><dt><span>contact_person :</span></dt><dd>Andreas Macke and the clouds, aerosol and radiation team of the remote sensing department, mailto:andreas.macke@tropos.de</dd><dt><span>contributor_name :</span></dt><dd></dd><dt><span>contributor_role :</span></dt><dd></dd><dt><span>authors_software :</span></dt><dd>Hartwig Deneke, Jonas Witthuhn, mailto:deneke@tropos.de</dd><dt><span>creator_name :</span></dt><dd></dd><dt><span>project :</span></dt><dd></dd><dt><span>references :</span></dt><dd>https://doi.org/10.5194/amt-9-1153-2016</dd><dt><span>standard_name_vocabulary :</span></dt><dd>CF Standard Name Table v81</dd><dt><span>conventions :</span></dt><dd>CF-1.10, ACDD-1.3</dd><dt><span>license :</span></dt><dd>CC-BY-SA 3.0</dd><dt><span>TESTNOTE :</span></dt><dd>This is a test note.</dd><dt><span>processing_level :</span></dt><dd>l1a</dd><dt><span>product_version :</span></dt><dd>0.1.8+1.g72dffd1.dirty</dd><dt><span>history :</span></dt><dd>2023-06-27T06:54:50: Generated level l1a  by pyrnet version 0.1.8+1.g72dffd1.dirty; </dd><dt><span>date_created :</span></dt><dd>2023-06-27T06:54:50</dd><dt><span>geospatial_lat_min :</span></dt><dd>51.390208333333334</dd><dt><span>geospatial_lat_max :</span></dt><dd>51.390211666666666</dd><dt><span>geospatial_lat_units :</span></dt><dd>degN</dd><dt><span>geospatial_lon_min :</span></dt><dd>11.885246666666667</dd><dt><span>geospatial_lon_max :</span></dt><dd>11.885256666666667</dd><dt><span>geospatial_lon_units :</span></dt><dd>degE</dd><dt><span>time_coverage_start :</span></dt><dd>2022-08-30T11:21:04.065000</dd><dt><span>time_coverage_end :</span></dt><dd>2022-08-30T11:21:09</dd><dt><span>time_coverage_duration :</span></dt><dd>P0DT0H0M4.935S</dd><dt><span>time_coverage_resolution :</span></dt><dd>P0DT0H0M1.23375S</dd></dl></div></li></ul></div></div>"
     },
     "execution_count": 13,
     "metadata": {},
     "output_type": "execute_result"
    }
   ],
   "source": [
    "#|dropout\n",
    "fn_report = \"../../example_data/results-survey224783.csv\"\n",
    "fn_data = \"../../example_data/Pyr9_000.bin\"\n",
    "\n",
    "fn_cfmeta = pkg_res.resource_filename(\"pyrnet\", \"share/pyrnet_cfmeta.json\")\n",
    "\n",
    "\n",
    "# parse report\n",
    "df_report = pyrreports.get_responses(fn=\"../../example_data/results-survey224783.csv\")\n",
    "report = pyrreports.parse_report(df_report,\n",
    "                              date_of_maintenance=np.datetime64(\"2023-05-08T12:00\"))\n",
    "# read logger file to xarray\n",
    "ds = to_l1a(\n",
    "    fname=fn_data,\n",
    "    station=1, # actually test data is from station 9, but test reports are for station 1 and 2 only\n",
    "    # bins=86400, # seconds resolution\n",
    "    report=report,\n",
    "    config={\"file_cfmeta\": fn_cfmeta, \"stripminutes\": 0},\n",
    "    global_attrs={\"TESTNOTE\": \"This is a test note.\"}\n",
    ")\n",
    "\n",
    "ds.to_netcdf(\"../../example_data/to_l1a_output.nc\")\n",
    "ds"
   ],
   "metadata": {
    "collapsed": false,
    "ExecuteTime": {
     "end_time": "2023-06-27T06:54:50.802851500Z",
     "start_time": "2023-06-27T06:54:50.660715Z"
    }
   }
  },
  {
   "cell_type": "code",
   "execution_count": 14,
   "outputs": [
    {
     "data": {
      "text/plain": "<class 'netCDF4._netCDF4.Dataset'>\nroot group (NETCDF4 data model, file format HDF5):\n    title: TROPOS pyranometer network (PyrNet) observations\n    institution: Leibniz Institute for Tropospheric Research (TROPOS)\n    department: Remote Sensing of Atmospheric Processes\n    department_team: Clouds, Aerosol and Radiation\n    address: Permoser Str. 15, 04318 Leipzig, Germany\n    source: TROPOS pyranometer network (PyrNet)\n    contact_person: Andreas Macke and the clouds, aerosol and radiation team of the remote sensing department, mailto:andreas.macke@tropos.de\n    contributor_name: \n    contributor_role: \n    authors_software: Hartwig Deneke, Jonas Witthuhn, mailto:deneke@tropos.de\n    creator_name: \n    project: \n    references: https://doi.org/10.5194/amt-9-1153-2016\n    standard_name_vocabulary: CF Standard Name Table v81\n    conventions: CF-1.10, ACDD-1.3\n    license: CC-BY-SA 3.0\n    TESTNOTE: This is a test note.\n    processing_level: l1a\n    product_version: 0.1.8+1.g72dffd1.dirty\n    history: 2023-06-27T06:54:50: Generated level l1a  by pyrnet version 0.1.8+1.g72dffd1.dirty; \n    date_created: 2023-06-27T06:54:50\n    geospatial_lat_min: 51.390208333333334\n    geospatial_lat_max: 51.390211666666666\n    geospatial_lat_units: degN\n    geospatial_lon_min: 11.885246666666667\n    geospatial_lon_max: 11.885256666666667\n    geospatial_lon_units: degE\n    time_coverage_start: 2022-08-30T11:21:04.065000\n    time_coverage_end: 2022-08-30T11:21:09\n    time_coverage_duration: P0DT0H0M4.935S\n    time_coverage_resolution: P0DT0H0M1.23375S\n    dimensions(sizes): adctime(77), station(1), gpstime(5)\n    variables(dimensions): uint16 ghi(adctime, station), uint16 gti(adctime, station), uint16 ta(adctime, station), uint16 rh(adctime, station), uint16 battery_voltage(adctime, station), uint32 lat(gpstime, station), uint32 lon(gpstime, station), uint8 ghi_qc(station), uint8 gti_qc(station), uint32 iadc(gpstime, station), uint32 adctime(adctime), float64 gpstime(gpstime), uint8 station(station)\n    groups: "
     },
     "execution_count": 14,
     "metadata": {},
     "output_type": "execute_result"
    }
   ],
   "source": [
    "#|dropout\n",
    "import netCDF4\n",
    "netCDF4.Dataset(\"../../example_data/to_l1a_output.nc\",'r')"
   ],
   "metadata": {
    "collapsed": false,
    "ExecuteTime": {
     "end_time": "2023-06-27T06:54:50.802851500Z",
     "start_time": "2023-06-27T06:54:50.773340200Z"
    }
   }
  },
  {
   "cell_type": "markdown",
   "source": [
    "\n",
    "\n",
    "## l1b\n",
    "Resampled, calibrated data as daily files per station. Resampling is per default to one second, but can be configured.\n"
   ],
   "metadata": {
    "collapsed": false
   }
  },
  {
   "cell_type": "code",
   "execution_count": 15,
   "outputs": [],
   "source": [
    "fname = \"../../example_data/to_l1a_output.nc\"\n",
    "config = {\n",
    "    \"l1bfreq\":\"1s\",\n",
    "    \"stripminutes\":5,\n",
    "    \"average_latlon\":True,\n",
    "}\n",
    "\n",
    "config = get_config(config)\n",
    "gattrs, vattrs, vencode = get_cfmeta(config)\n"
   ],
   "metadata": {
    "collapsed": false,
    "ExecuteTime": {
     "end_time": "2023-06-27T06:54:50.811939700Z",
     "start_time": "2023-06-27T06:54:50.796838800Z"
    }
   }
  },
  {
   "cell_type": "markdown",
   "source": [
    "The l1b data is processed from the l1b data with the following workflow:\n",
    "\n",
    "1. Read l1a netcdf\n",
    "2. Sync GPS to ADC time\n",
    "    * ```sync_adc_time```\n",
    "3. Make dataset with new time"
   ],
   "metadata": {
    "collapsed": false
   }
  },
  {
   "cell_type": "code",
   "execution_count": 16,
   "outputs": [
    {
     "data": {
      "text/plain": "<xarray.Dataset>\nDimensions:          (time: 77, station: 1)\nCoordinates:\n  * station          (station) float32 1.0\n  * time             (time) datetime64[ns] 2022-08-30T11:21:01.443000 ... 202...\nData variables:\n    ghi              (time, station) float32 ...\n    gti              (time, station) float32 ...\n    ta               (time, station) float32 ...\n    rh               (time, station) float32 ...\n    battery_voltage  (time, station) float32 ...\nAttributes: (12/31)\n    title:                     TROPOS pyranometer network (PyrNet) observations\n    institution:               Leibniz Institute for Tropospheric Research (T...\n    department:                Remote Sensing of Atmospheric Processes\n    department_team:           Clouds, Aerosol and Radiation\n    address:                   Permoser Str. 15, 04318 Leipzig, Germany\n    source:                    TROPOS pyranometer network (PyrNet)\n    ...                        ...\n    geospatial_lon_max:        11.885256666666667\n    geospatial_lon_units:      degE\n    time_coverage_start:       2022-08-30T11:21:04.065000\n    time_coverage_end:         2022-08-30T11:21:09\n    time_coverage_duration:    P0DT0H0M4.935S\n    time_coverage_resolution:  P0DT0H0M1.23375S",
      "text/html": "<div><svg style=\"position: absolute; width: 0; height: 0; overflow: hidden\">\n<defs>\n<symbol id=\"icon-database\" viewBox=\"0 0 32 32\">\n<path d=\"M16 0c-8.837 0-16 2.239-16 5v4c0 2.761 7.163 5 16 5s16-2.239 16-5v-4c0-2.761-7.163-5-16-5z\"></path>\n<path d=\"M16 17c-8.837 0-16-2.239-16-5v6c0 2.761 7.163 5 16 5s16-2.239 16-5v-6c0 2.761-7.163 5-16 5z\"></path>\n<path d=\"M16 26c-8.837 0-16-2.239-16-5v6c0 2.761 7.163 5 16 5s16-2.239 16-5v-6c0 2.761-7.163 5-16 5z\"></path>\n</symbol>\n<symbol id=\"icon-file-text2\" viewBox=\"0 0 32 32\">\n<path d=\"M28.681 7.159c-0.694-0.947-1.662-2.053-2.724-3.116s-2.169-2.030-3.116-2.724c-1.612-1.182-2.393-1.319-2.841-1.319h-15.5c-1.378 0-2.5 1.121-2.5 2.5v27c0 1.378 1.122 2.5 2.5 2.5h23c1.378 0 2.5-1.122 2.5-2.5v-19.5c0-0.448-0.137-1.23-1.319-2.841zM24.543 5.457c0.959 0.959 1.712 1.825 2.268 2.543h-4.811v-4.811c0.718 0.556 1.584 1.309 2.543 2.268zM28 29.5c0 0.271-0.229 0.5-0.5 0.5h-23c-0.271 0-0.5-0.229-0.5-0.5v-27c0-0.271 0.229-0.5 0.5-0.5 0 0 15.499-0 15.5 0v7c0 0.552 0.448 1 1 1h7v19.5z\"></path>\n<path d=\"M23 26h-14c-0.552 0-1-0.448-1-1s0.448-1 1-1h14c0.552 0 1 0.448 1 1s-0.448 1-1 1z\"></path>\n<path d=\"M23 22h-14c-0.552 0-1-0.448-1-1s0.448-1 1-1h14c0.552 0 1 0.448 1 1s-0.448 1-1 1z\"></path>\n<path d=\"M23 18h-14c-0.552 0-1-0.448-1-1s0.448-1 1-1h14c0.552 0 1 0.448 1 1s-0.448 1-1 1z\"></path>\n</symbol>\n</defs>\n</svg>\n<style>/* CSS stylesheet for displaying xarray objects in jupyterlab.\n *\n */\n\n:root {\n  --xr-font-color0: var(--jp-content-font-color0, rgba(0, 0, 0, 1));\n  --xr-font-color2: var(--jp-content-font-color2, rgba(0, 0, 0, 0.54));\n  --xr-font-color3: var(--jp-content-font-color3, rgba(0, 0, 0, 0.38));\n  --xr-border-color: var(--jp-border-color2, #e0e0e0);\n  --xr-disabled-color: var(--jp-layout-color3, #bdbdbd);\n  --xr-background-color: var(--jp-layout-color0, white);\n  --xr-background-color-row-even: var(--jp-layout-color1, white);\n  --xr-background-color-row-odd: var(--jp-layout-color2, #eeeeee);\n}\n\nhtml[theme=dark],\nbody[data-theme=dark],\nbody.vscode-dark {\n  --xr-font-color0: rgba(255, 255, 255, 1);\n  --xr-font-color2: rgba(255, 255, 255, 0.54);\n  --xr-font-color3: rgba(255, 255, 255, 0.38);\n  --xr-border-color: #1F1F1F;\n  --xr-disabled-color: #515151;\n  --xr-background-color: #111111;\n  --xr-background-color-row-even: #111111;\n  --xr-background-color-row-odd: #313131;\n}\n\n.xr-wrap {\n  display: block !important;\n  min-width: 300px;\n  max-width: 700px;\n}\n\n.xr-text-repr-fallback {\n  /* fallback to plain text repr when CSS is not injected (untrusted notebook) */\n  display: none;\n}\n\n.xr-header {\n  padding-top: 6px;\n  padding-bottom: 6px;\n  margin-bottom: 4px;\n  border-bottom: solid 1px var(--xr-border-color);\n}\n\n.xr-header > div,\n.xr-header > ul {\n  display: inline;\n  margin-top: 0;\n  margin-bottom: 0;\n}\n\n.xr-obj-type,\n.xr-array-name {\n  margin-left: 2px;\n  margin-right: 10px;\n}\n\n.xr-obj-type {\n  color: var(--xr-font-color2);\n}\n\n.xr-sections {\n  padding-left: 0 !important;\n  display: grid;\n  grid-template-columns: 150px auto auto 1fr 20px 20px;\n}\n\n.xr-section-item {\n  display: contents;\n}\n\n.xr-section-item input {\n  display: none;\n}\n\n.xr-section-item input + label {\n  color: var(--xr-disabled-color);\n}\n\n.xr-section-item input:enabled + label {\n  cursor: pointer;\n  color: var(--xr-font-color2);\n}\n\n.xr-section-item input:enabled + label:hover {\n  color: var(--xr-font-color0);\n}\n\n.xr-section-summary {\n  grid-column: 1;\n  color: var(--xr-font-color2);\n  font-weight: 500;\n}\n\n.xr-section-summary > span {\n  display: inline-block;\n  padding-left: 0.5em;\n}\n\n.xr-section-summary-in:disabled + label {\n  color: var(--xr-font-color2);\n}\n\n.xr-section-summary-in + label:before {\n  display: inline-block;\n  content: '►';\n  font-size: 11px;\n  width: 15px;\n  text-align: center;\n}\n\n.xr-section-summary-in:disabled + label:before {\n  color: var(--xr-disabled-color);\n}\n\n.xr-section-summary-in:checked + label:before {\n  content: '▼';\n}\n\n.xr-section-summary-in:checked + label > span {\n  display: none;\n}\n\n.xr-section-summary,\n.xr-section-inline-details {\n  padding-top: 4px;\n  padding-bottom: 4px;\n}\n\n.xr-section-inline-details {\n  grid-column: 2 / -1;\n}\n\n.xr-section-details {\n  display: none;\n  grid-column: 1 / -1;\n  margin-bottom: 5px;\n}\n\n.xr-section-summary-in:checked ~ .xr-section-details {\n  display: contents;\n}\n\n.xr-array-wrap {\n  grid-column: 1 / -1;\n  display: grid;\n  grid-template-columns: 20px auto;\n}\n\n.xr-array-wrap > label {\n  grid-column: 1;\n  vertical-align: top;\n}\n\n.xr-preview {\n  color: var(--xr-font-color3);\n}\n\n.xr-array-preview,\n.xr-array-data {\n  padding: 0 5px !important;\n  grid-column: 2;\n}\n\n.xr-array-data,\n.xr-array-in:checked ~ .xr-array-preview {\n  display: none;\n}\n\n.xr-array-in:checked ~ .xr-array-data,\n.xr-array-preview {\n  display: inline-block;\n}\n\n.xr-dim-list {\n  display: inline-block !important;\n  list-style: none;\n  padding: 0 !important;\n  margin: 0;\n}\n\n.xr-dim-list li {\n  display: inline-block;\n  padding: 0;\n  margin: 0;\n}\n\n.xr-dim-list:before {\n  content: '(';\n}\n\n.xr-dim-list:after {\n  content: ')';\n}\n\n.xr-dim-list li:not(:last-child):after {\n  content: ',';\n  padding-right: 5px;\n}\n\n.xr-has-index {\n  font-weight: bold;\n}\n\n.xr-var-list,\n.xr-var-item {\n  display: contents;\n}\n\n.xr-var-item > div,\n.xr-var-item label,\n.xr-var-item > .xr-var-name span {\n  background-color: var(--xr-background-color-row-even);\n  margin-bottom: 0;\n}\n\n.xr-var-item > .xr-var-name:hover span {\n  padding-right: 5px;\n}\n\n.xr-var-list > li:nth-child(odd) > div,\n.xr-var-list > li:nth-child(odd) > label,\n.xr-var-list > li:nth-child(odd) > .xr-var-name span {\n  background-color: var(--xr-background-color-row-odd);\n}\n\n.xr-var-name {\n  grid-column: 1;\n}\n\n.xr-var-dims {\n  grid-column: 2;\n}\n\n.xr-var-dtype {\n  grid-column: 3;\n  text-align: right;\n  color: var(--xr-font-color2);\n}\n\n.xr-var-preview {\n  grid-column: 4;\n}\n\n.xr-index-preview {\n  grid-column: 2 / 5;\n  color: var(--xr-font-color2);\n}\n\n.xr-var-name,\n.xr-var-dims,\n.xr-var-dtype,\n.xr-preview,\n.xr-attrs dt {\n  white-space: nowrap;\n  overflow: hidden;\n  text-overflow: ellipsis;\n  padding-right: 10px;\n}\n\n.xr-var-name:hover,\n.xr-var-dims:hover,\n.xr-var-dtype:hover,\n.xr-attrs dt:hover {\n  overflow: visible;\n  width: auto;\n  z-index: 1;\n}\n\n.xr-var-attrs,\n.xr-var-data,\n.xr-index-data {\n  display: none;\n  background-color: var(--xr-background-color) !important;\n  padding-bottom: 5px !important;\n}\n\n.xr-var-attrs-in:checked ~ .xr-var-attrs,\n.xr-var-data-in:checked ~ .xr-var-data,\n.xr-index-data-in:checked ~ .xr-index-data {\n  display: block;\n}\n\n.xr-var-data > table {\n  float: right;\n}\n\n.xr-var-name span,\n.xr-var-data,\n.xr-index-name div,\n.xr-index-data,\n.xr-attrs {\n  padding-left: 25px !important;\n}\n\n.xr-attrs,\n.xr-var-attrs,\n.xr-var-data,\n.xr-index-data {\n  grid-column: 1 / -1;\n}\n\ndl.xr-attrs {\n  padding: 0;\n  margin: 0;\n  display: grid;\n  grid-template-columns: 125px auto;\n}\n\n.xr-attrs dt,\n.xr-attrs dd {\n  padding: 0;\n  margin: 0;\n  float: left;\n  padding-right: 10px;\n  width: auto;\n}\n\n.xr-attrs dt {\n  font-weight: normal;\n  grid-column: 1;\n}\n\n.xr-attrs dt:hover span {\n  display: inline-block;\n  background: var(--xr-background-color);\n  padding-right: 10px;\n}\n\n.xr-attrs dd {\n  grid-column: 2;\n  white-space: pre-wrap;\n  word-break: break-all;\n}\n\n.xr-icon-database,\n.xr-icon-file-text2,\n.xr-no-icon {\n  display: inline-block;\n  vertical-align: middle;\n  width: 1em;\n  height: 1.5em !important;\n  stroke-width: 0;\n  stroke: currentColor;\n  fill: currentColor;\n}\n</style><pre class='xr-text-repr-fallback'>&lt;xarray.Dataset&gt;\nDimensions:          (time: 77, station: 1)\nCoordinates:\n  * station          (station) float32 1.0\n  * time             (time) datetime64[ns] 2022-08-30T11:21:01.443000 ... 202...\nData variables:\n    ghi              (time, station) float32 ...\n    gti              (time, station) float32 ...\n    ta               (time, station) float32 ...\n    rh               (time, station) float32 ...\n    battery_voltage  (time, station) float32 ...\nAttributes: (12/31)\n    title:                     TROPOS pyranometer network (PyrNet) observations\n    institution:               Leibniz Institute for Tropospheric Research (T...\n    department:                Remote Sensing of Atmospheric Processes\n    department_team:           Clouds, Aerosol and Radiation\n    address:                   Permoser Str. 15, 04318 Leipzig, Germany\n    source:                    TROPOS pyranometer network (PyrNet)\n    ...                        ...\n    geospatial_lon_max:        11.885256666666667\n    geospatial_lon_units:      degE\n    time_coverage_start:       2022-08-30T11:21:04.065000\n    time_coverage_end:         2022-08-30T11:21:09\n    time_coverage_duration:    P0DT0H0M4.935S\n    time_coverage_resolution:  P0DT0H0M1.23375S</pre><div class='xr-wrap' style='display:none'><div class='xr-header'><div class='xr-obj-type'>xarray.Dataset</div></div><ul class='xr-sections'><li class='xr-section-item'><input id='section-a86a8a74-ba76-42f6-9180-81c4cf1814d2' class='xr-section-summary-in' type='checkbox' disabled ><label for='section-a86a8a74-ba76-42f6-9180-81c4cf1814d2' class='xr-section-summary'  title='Expand/collapse section'>Dimensions:</label><div class='xr-section-inline-details'><ul class='xr-dim-list'><li><span class='xr-has-index'>time</span>: 77</li><li><span class='xr-has-index'>station</span>: 1</li></ul></div><div class='xr-section-details'></div></li><li class='xr-section-item'><input id='section-17b55da0-17e0-4099-8478-965defe62af9' class='xr-section-summary-in' type='checkbox'  checked><label for='section-17b55da0-17e0-4099-8478-965defe62af9' class='xr-section-summary' >Coordinates: <span>(2)</span></label><div class='xr-section-inline-details'></div><div class='xr-section-details'><ul class='xr-var-list'><li class='xr-var-item'><div class='xr-var-name'><span class='xr-has-index'>station</span></div><div class='xr-var-dims'>(station)</div><div class='xr-var-dtype'>float32</div><div class='xr-var-preview xr-preview'>1.0</div><input id='attrs-adca2b25-119e-42fd-a9c4-145b0ffd6a68' class='xr-var-attrs-in' type='checkbox' ><label for='attrs-adca2b25-119e-42fd-a9c4-145b0ffd6a68' title='Show/Hide attributes'><svg class='icon xr-icon-file-text2'><use xlink:href='#icon-file-text2'></use></svg></label><input id='data-e57bebc9-9219-4022-b51d-2cb578889bd7' class='xr-var-data-in' type='checkbox'><label for='data-e57bebc9-9219-4022-b51d-2cb578889bd7' title='Show/Hide data repr'><svg class='icon xr-icon-database'><use xlink:href='#icon-database'></use></svg></label><div class='xr-var-attrs'><dl class='xr-attrs'><dt><span>units :</span></dt><dd>-</dd><dt><span>long_name :</span></dt><dd>PyrNet unit box number</dd></dl></div><div class='xr-var-data'><pre>array([1.], dtype=float32)</pre></div></li><li class='xr-var-item'><div class='xr-var-name'><span class='xr-has-index'>time</span></div><div class='xr-var-dims'>(time)</div><div class='xr-var-dtype'>datetime64[ns]</div><div class='xr-var-preview xr-preview'>2022-08-30T11:21:01.443000 ... 2...</div><input id='attrs-9ccb6741-e88f-42bd-acf2-9f5839d203fd' class='xr-var-attrs-in' type='checkbox' disabled><label for='attrs-9ccb6741-e88f-42bd-acf2-9f5839d203fd' title='Show/Hide attributes'><svg class='icon xr-icon-file-text2'><use xlink:href='#icon-file-text2'></use></svg></label><input id='data-45623490-d53e-45f9-aef5-2414fbcd9a49' class='xr-var-data-in' type='checkbox'><label for='data-45623490-d53e-45f9-aef5-2414fbcd9a49' title='Show/Hide data repr'><svg class='icon xr-icon-database'><use xlink:href='#icon-database'></use></svg></label><div class='xr-var-attrs'><dl class='xr-attrs'></dl></div><div class='xr-var-data'><pre>array([&#x27;2022-08-30T11:21:01.443000000&#x27;, &#x27;2022-08-30T11:21:01.545000000&#x27;,\n       &#x27;2022-08-30T11:21:01.647000000&#x27;, &#x27;2022-08-30T11:21:01.750000000&#x27;,\n       &#x27;2022-08-30T11:21:01.852000000&#x27;, &#x27;2022-08-30T11:21:01.955000000&#x27;,\n       &#x27;2022-08-30T11:21:02.057000000&#x27;, &#x27;2022-08-30T11:21:02.160000000&#x27;,\n       &#x27;2022-08-30T11:21:02.262000000&#x27;, &#x27;2022-08-30T11:21:02.364000000&#x27;,\n       &#x27;2022-08-30T11:21:02.467000000&#x27;, &#x27;2022-08-30T11:21:02.569000000&#x27;,\n       &#x27;2022-08-30T11:21:02.672000000&#x27;, &#x27;2022-08-30T11:21:02.774000000&#x27;,\n       &#x27;2022-08-30T11:21:02.877000000&#x27;, &#x27;2022-08-30T11:21:02.979000000&#x27;,\n       &#x27;2022-08-30T11:21:03.081000000&#x27;, &#x27;2022-08-30T11:21:03.184000000&#x27;,\n       &#x27;2022-08-30T11:21:03.286000000&#x27;, &#x27;2022-08-30T11:21:03.389000000&#x27;,\n       &#x27;2022-08-30T11:21:03.491000000&#x27;, &#x27;2022-08-30T11:21:03.594000000&#x27;,\n       &#x27;2022-08-30T11:21:03.696000000&#x27;, &#x27;2022-08-30T11:21:03.799000000&#x27;,\n       &#x27;2022-08-30T11:21:03.901000000&#x27;, &#x27;2022-08-30T11:21:04.003000000&#x27;,\n       &#x27;2022-08-30T11:21:04.106000000&#x27;, &#x27;2022-08-30T11:21:04.208000000&#x27;,\n       &#x27;2022-08-30T11:21:04.311000000&#x27;, &#x27;2022-08-30T11:21:04.413000000&#x27;,\n       &#x27;2022-08-30T11:21:04.516000000&#x27;, &#x27;2022-08-30T11:21:04.618000000&#x27;,\n       &#x27;2022-08-30T11:21:04.720000000&#x27;, &#x27;2022-08-30T11:21:04.823000000&#x27;,\n       &#x27;2022-08-30T11:21:04.925000000&#x27;, &#x27;2022-08-30T11:21:05.028000000&#x27;,\n       &#x27;2022-08-30T11:21:05.130000000&#x27;, &#x27;2022-08-30T11:21:05.233000000&#x27;,\n       &#x27;2022-08-30T11:21:05.335000000&#x27;, &#x27;2022-08-30T11:21:05.438000000&#x27;,\n       &#x27;2022-08-30T11:21:05.540000000&#x27;, &#x27;2022-08-30T11:21:05.642000000&#x27;,\n       &#x27;2022-08-30T11:21:05.745000000&#x27;, &#x27;2022-08-30T11:21:05.847000000&#x27;,\n       &#x27;2022-08-30T11:21:05.950000000&#x27;, &#x27;2022-08-30T11:21:06.052000000&#x27;,\n       &#x27;2022-08-30T11:21:06.155000000&#x27;, &#x27;2022-08-30T11:21:06.257000000&#x27;,\n       &#x27;2022-08-30T11:21:06.359000000&#x27;, &#x27;2022-08-30T11:21:06.462000000&#x27;,\n       &#x27;2022-08-30T11:21:06.564000000&#x27;, &#x27;2022-08-30T11:21:06.667000000&#x27;,\n       &#x27;2022-08-30T11:21:06.769000000&#x27;, &#x27;2022-08-30T11:21:06.872000000&#x27;,\n       &#x27;2022-08-30T11:21:06.974000000&#x27;, &#x27;2022-08-30T11:21:07.077000000&#x27;,\n       &#x27;2022-08-30T11:21:07.179000000&#x27;, &#x27;2022-08-30T11:21:07.281000000&#x27;,\n       &#x27;2022-08-30T11:21:07.384000000&#x27;, &#x27;2022-08-30T11:21:07.486000000&#x27;,\n       &#x27;2022-08-30T11:21:07.589000000&#x27;, &#x27;2022-08-30T11:21:07.691000000&#x27;,\n       &#x27;2022-08-30T11:21:07.794000000&#x27;, &#x27;2022-08-30T11:21:07.896000000&#x27;,\n       &#x27;2022-08-30T11:21:07.998000000&#x27;, &#x27;2022-08-30T11:21:08.101000000&#x27;,\n       &#x27;2022-08-30T11:21:08.203000000&#x27;, &#x27;2022-08-30T11:21:08.306000000&#x27;,\n       &#x27;2022-08-30T11:21:08.408000000&#x27;, &#x27;2022-08-30T11:21:08.511000000&#x27;,\n       &#x27;2022-08-30T11:21:08.613000000&#x27;, &#x27;2022-08-30T11:21:08.715000000&#x27;,\n       &#x27;2022-08-30T11:21:08.818000000&#x27;, &#x27;2022-08-30T11:21:08.920000000&#x27;,\n       &#x27;2022-08-30T11:21:09.023000000&#x27;, &#x27;2022-08-30T11:21:09.125000000&#x27;,\n       &#x27;2022-08-30T11:21:09.228000000&#x27;], dtype=&#x27;datetime64[ns]&#x27;)</pre></div></li></ul></div></li><li class='xr-section-item'><input id='section-63fb54b3-1f7e-4bcf-8fdb-6bc2a03e6b6a' class='xr-section-summary-in' type='checkbox'  checked><label for='section-63fb54b3-1f7e-4bcf-8fdb-6bc2a03e6b6a' class='xr-section-summary' >Data variables: <span>(5)</span></label><div class='xr-section-inline-details'></div><div class='xr-section-details'><ul class='xr-var-list'><li class='xr-var-item'><div class='xr-var-name'><span>ghi</span></div><div class='xr-var-dims'>(time, station)</div><div class='xr-var-dtype'>float32</div><div class='xr-var-preview xr-preview'>...</div><input id='attrs-7b77235e-81f7-41eb-8833-90a18fd34df7' class='xr-var-attrs-in' type='checkbox' ><label for='attrs-7b77235e-81f7-41eb-8833-90a18fd34df7' title='Show/Hide attributes'><svg class='icon xr-icon-file-text2'><use xlink:href='#icon-file-text2'></use></svg></label><input id='data-82fc0245-ccd0-4453-9a64-edb03c4458a6' class='xr-var-data-in' type='checkbox'><label for='data-82fc0245-ccd0-4453-9a64-edb03c4458a6' title='Show/Hide data repr'><svg class='icon xr-icon-database'><use xlink:href='#icon-database'></use></svg></label><div class='xr-var-attrs'><dl class='xr-attrs'><dt><span>units :</span></dt><dd>V</dd><dt><span>long_name :</span></dt><dd>downwelling shortwave flux</dd><dt><span>standard_name :</span></dt><dd>downwelling_shortwave_flux_in_air</dd><dt><span>valid_range :</span></dt><dd>[   0 1023]</dd></dl></div><div class='xr-var-data'><pre>[77 values with dtype=float32]</pre></div></li><li class='xr-var-item'><div class='xr-var-name'><span>gti</span></div><div class='xr-var-dims'>(time, station)</div><div class='xr-var-dtype'>float32</div><div class='xr-var-preview xr-preview'>...</div><input id='attrs-33a8b444-62c9-4f9b-bb41-3b42de082a1a' class='xr-var-attrs-in' type='checkbox' ><label for='attrs-33a8b444-62c9-4f9b-bb41-3b42de082a1a' title='Show/Hide attributes'><svg class='icon xr-icon-file-text2'><use xlink:href='#icon-file-text2'></use></svg></label><input id='data-ba797ed4-268c-4e71-b721-e2c2280c7a5d' class='xr-var-data-in' type='checkbox'><label for='data-ba797ed4-268c-4e71-b721-e2c2280c7a5d' title='Show/Hide data repr'><svg class='icon xr-icon-database'><use xlink:href='#icon-database'></use></svg></label><div class='xr-var-attrs'><dl class='xr-attrs'><dt><span>units :</span></dt><dd>V</dd><dt><span>long_name :</span></dt><dd>downwelling shortwave flux measured on secondary platform, might be tilted</dd><dt><span>standard_name :</span></dt><dd>downwelling_shortwave_flux_in_air</dd><dt><span>valid_range :</span></dt><dd>[   0 1023]</dd><dt><span>hangle :</span></dt><dd>0.0</dd><dt><span>vangle :</span></dt><dd>0.0</dd></dl></div><div class='xr-var-data'><pre>[77 values with dtype=float32]</pre></div></li><li class='xr-var-item'><div class='xr-var-name'><span>ta</span></div><div class='xr-var-dims'>(time, station)</div><div class='xr-var-dtype'>float32</div><div class='xr-var-preview xr-preview'>...</div><input id='attrs-2ae95619-827c-4050-bea1-926d810e2fed' class='xr-var-attrs-in' type='checkbox' ><label for='attrs-2ae95619-827c-4050-bea1-926d810e2fed' title='Show/Hide attributes'><svg class='icon xr-icon-file-text2'><use xlink:href='#icon-file-text2'></use></svg></label><input id='data-eb3d76a4-a48c-48ad-9cba-6e4cc9b3dc9e' class='xr-var-data-in' type='checkbox'><label for='data-eb3d76a4-a48c-48ad-9cba-6e4cc9b3dc9e' title='Show/Hide data repr'><svg class='icon xr-icon-database'><use xlink:href='#icon-database'></use></svg></label><div class='xr-var-attrs'><dl class='xr-attrs'><dt><span>units :</span></dt><dd>K</dd><dt><span>long_name :</span></dt><dd>air temperature</dd><dt><span>standard_name :</span></dt><dd>air_temperature</dd><dt><span>valid_range :</span></dt><dd>[  0 775]</dd></dl></div><div class='xr-var-data'><pre>[77 values with dtype=float32]</pre></div></li><li class='xr-var-item'><div class='xr-var-name'><span>rh</span></div><div class='xr-var-dims'>(time, station)</div><div class='xr-var-dtype'>float32</div><div class='xr-var-preview xr-preview'>...</div><input id='attrs-5a08ca24-288b-4c55-9129-ae58a752cb2c' class='xr-var-attrs-in' type='checkbox' ><label for='attrs-5a08ca24-288b-4c55-9129-ae58a752cb2c' title='Show/Hide attributes'><svg class='icon xr-icon-file-text2'><use xlink:href='#icon-file-text2'></use></svg></label><input id='data-51812b43-80e1-4b3e-9e63-7c449c747f8d' class='xr-var-data-in' type='checkbox'><label for='data-51812b43-80e1-4b3e-9e63-7c449c747f8d' title='Show/Hide data repr'><svg class='icon xr-icon-database'><use xlink:href='#icon-database'></use></svg></label><div class='xr-var-attrs'><dl class='xr-attrs'><dt><span>units :</span></dt><dd>1</dd><dt><span>long_name :</span></dt><dd>air relative humidity</dd><dt><span>standard_name :</span></dt><dd>relative_humidity</dd><dt><span>valid_range :</span></dt><dd>[  0 775]</dd></dl></div><div class='xr-var-data'><pre>[77 values with dtype=float32]</pre></div></li><li class='xr-var-item'><div class='xr-var-name'><span>battery_voltage</span></div><div class='xr-var-dims'>(time, station)</div><div class='xr-var-dtype'>float32</div><div class='xr-var-preview xr-preview'>...</div><input id='attrs-564015ee-792d-418e-9f4d-69c79f308a10' class='xr-var-attrs-in' type='checkbox' ><label for='attrs-564015ee-792d-418e-9f4d-69c79f308a10' title='Show/Hide attributes'><svg class='icon xr-icon-file-text2'><use xlink:href='#icon-file-text2'></use></svg></label><input id='data-24116724-dde4-49ba-862c-af547c044f9d' class='xr-var-data-in' type='checkbox'><label for='data-24116724-dde4-49ba-862c-af547c044f9d' title='Show/Hide data repr'><svg class='icon xr-icon-database'><use xlink:href='#icon-database'></use></svg></label><div class='xr-var-attrs'><dl class='xr-attrs'><dt><span>units :</span></dt><dd>V</dd><dt><span>standard_name :</span></dt><dd>battery_voltage</dd><dt><span>valid_range :</span></dt><dd>[   0 1023]</dd></dl></div><div class='xr-var-data'><pre>[77 values with dtype=float32]</pre></div></li></ul></div></li><li class='xr-section-item'><input id='section-906d7833-23d6-4335-9f64-88e7ef0894e8' class='xr-section-summary-in' type='checkbox'  ><label for='section-906d7833-23d6-4335-9f64-88e7ef0894e8' class='xr-section-summary' >Indexes: <span>(2)</span></label><div class='xr-section-inline-details'></div><div class='xr-section-details'><ul class='xr-var-list'><li class='xr-var-item'><div class='xr-index-name'><div>station</div></div><div class='xr-index-preview'>PandasIndex</div><div></div><input id='index-1afe1402-d8b0-48d0-81a5-00a57402a6bc' class='xr-index-data-in' type='checkbox'/><label for='index-1afe1402-d8b0-48d0-81a5-00a57402a6bc' title='Show/Hide index repr'><svg class='icon xr-icon-database'><use xlink:href='#icon-database'></use></svg></label><div class='xr-index-data'><pre>PandasIndex(Float64Index([1.0], dtype=&#x27;float64&#x27;, name=&#x27;station&#x27;))</pre></div></li><li class='xr-var-item'><div class='xr-index-name'><div>time</div></div><div class='xr-index-preview'>PandasIndex</div><div></div><input id='index-fd23b837-10be-4f49-8f22-535fccfbb117' class='xr-index-data-in' type='checkbox'/><label for='index-fd23b837-10be-4f49-8f22-535fccfbb117' title='Show/Hide index repr'><svg class='icon xr-icon-database'><use xlink:href='#icon-database'></use></svg></label><div class='xr-index-data'><pre>PandasIndex(DatetimeIndex([&#x27;2022-08-30 11:21:01.443000&#x27;, &#x27;2022-08-30 11:21:01.545000&#x27;,\n               &#x27;2022-08-30 11:21:01.647000&#x27;, &#x27;2022-08-30 11:21:01.750000&#x27;,\n               &#x27;2022-08-30 11:21:01.852000&#x27;, &#x27;2022-08-30 11:21:01.955000&#x27;,\n               &#x27;2022-08-30 11:21:02.057000&#x27;, &#x27;2022-08-30 11:21:02.160000&#x27;,\n               &#x27;2022-08-30 11:21:02.262000&#x27;, &#x27;2022-08-30 11:21:02.364000&#x27;,\n               &#x27;2022-08-30 11:21:02.467000&#x27;, &#x27;2022-08-30 11:21:02.569000&#x27;,\n               &#x27;2022-08-30 11:21:02.672000&#x27;, &#x27;2022-08-30 11:21:02.774000&#x27;,\n               &#x27;2022-08-30 11:21:02.877000&#x27;, &#x27;2022-08-30 11:21:02.979000&#x27;,\n               &#x27;2022-08-30 11:21:03.081000&#x27;, &#x27;2022-08-30 11:21:03.184000&#x27;,\n               &#x27;2022-08-30 11:21:03.286000&#x27;, &#x27;2022-08-30 11:21:03.389000&#x27;,\n               &#x27;2022-08-30 11:21:03.491000&#x27;, &#x27;2022-08-30 11:21:03.594000&#x27;,\n               &#x27;2022-08-30 11:21:03.696000&#x27;, &#x27;2022-08-30 11:21:03.799000&#x27;,\n               &#x27;2022-08-30 11:21:03.901000&#x27;, &#x27;2022-08-30 11:21:04.003000&#x27;,\n               &#x27;2022-08-30 11:21:04.106000&#x27;, &#x27;2022-08-30 11:21:04.208000&#x27;,\n               &#x27;2022-08-30 11:21:04.311000&#x27;, &#x27;2022-08-30 11:21:04.413000&#x27;,\n               &#x27;2022-08-30 11:21:04.516000&#x27;, &#x27;2022-08-30 11:21:04.618000&#x27;,\n               &#x27;2022-08-30 11:21:04.720000&#x27;, &#x27;2022-08-30 11:21:04.823000&#x27;,\n               &#x27;2022-08-30 11:21:04.925000&#x27;, &#x27;2022-08-30 11:21:05.028000&#x27;,\n               &#x27;2022-08-30 11:21:05.130000&#x27;, &#x27;2022-08-30 11:21:05.233000&#x27;,\n               &#x27;2022-08-30 11:21:05.335000&#x27;, &#x27;2022-08-30 11:21:05.438000&#x27;,\n               &#x27;2022-08-30 11:21:05.540000&#x27;, &#x27;2022-08-30 11:21:05.642000&#x27;,\n               &#x27;2022-08-30 11:21:05.745000&#x27;, &#x27;2022-08-30 11:21:05.847000&#x27;,\n               &#x27;2022-08-30 11:21:05.950000&#x27;, &#x27;2022-08-30 11:21:06.052000&#x27;,\n               &#x27;2022-08-30 11:21:06.155000&#x27;, &#x27;2022-08-30 11:21:06.257000&#x27;,\n               &#x27;2022-08-30 11:21:06.359000&#x27;, &#x27;2022-08-30 11:21:06.462000&#x27;,\n               &#x27;2022-08-30 11:21:06.564000&#x27;, &#x27;2022-08-30 11:21:06.667000&#x27;,\n               &#x27;2022-08-30 11:21:06.769000&#x27;, &#x27;2022-08-30 11:21:06.872000&#x27;,\n               &#x27;2022-08-30 11:21:06.974000&#x27;, &#x27;2022-08-30 11:21:07.077000&#x27;,\n               &#x27;2022-08-30 11:21:07.179000&#x27;, &#x27;2022-08-30 11:21:07.281000&#x27;,\n               &#x27;2022-08-30 11:21:07.384000&#x27;, &#x27;2022-08-30 11:21:07.486000&#x27;,\n               &#x27;2022-08-30 11:21:07.589000&#x27;, &#x27;2022-08-30 11:21:07.691000&#x27;,\n               &#x27;2022-08-30 11:21:07.794000&#x27;, &#x27;2022-08-30 11:21:07.896000&#x27;,\n               &#x27;2022-08-30 11:21:07.998000&#x27;, &#x27;2022-08-30 11:21:08.101000&#x27;,\n               &#x27;2022-08-30 11:21:08.203000&#x27;, &#x27;2022-08-30 11:21:08.306000&#x27;,\n               &#x27;2022-08-30 11:21:08.408000&#x27;, &#x27;2022-08-30 11:21:08.511000&#x27;,\n               &#x27;2022-08-30 11:21:08.613000&#x27;, &#x27;2022-08-30 11:21:08.715000&#x27;,\n               &#x27;2022-08-30 11:21:08.818000&#x27;, &#x27;2022-08-30 11:21:08.920000&#x27;,\n               &#x27;2022-08-30 11:21:09.023000&#x27;, &#x27;2022-08-30 11:21:09.125000&#x27;,\n               &#x27;2022-08-30 11:21:09.228000&#x27;],\n              dtype=&#x27;datetime64[ns]&#x27;, name=&#x27;time&#x27;, freq=None))</pre></div></li></ul></div></li><li class='xr-section-item'><input id='section-90096752-3d23-4948-9cf5-e5566e030f57' class='xr-section-summary-in' type='checkbox'  ><label for='section-90096752-3d23-4948-9cf5-e5566e030f57' class='xr-section-summary' >Attributes: <span>(31)</span></label><div class='xr-section-inline-details'></div><div class='xr-section-details'><dl class='xr-attrs'><dt><span>title :</span></dt><dd>TROPOS pyranometer network (PyrNet) observations</dd><dt><span>institution :</span></dt><dd>Leibniz Institute for Tropospheric Research (TROPOS)</dd><dt><span>department :</span></dt><dd>Remote Sensing of Atmospheric Processes</dd><dt><span>department_team :</span></dt><dd>Clouds, Aerosol and Radiation</dd><dt><span>address :</span></dt><dd>Permoser Str. 15, 04318 Leipzig, Germany</dd><dt><span>source :</span></dt><dd>TROPOS pyranometer network (PyrNet)</dd><dt><span>contact_person :</span></dt><dd>Andreas Macke and the clouds, aerosol and radiation team of the remote sensing department, mailto:andreas.macke@tropos.de</dd><dt><span>contributor_name :</span></dt><dd></dd><dt><span>contributor_role :</span></dt><dd></dd><dt><span>authors_software :</span></dt><dd>Hartwig Deneke, Jonas Witthuhn, mailto:deneke@tropos.de</dd><dt><span>creator_name :</span></dt><dd></dd><dt><span>project :</span></dt><dd></dd><dt><span>references :</span></dt><dd>https://doi.org/10.5194/amt-9-1153-2016</dd><dt><span>standard_name_vocabulary :</span></dt><dd>CF Standard Name Table v81</dd><dt><span>conventions :</span></dt><dd>CF-1.10, ACDD-1.3</dd><dt><span>license :</span></dt><dd>CC-BY-SA 3.0</dd><dt><span>TESTNOTE :</span></dt><dd>This is a test note.</dd><dt><span>processing_level :</span></dt><dd>l1a</dd><dt><span>product_version :</span></dt><dd>0.1.8+1.g72dffd1.dirty</dd><dt><span>history :</span></dt><dd>2023-06-27T06:54:50: Generated level l1a  by pyrnet version 0.1.8+1.g72dffd1.dirty; </dd><dt><span>date_created :</span></dt><dd>2023-06-27T06:54:50</dd><dt><span>geospatial_lat_min :</span></dt><dd>51.390208333333334</dd><dt><span>geospatial_lat_max :</span></dt><dd>51.390211666666666</dd><dt><span>geospatial_lat_units :</span></dt><dd>degN</dd><dt><span>geospatial_lon_min :</span></dt><dd>11.885246666666667</dd><dt><span>geospatial_lon_max :</span></dt><dd>11.885256666666667</dd><dt><span>geospatial_lon_units :</span></dt><dd>degE</dd><dt><span>time_coverage_start :</span></dt><dd>2022-08-30T11:21:04.065000</dd><dt><span>time_coverage_end :</span></dt><dd>2022-08-30T11:21:09</dd><dt><span>time_coverage_duration :</span></dt><dd>P0DT0H0M4.935S</dd><dt><span>time_coverage_resolution :</span></dt><dd>P0DT0H0M1.23375S</dd></dl></div></li></ul></div></div>"
     },
     "execution_count": 16,
     "metadata": {},
     "output_type": "execute_result"
    }
   ],
   "source": [
    "#|dropcode\n",
    "#|dropout\n",
    "# 1. Load l1a data\n",
    "ds_l1a = xr.open_dataset(fname)\n",
    "# check correct file\n",
    "if ds_l1a.processing_level != \"l1a\":\n",
    "    raise ValueError(f\"{fname} is not a l1a file.\")\n",
    "\n",
    "\n",
    "# 2. Sync GPS to ADC time\n",
    "adctime = pyrlogger.sync_adc_time(\n",
    "    adctime = ds_l1a.adctime.values,\n",
    "    gpstime = ds_l1a.gpstime.values,\n",
    "    iadc = ds_l1a.iadc.squeeze().values.astype(int)\n",
    ")\n",
    "\n",
    "# 3. Create new dataset (l1b) with synced time\n",
    "\n",
    "ds_l1b = ds_l1a.drop_dims('gpstime')\n",
    "ds_l1b = ds_l1b.drop_vars(['ghi_qc','gti_qc']) # keep only time dependend variables\n",
    "ds_l1b = ds_l1b.assign({'time': ('adctime', adctime)})\n",
    "ds_l1b = ds_l1b.swap_dims({\"adctime\":\"time\"})\n",
    "ds_l1b = ds_l1b.drop_vars(\"adctime\")\n",
    "ds_l1b"
   ],
   "metadata": {
    "collapsed": false,
    "ExecuteTime": {
     "end_time": "2023-06-27T06:54:50.980936900Z",
     "start_time": "2023-06-27T06:54:50.815398800Z"
    }
   }
  },
  {
   "cell_type": "code",
   "execution_count": 17,
   "outputs": [],
   "source": [
    "#|hide\n",
    "# dsp = ds_l1b.sel(time=\"2019-07-15\")\n",
    "# plt.figure()\n",
    "# plt.plot(dsp.time, dsp.ghi)\n",
    "# plt.grid()"
   ],
   "metadata": {
    "collapsed": false,
    "ExecuteTime": {
     "end_time": "2023-06-27T06:54:50.987822200Z",
     "start_time": "2023-06-27T06:54:50.987317800Z"
    }
   }
  },
  {
   "cell_type": "markdown",
   "source": [
    "4. Drop first and last X minutes of data to avoid bad data due to maintenance\n",
    "\n",
    "```{note}\n",
    "config.json -> \"stripminutes\"\n",
    "```"
   ],
   "metadata": {
    "collapsed": false
   }
  },
  {
   "cell_type": "code",
   "execution_count": 18,
   "outputs": [
    {
     "data": {
      "text/plain": "<xarray.Dataset>\nDimensions:          (time: 37, station: 1)\nCoordinates:\n  * station          (station) float32 1.0\n  * time             (time) datetime64[ns] 2022-08-30T11:21:03.491000 ... 202...\nData variables:\n    ghi              (time, station) float32 ...\n    gti              (time, station) float32 ...\n    ta               (time, station) float32 ...\n    rh               (time, station) float32 ...\n    battery_voltage  (time, station) float32 ...\nAttributes: (12/31)\n    title:                     TROPOS pyranometer network (PyrNet) observations\n    institution:               Leibniz Institute for Tropospheric Research (T...\n    department:                Remote Sensing of Atmospheric Processes\n    department_team:           Clouds, Aerosol and Radiation\n    address:                   Permoser Str. 15, 04318 Leipzig, Germany\n    source:                    TROPOS pyranometer network (PyrNet)\n    ...                        ...\n    geospatial_lon_max:        11.885256666666667\n    geospatial_lon_units:      degE\n    time_coverage_start:       2022-08-30T11:21:04.065000\n    time_coverage_end:         2022-08-30T11:21:09\n    time_coverage_duration:    P0DT0H0M4.935S\n    time_coverage_resolution:  P0DT0H0M1.23375S",
      "text/html": "<div><svg style=\"position: absolute; width: 0; height: 0; overflow: hidden\">\n<defs>\n<symbol id=\"icon-database\" viewBox=\"0 0 32 32\">\n<path d=\"M16 0c-8.837 0-16 2.239-16 5v4c0 2.761 7.163 5 16 5s16-2.239 16-5v-4c0-2.761-7.163-5-16-5z\"></path>\n<path d=\"M16 17c-8.837 0-16-2.239-16-5v6c0 2.761 7.163 5 16 5s16-2.239 16-5v-6c0 2.761-7.163 5-16 5z\"></path>\n<path d=\"M16 26c-8.837 0-16-2.239-16-5v6c0 2.761 7.163 5 16 5s16-2.239 16-5v-6c0 2.761-7.163 5-16 5z\"></path>\n</symbol>\n<symbol id=\"icon-file-text2\" viewBox=\"0 0 32 32\">\n<path d=\"M28.681 7.159c-0.694-0.947-1.662-2.053-2.724-3.116s-2.169-2.030-3.116-2.724c-1.612-1.182-2.393-1.319-2.841-1.319h-15.5c-1.378 0-2.5 1.121-2.5 2.5v27c0 1.378 1.122 2.5 2.5 2.5h23c1.378 0 2.5-1.122 2.5-2.5v-19.5c0-0.448-0.137-1.23-1.319-2.841zM24.543 5.457c0.959 0.959 1.712 1.825 2.268 2.543h-4.811v-4.811c0.718 0.556 1.584 1.309 2.543 2.268zM28 29.5c0 0.271-0.229 0.5-0.5 0.5h-23c-0.271 0-0.5-0.229-0.5-0.5v-27c0-0.271 0.229-0.5 0.5-0.5 0 0 15.499-0 15.5 0v7c0 0.552 0.448 1 1 1h7v19.5z\"></path>\n<path d=\"M23 26h-14c-0.552 0-1-0.448-1-1s0.448-1 1-1h14c0.552 0 1 0.448 1 1s-0.448 1-1 1z\"></path>\n<path d=\"M23 22h-14c-0.552 0-1-0.448-1-1s0.448-1 1-1h14c0.552 0 1 0.448 1 1s-0.448 1-1 1z\"></path>\n<path d=\"M23 18h-14c-0.552 0-1-0.448-1-1s0.448-1 1-1h14c0.552 0 1 0.448 1 1s-0.448 1-1 1z\"></path>\n</symbol>\n</defs>\n</svg>\n<style>/* CSS stylesheet for displaying xarray objects in jupyterlab.\n *\n */\n\n:root {\n  --xr-font-color0: var(--jp-content-font-color0, rgba(0, 0, 0, 1));\n  --xr-font-color2: var(--jp-content-font-color2, rgba(0, 0, 0, 0.54));\n  --xr-font-color3: var(--jp-content-font-color3, rgba(0, 0, 0, 0.38));\n  --xr-border-color: var(--jp-border-color2, #e0e0e0);\n  --xr-disabled-color: var(--jp-layout-color3, #bdbdbd);\n  --xr-background-color: var(--jp-layout-color0, white);\n  --xr-background-color-row-even: var(--jp-layout-color1, white);\n  --xr-background-color-row-odd: var(--jp-layout-color2, #eeeeee);\n}\n\nhtml[theme=dark],\nbody[data-theme=dark],\nbody.vscode-dark {\n  --xr-font-color0: rgba(255, 255, 255, 1);\n  --xr-font-color2: rgba(255, 255, 255, 0.54);\n  --xr-font-color3: rgba(255, 255, 255, 0.38);\n  --xr-border-color: #1F1F1F;\n  --xr-disabled-color: #515151;\n  --xr-background-color: #111111;\n  --xr-background-color-row-even: #111111;\n  --xr-background-color-row-odd: #313131;\n}\n\n.xr-wrap {\n  display: block !important;\n  min-width: 300px;\n  max-width: 700px;\n}\n\n.xr-text-repr-fallback {\n  /* fallback to plain text repr when CSS is not injected (untrusted notebook) */\n  display: none;\n}\n\n.xr-header {\n  padding-top: 6px;\n  padding-bottom: 6px;\n  margin-bottom: 4px;\n  border-bottom: solid 1px var(--xr-border-color);\n}\n\n.xr-header > div,\n.xr-header > ul {\n  display: inline;\n  margin-top: 0;\n  margin-bottom: 0;\n}\n\n.xr-obj-type,\n.xr-array-name {\n  margin-left: 2px;\n  margin-right: 10px;\n}\n\n.xr-obj-type {\n  color: var(--xr-font-color2);\n}\n\n.xr-sections {\n  padding-left: 0 !important;\n  display: grid;\n  grid-template-columns: 150px auto auto 1fr 20px 20px;\n}\n\n.xr-section-item {\n  display: contents;\n}\n\n.xr-section-item input {\n  display: none;\n}\n\n.xr-section-item input + label {\n  color: var(--xr-disabled-color);\n}\n\n.xr-section-item input:enabled + label {\n  cursor: pointer;\n  color: var(--xr-font-color2);\n}\n\n.xr-section-item input:enabled + label:hover {\n  color: var(--xr-font-color0);\n}\n\n.xr-section-summary {\n  grid-column: 1;\n  color: var(--xr-font-color2);\n  font-weight: 500;\n}\n\n.xr-section-summary > span {\n  display: inline-block;\n  padding-left: 0.5em;\n}\n\n.xr-section-summary-in:disabled + label {\n  color: var(--xr-font-color2);\n}\n\n.xr-section-summary-in + label:before {\n  display: inline-block;\n  content: '►';\n  font-size: 11px;\n  width: 15px;\n  text-align: center;\n}\n\n.xr-section-summary-in:disabled + label:before {\n  color: var(--xr-disabled-color);\n}\n\n.xr-section-summary-in:checked + label:before {\n  content: '▼';\n}\n\n.xr-section-summary-in:checked + label > span {\n  display: none;\n}\n\n.xr-section-summary,\n.xr-section-inline-details {\n  padding-top: 4px;\n  padding-bottom: 4px;\n}\n\n.xr-section-inline-details {\n  grid-column: 2 / -1;\n}\n\n.xr-section-details {\n  display: none;\n  grid-column: 1 / -1;\n  margin-bottom: 5px;\n}\n\n.xr-section-summary-in:checked ~ .xr-section-details {\n  display: contents;\n}\n\n.xr-array-wrap {\n  grid-column: 1 / -1;\n  display: grid;\n  grid-template-columns: 20px auto;\n}\n\n.xr-array-wrap > label {\n  grid-column: 1;\n  vertical-align: top;\n}\n\n.xr-preview {\n  color: var(--xr-font-color3);\n}\n\n.xr-array-preview,\n.xr-array-data {\n  padding: 0 5px !important;\n  grid-column: 2;\n}\n\n.xr-array-data,\n.xr-array-in:checked ~ .xr-array-preview {\n  display: none;\n}\n\n.xr-array-in:checked ~ .xr-array-data,\n.xr-array-preview {\n  display: inline-block;\n}\n\n.xr-dim-list {\n  display: inline-block !important;\n  list-style: none;\n  padding: 0 !important;\n  margin: 0;\n}\n\n.xr-dim-list li {\n  display: inline-block;\n  padding: 0;\n  margin: 0;\n}\n\n.xr-dim-list:before {\n  content: '(';\n}\n\n.xr-dim-list:after {\n  content: ')';\n}\n\n.xr-dim-list li:not(:last-child):after {\n  content: ',';\n  padding-right: 5px;\n}\n\n.xr-has-index {\n  font-weight: bold;\n}\n\n.xr-var-list,\n.xr-var-item {\n  display: contents;\n}\n\n.xr-var-item > div,\n.xr-var-item label,\n.xr-var-item > .xr-var-name span {\n  background-color: var(--xr-background-color-row-even);\n  margin-bottom: 0;\n}\n\n.xr-var-item > .xr-var-name:hover span {\n  padding-right: 5px;\n}\n\n.xr-var-list > li:nth-child(odd) > div,\n.xr-var-list > li:nth-child(odd) > label,\n.xr-var-list > li:nth-child(odd) > .xr-var-name span {\n  background-color: var(--xr-background-color-row-odd);\n}\n\n.xr-var-name {\n  grid-column: 1;\n}\n\n.xr-var-dims {\n  grid-column: 2;\n}\n\n.xr-var-dtype {\n  grid-column: 3;\n  text-align: right;\n  color: var(--xr-font-color2);\n}\n\n.xr-var-preview {\n  grid-column: 4;\n}\n\n.xr-index-preview {\n  grid-column: 2 / 5;\n  color: var(--xr-font-color2);\n}\n\n.xr-var-name,\n.xr-var-dims,\n.xr-var-dtype,\n.xr-preview,\n.xr-attrs dt {\n  white-space: nowrap;\n  overflow: hidden;\n  text-overflow: ellipsis;\n  padding-right: 10px;\n}\n\n.xr-var-name:hover,\n.xr-var-dims:hover,\n.xr-var-dtype:hover,\n.xr-attrs dt:hover {\n  overflow: visible;\n  width: auto;\n  z-index: 1;\n}\n\n.xr-var-attrs,\n.xr-var-data,\n.xr-index-data {\n  display: none;\n  background-color: var(--xr-background-color) !important;\n  padding-bottom: 5px !important;\n}\n\n.xr-var-attrs-in:checked ~ .xr-var-attrs,\n.xr-var-data-in:checked ~ .xr-var-data,\n.xr-index-data-in:checked ~ .xr-index-data {\n  display: block;\n}\n\n.xr-var-data > table {\n  float: right;\n}\n\n.xr-var-name span,\n.xr-var-data,\n.xr-index-name div,\n.xr-index-data,\n.xr-attrs {\n  padding-left: 25px !important;\n}\n\n.xr-attrs,\n.xr-var-attrs,\n.xr-var-data,\n.xr-index-data {\n  grid-column: 1 / -1;\n}\n\ndl.xr-attrs {\n  padding: 0;\n  margin: 0;\n  display: grid;\n  grid-template-columns: 125px auto;\n}\n\n.xr-attrs dt,\n.xr-attrs dd {\n  padding: 0;\n  margin: 0;\n  float: left;\n  padding-right: 10px;\n  width: auto;\n}\n\n.xr-attrs dt {\n  font-weight: normal;\n  grid-column: 1;\n}\n\n.xr-attrs dt:hover span {\n  display: inline-block;\n  background: var(--xr-background-color);\n  padding-right: 10px;\n}\n\n.xr-attrs dd {\n  grid-column: 2;\n  white-space: pre-wrap;\n  word-break: break-all;\n}\n\n.xr-icon-database,\n.xr-icon-file-text2,\n.xr-no-icon {\n  display: inline-block;\n  vertical-align: middle;\n  width: 1em;\n  height: 1.5em !important;\n  stroke-width: 0;\n  stroke: currentColor;\n  fill: currentColor;\n}\n</style><pre class='xr-text-repr-fallback'>&lt;xarray.Dataset&gt;\nDimensions:          (time: 37, station: 1)\nCoordinates:\n  * station          (station) float32 1.0\n  * time             (time) datetime64[ns] 2022-08-30T11:21:03.491000 ... 202...\nData variables:\n    ghi              (time, station) float32 ...\n    gti              (time, station) float32 ...\n    ta               (time, station) float32 ...\n    rh               (time, station) float32 ...\n    battery_voltage  (time, station) float32 ...\nAttributes: (12/31)\n    title:                     TROPOS pyranometer network (PyrNet) observations\n    institution:               Leibniz Institute for Tropospheric Research (T...\n    department:                Remote Sensing of Atmospheric Processes\n    department_team:           Clouds, Aerosol and Radiation\n    address:                   Permoser Str. 15, 04318 Leipzig, Germany\n    source:                    TROPOS pyranometer network (PyrNet)\n    ...                        ...\n    geospatial_lon_max:        11.885256666666667\n    geospatial_lon_units:      degE\n    time_coverage_start:       2022-08-30T11:21:04.065000\n    time_coverage_end:         2022-08-30T11:21:09\n    time_coverage_duration:    P0DT0H0M4.935S\n    time_coverage_resolution:  P0DT0H0M1.23375S</pre><div class='xr-wrap' style='display:none'><div class='xr-header'><div class='xr-obj-type'>xarray.Dataset</div></div><ul class='xr-sections'><li class='xr-section-item'><input id='section-160fdfb5-309e-4877-9842-cea918a77ebe' class='xr-section-summary-in' type='checkbox' disabled ><label for='section-160fdfb5-309e-4877-9842-cea918a77ebe' class='xr-section-summary'  title='Expand/collapse section'>Dimensions:</label><div class='xr-section-inline-details'><ul class='xr-dim-list'><li><span class='xr-has-index'>time</span>: 37</li><li><span class='xr-has-index'>station</span>: 1</li></ul></div><div class='xr-section-details'></div></li><li class='xr-section-item'><input id='section-2c8f1f30-1ded-40e9-ba1a-9f88bce42334' class='xr-section-summary-in' type='checkbox'  checked><label for='section-2c8f1f30-1ded-40e9-ba1a-9f88bce42334' class='xr-section-summary' >Coordinates: <span>(2)</span></label><div class='xr-section-inline-details'></div><div class='xr-section-details'><ul class='xr-var-list'><li class='xr-var-item'><div class='xr-var-name'><span class='xr-has-index'>station</span></div><div class='xr-var-dims'>(station)</div><div class='xr-var-dtype'>float32</div><div class='xr-var-preview xr-preview'>1.0</div><input id='attrs-c8525bf6-0519-42a9-afd4-b10ffd41094c' class='xr-var-attrs-in' type='checkbox' ><label for='attrs-c8525bf6-0519-42a9-afd4-b10ffd41094c' title='Show/Hide attributes'><svg class='icon xr-icon-file-text2'><use xlink:href='#icon-file-text2'></use></svg></label><input id='data-54fcf143-1881-4752-9a14-f57eea3d41e3' class='xr-var-data-in' type='checkbox'><label for='data-54fcf143-1881-4752-9a14-f57eea3d41e3' title='Show/Hide data repr'><svg class='icon xr-icon-database'><use xlink:href='#icon-database'></use></svg></label><div class='xr-var-attrs'><dl class='xr-attrs'><dt><span>units :</span></dt><dd>-</dd><dt><span>long_name :</span></dt><dd>PyrNet unit box number</dd></dl></div><div class='xr-var-data'><pre>array([1.], dtype=float32)</pre></div></li><li class='xr-var-item'><div class='xr-var-name'><span class='xr-has-index'>time</span></div><div class='xr-var-dims'>(time)</div><div class='xr-var-dtype'>datetime64[ns]</div><div class='xr-var-preview xr-preview'>2022-08-30T11:21:03.491000 ... 2...</div><input id='attrs-07394fcc-ed70-485f-ae18-89cc6ddbffa2' class='xr-var-attrs-in' type='checkbox' disabled><label for='attrs-07394fcc-ed70-485f-ae18-89cc6ddbffa2' title='Show/Hide attributes'><svg class='icon xr-icon-file-text2'><use xlink:href='#icon-file-text2'></use></svg></label><input id='data-e10e72a1-02fc-4879-a958-1edac06c607f' class='xr-var-data-in' type='checkbox'><label for='data-e10e72a1-02fc-4879-a958-1edac06c607f' title='Show/Hide data repr'><svg class='icon xr-icon-database'><use xlink:href='#icon-database'></use></svg></label><div class='xr-var-attrs'><dl class='xr-attrs'></dl></div><div class='xr-var-data'><pre>array([&#x27;2022-08-30T11:21:03.491000000&#x27;, &#x27;2022-08-30T11:21:03.594000000&#x27;,\n       &#x27;2022-08-30T11:21:03.696000000&#x27;, &#x27;2022-08-30T11:21:03.799000000&#x27;,\n       &#x27;2022-08-30T11:21:03.901000000&#x27;, &#x27;2022-08-30T11:21:04.003000000&#x27;,\n       &#x27;2022-08-30T11:21:04.106000000&#x27;, &#x27;2022-08-30T11:21:04.208000000&#x27;,\n       &#x27;2022-08-30T11:21:04.311000000&#x27;, &#x27;2022-08-30T11:21:04.413000000&#x27;,\n       &#x27;2022-08-30T11:21:04.516000000&#x27;, &#x27;2022-08-30T11:21:04.618000000&#x27;,\n       &#x27;2022-08-30T11:21:04.720000000&#x27;, &#x27;2022-08-30T11:21:04.823000000&#x27;,\n       &#x27;2022-08-30T11:21:04.925000000&#x27;, &#x27;2022-08-30T11:21:05.028000000&#x27;,\n       &#x27;2022-08-30T11:21:05.130000000&#x27;, &#x27;2022-08-30T11:21:05.233000000&#x27;,\n       &#x27;2022-08-30T11:21:05.335000000&#x27;, &#x27;2022-08-30T11:21:05.438000000&#x27;,\n       &#x27;2022-08-30T11:21:05.540000000&#x27;, &#x27;2022-08-30T11:21:05.642000000&#x27;,\n       &#x27;2022-08-30T11:21:05.745000000&#x27;, &#x27;2022-08-30T11:21:05.847000000&#x27;,\n       &#x27;2022-08-30T11:21:05.950000000&#x27;, &#x27;2022-08-30T11:21:06.052000000&#x27;,\n       &#x27;2022-08-30T11:21:06.155000000&#x27;, &#x27;2022-08-30T11:21:06.257000000&#x27;,\n       &#x27;2022-08-30T11:21:06.359000000&#x27;, &#x27;2022-08-30T11:21:06.462000000&#x27;,\n       &#x27;2022-08-30T11:21:06.564000000&#x27;, &#x27;2022-08-30T11:21:06.667000000&#x27;,\n       &#x27;2022-08-30T11:21:06.769000000&#x27;, &#x27;2022-08-30T11:21:06.872000000&#x27;,\n       &#x27;2022-08-30T11:21:06.974000000&#x27;, &#x27;2022-08-30T11:21:07.077000000&#x27;,\n       &#x27;2022-08-30T11:21:07.179000000&#x27;], dtype=&#x27;datetime64[ns]&#x27;)</pre></div></li></ul></div></li><li class='xr-section-item'><input id='section-fcd95696-caa3-4247-a193-c6641a492bd6' class='xr-section-summary-in' type='checkbox'  checked><label for='section-fcd95696-caa3-4247-a193-c6641a492bd6' class='xr-section-summary' >Data variables: <span>(5)</span></label><div class='xr-section-inline-details'></div><div class='xr-section-details'><ul class='xr-var-list'><li class='xr-var-item'><div class='xr-var-name'><span>ghi</span></div><div class='xr-var-dims'>(time, station)</div><div class='xr-var-dtype'>float32</div><div class='xr-var-preview xr-preview'>...</div><input id='attrs-8d4eec9d-1847-47ee-86f9-a8dad5d92984' class='xr-var-attrs-in' type='checkbox' ><label for='attrs-8d4eec9d-1847-47ee-86f9-a8dad5d92984' title='Show/Hide attributes'><svg class='icon xr-icon-file-text2'><use xlink:href='#icon-file-text2'></use></svg></label><input id='data-a22111db-64da-4520-8a5c-4a0741362a0a' class='xr-var-data-in' type='checkbox'><label for='data-a22111db-64da-4520-8a5c-4a0741362a0a' title='Show/Hide data repr'><svg class='icon xr-icon-database'><use xlink:href='#icon-database'></use></svg></label><div class='xr-var-attrs'><dl class='xr-attrs'><dt><span>units :</span></dt><dd>V</dd><dt><span>long_name :</span></dt><dd>downwelling shortwave flux</dd><dt><span>standard_name :</span></dt><dd>downwelling_shortwave_flux_in_air</dd><dt><span>valid_range :</span></dt><dd>[   0 1023]</dd></dl></div><div class='xr-var-data'><pre>[37 values with dtype=float32]</pre></div></li><li class='xr-var-item'><div class='xr-var-name'><span>gti</span></div><div class='xr-var-dims'>(time, station)</div><div class='xr-var-dtype'>float32</div><div class='xr-var-preview xr-preview'>...</div><input id='attrs-447abc1d-bdb2-4498-86a8-a9f7878d2764' class='xr-var-attrs-in' type='checkbox' ><label for='attrs-447abc1d-bdb2-4498-86a8-a9f7878d2764' title='Show/Hide attributes'><svg class='icon xr-icon-file-text2'><use xlink:href='#icon-file-text2'></use></svg></label><input id='data-78bb938b-b4a4-408e-b4e8-a5a9759ca2e4' class='xr-var-data-in' type='checkbox'><label for='data-78bb938b-b4a4-408e-b4e8-a5a9759ca2e4' title='Show/Hide data repr'><svg class='icon xr-icon-database'><use xlink:href='#icon-database'></use></svg></label><div class='xr-var-attrs'><dl class='xr-attrs'><dt><span>units :</span></dt><dd>V</dd><dt><span>long_name :</span></dt><dd>downwelling shortwave flux measured on secondary platform, might be tilted</dd><dt><span>standard_name :</span></dt><dd>downwelling_shortwave_flux_in_air</dd><dt><span>valid_range :</span></dt><dd>[   0 1023]</dd><dt><span>hangle :</span></dt><dd>0.0</dd><dt><span>vangle :</span></dt><dd>0.0</dd></dl></div><div class='xr-var-data'><pre>[37 values with dtype=float32]</pre></div></li><li class='xr-var-item'><div class='xr-var-name'><span>ta</span></div><div class='xr-var-dims'>(time, station)</div><div class='xr-var-dtype'>float32</div><div class='xr-var-preview xr-preview'>...</div><input id='attrs-ba35655b-e123-4edc-a7e6-39861e349621' class='xr-var-attrs-in' type='checkbox' ><label for='attrs-ba35655b-e123-4edc-a7e6-39861e349621' title='Show/Hide attributes'><svg class='icon xr-icon-file-text2'><use xlink:href='#icon-file-text2'></use></svg></label><input id='data-af35b110-97ac-411f-a442-5a4ff1281499' class='xr-var-data-in' type='checkbox'><label for='data-af35b110-97ac-411f-a442-5a4ff1281499' title='Show/Hide data repr'><svg class='icon xr-icon-database'><use xlink:href='#icon-database'></use></svg></label><div class='xr-var-attrs'><dl class='xr-attrs'><dt><span>units :</span></dt><dd>K</dd><dt><span>long_name :</span></dt><dd>air temperature</dd><dt><span>standard_name :</span></dt><dd>air_temperature</dd><dt><span>valid_range :</span></dt><dd>[  0 775]</dd></dl></div><div class='xr-var-data'><pre>[37 values with dtype=float32]</pre></div></li><li class='xr-var-item'><div class='xr-var-name'><span>rh</span></div><div class='xr-var-dims'>(time, station)</div><div class='xr-var-dtype'>float32</div><div class='xr-var-preview xr-preview'>...</div><input id='attrs-20fe9d51-b45b-43f5-bf0e-f457fe96aaa6' class='xr-var-attrs-in' type='checkbox' ><label for='attrs-20fe9d51-b45b-43f5-bf0e-f457fe96aaa6' title='Show/Hide attributes'><svg class='icon xr-icon-file-text2'><use xlink:href='#icon-file-text2'></use></svg></label><input id='data-b5c8f829-c881-415e-a8e8-50702b0d8a87' class='xr-var-data-in' type='checkbox'><label for='data-b5c8f829-c881-415e-a8e8-50702b0d8a87' title='Show/Hide data repr'><svg class='icon xr-icon-database'><use xlink:href='#icon-database'></use></svg></label><div class='xr-var-attrs'><dl class='xr-attrs'><dt><span>units :</span></dt><dd>1</dd><dt><span>long_name :</span></dt><dd>air relative humidity</dd><dt><span>standard_name :</span></dt><dd>relative_humidity</dd><dt><span>valid_range :</span></dt><dd>[  0 775]</dd></dl></div><div class='xr-var-data'><pre>[37 values with dtype=float32]</pre></div></li><li class='xr-var-item'><div class='xr-var-name'><span>battery_voltage</span></div><div class='xr-var-dims'>(time, station)</div><div class='xr-var-dtype'>float32</div><div class='xr-var-preview xr-preview'>...</div><input id='attrs-90ba4228-8b4c-4d41-80e2-de9dcca74ab6' class='xr-var-attrs-in' type='checkbox' ><label for='attrs-90ba4228-8b4c-4d41-80e2-de9dcca74ab6' title='Show/Hide attributes'><svg class='icon xr-icon-file-text2'><use xlink:href='#icon-file-text2'></use></svg></label><input id='data-039f93d5-6d80-4988-bff1-58736bfc560f' class='xr-var-data-in' type='checkbox'><label for='data-039f93d5-6d80-4988-bff1-58736bfc560f' title='Show/Hide data repr'><svg class='icon xr-icon-database'><use xlink:href='#icon-database'></use></svg></label><div class='xr-var-attrs'><dl class='xr-attrs'><dt><span>units :</span></dt><dd>V</dd><dt><span>standard_name :</span></dt><dd>battery_voltage</dd><dt><span>valid_range :</span></dt><dd>[   0 1023]</dd></dl></div><div class='xr-var-data'><pre>[37 values with dtype=float32]</pre></div></li></ul></div></li><li class='xr-section-item'><input id='section-7edd1a15-436a-4f8a-9da5-ffd4c9e4f82b' class='xr-section-summary-in' type='checkbox'  ><label for='section-7edd1a15-436a-4f8a-9da5-ffd4c9e4f82b' class='xr-section-summary' >Indexes: <span>(2)</span></label><div class='xr-section-inline-details'></div><div class='xr-section-details'><ul class='xr-var-list'><li class='xr-var-item'><div class='xr-index-name'><div>station</div></div><div class='xr-index-preview'>PandasIndex</div><div></div><input id='index-9356efa4-67c1-4c3f-ac4d-b1f52d56fa29' class='xr-index-data-in' type='checkbox'/><label for='index-9356efa4-67c1-4c3f-ac4d-b1f52d56fa29' title='Show/Hide index repr'><svg class='icon xr-icon-database'><use xlink:href='#icon-database'></use></svg></label><div class='xr-index-data'><pre>PandasIndex(Float64Index([1.0], dtype=&#x27;float64&#x27;, name=&#x27;station&#x27;))</pre></div></li><li class='xr-var-item'><div class='xr-index-name'><div>time</div></div><div class='xr-index-preview'>PandasIndex</div><div></div><input id='index-64649258-f632-4e92-b165-e0b0150af520' class='xr-index-data-in' type='checkbox'/><label for='index-64649258-f632-4e92-b165-e0b0150af520' title='Show/Hide index repr'><svg class='icon xr-icon-database'><use xlink:href='#icon-database'></use></svg></label><div class='xr-index-data'><pre>PandasIndex(DatetimeIndex([&#x27;2022-08-30 11:21:03.491000&#x27;, &#x27;2022-08-30 11:21:03.594000&#x27;,\n               &#x27;2022-08-30 11:21:03.696000&#x27;, &#x27;2022-08-30 11:21:03.799000&#x27;,\n               &#x27;2022-08-30 11:21:03.901000&#x27;, &#x27;2022-08-30 11:21:04.003000&#x27;,\n               &#x27;2022-08-30 11:21:04.106000&#x27;, &#x27;2022-08-30 11:21:04.208000&#x27;,\n               &#x27;2022-08-30 11:21:04.311000&#x27;, &#x27;2022-08-30 11:21:04.413000&#x27;,\n               &#x27;2022-08-30 11:21:04.516000&#x27;, &#x27;2022-08-30 11:21:04.618000&#x27;,\n               &#x27;2022-08-30 11:21:04.720000&#x27;, &#x27;2022-08-30 11:21:04.823000&#x27;,\n               &#x27;2022-08-30 11:21:04.925000&#x27;, &#x27;2022-08-30 11:21:05.028000&#x27;,\n               &#x27;2022-08-30 11:21:05.130000&#x27;, &#x27;2022-08-30 11:21:05.233000&#x27;,\n               &#x27;2022-08-30 11:21:05.335000&#x27;, &#x27;2022-08-30 11:21:05.438000&#x27;,\n               &#x27;2022-08-30 11:21:05.540000&#x27;, &#x27;2022-08-30 11:21:05.642000&#x27;,\n               &#x27;2022-08-30 11:21:05.745000&#x27;, &#x27;2022-08-30 11:21:05.847000&#x27;,\n               &#x27;2022-08-30 11:21:05.950000&#x27;, &#x27;2022-08-30 11:21:06.052000&#x27;,\n               &#x27;2022-08-30 11:21:06.155000&#x27;, &#x27;2022-08-30 11:21:06.257000&#x27;,\n               &#x27;2022-08-30 11:21:06.359000&#x27;, &#x27;2022-08-30 11:21:06.462000&#x27;,\n               &#x27;2022-08-30 11:21:06.564000&#x27;, &#x27;2022-08-30 11:21:06.667000&#x27;,\n               &#x27;2022-08-30 11:21:06.769000&#x27;, &#x27;2022-08-30 11:21:06.872000&#x27;,\n               &#x27;2022-08-30 11:21:06.974000&#x27;, &#x27;2022-08-30 11:21:07.077000&#x27;,\n               &#x27;2022-08-30 11:21:07.179000&#x27;],\n              dtype=&#x27;datetime64[ns]&#x27;, name=&#x27;time&#x27;, freq=None))</pre></div></li></ul></div></li><li class='xr-section-item'><input id='section-8e489f52-4b85-4ee8-ac05-0d532ab7ed81' class='xr-section-summary-in' type='checkbox'  ><label for='section-8e489f52-4b85-4ee8-ac05-0d532ab7ed81' class='xr-section-summary' >Attributes: <span>(31)</span></label><div class='xr-section-inline-details'></div><div class='xr-section-details'><dl class='xr-attrs'><dt><span>title :</span></dt><dd>TROPOS pyranometer network (PyrNet) observations</dd><dt><span>institution :</span></dt><dd>Leibniz Institute for Tropospheric Research (TROPOS)</dd><dt><span>department :</span></dt><dd>Remote Sensing of Atmospheric Processes</dd><dt><span>department_team :</span></dt><dd>Clouds, Aerosol and Radiation</dd><dt><span>address :</span></dt><dd>Permoser Str. 15, 04318 Leipzig, Germany</dd><dt><span>source :</span></dt><dd>TROPOS pyranometer network (PyrNet)</dd><dt><span>contact_person :</span></dt><dd>Andreas Macke and the clouds, aerosol and radiation team of the remote sensing department, mailto:andreas.macke@tropos.de</dd><dt><span>contributor_name :</span></dt><dd></dd><dt><span>contributor_role :</span></dt><dd></dd><dt><span>authors_software :</span></dt><dd>Hartwig Deneke, Jonas Witthuhn, mailto:deneke@tropos.de</dd><dt><span>creator_name :</span></dt><dd></dd><dt><span>project :</span></dt><dd></dd><dt><span>references :</span></dt><dd>https://doi.org/10.5194/amt-9-1153-2016</dd><dt><span>standard_name_vocabulary :</span></dt><dd>CF Standard Name Table v81</dd><dt><span>conventions :</span></dt><dd>CF-1.10, ACDD-1.3</dd><dt><span>license :</span></dt><dd>CC-BY-SA 3.0</dd><dt><span>TESTNOTE :</span></dt><dd>This is a test note.</dd><dt><span>processing_level :</span></dt><dd>l1a</dd><dt><span>product_version :</span></dt><dd>0.1.8+1.g72dffd1.dirty</dd><dt><span>history :</span></dt><dd>2023-06-27T06:54:50: Generated level l1a  by pyrnet version 0.1.8+1.g72dffd1.dirty; </dd><dt><span>date_created :</span></dt><dd>2023-06-27T06:54:50</dd><dt><span>geospatial_lat_min :</span></dt><dd>51.390208333333334</dd><dt><span>geospatial_lat_max :</span></dt><dd>51.390211666666666</dd><dt><span>geospatial_lat_units :</span></dt><dd>degN</dd><dt><span>geospatial_lon_min :</span></dt><dd>11.885246666666667</dd><dt><span>geospatial_lon_max :</span></dt><dd>11.885256666666667</dd><dt><span>geospatial_lon_units :</span></dt><dd>degE</dd><dt><span>time_coverage_start :</span></dt><dd>2022-08-30T11:21:04.065000</dd><dt><span>time_coverage_end :</span></dt><dd>2022-08-30T11:21:09</dd><dt><span>time_coverage_duration :</span></dt><dd>P0DT0H0M4.935S</dd><dt><span>time_coverage_resolution :</span></dt><dd>P0DT0H0M1.23375S</dd></dl></div></li></ul></div></div>"
     },
     "execution_count": 18,
     "metadata": {},
     "output_type": "execute_result"
    }
   ],
   "source": [
    "#|dropcode\n",
    "#|dropout\n",
    "# 4. Drop first and last <stripminutes> minutes of data to avoid bad data due to maintenance\n",
    "\n",
    "# stripminutes = np.timedelta64(int(config['stripminutes']), 'm')\n",
    "# for now use some seconds for demonstration\n",
    "stripminutes = np.timedelta64(2, 's')\n",
    "tslice = slice(ds_l1b.time.values[0] + stripminutes,\n",
    "               ds_l1b.time.values[-1] - stripminutes)\n",
    "ds_l1b = ds_l1b.sel(time=tslice)\n",
    "ds_l1b"
   ],
   "metadata": {
    "collapsed": false,
    "ExecuteTime": {
     "end_time": "2023-06-27T06:54:51.031950700Z",
     "start_time": "2023-06-27T06:54:50.994328Z"
    }
   }
  },
  {
   "cell_type": "code",
   "execution_count": 19,
   "outputs": [],
   "source": [
    "#|hide\n",
    "# dsp = ds_l1b.sel(time=\"2019-07-15\")\n",
    "# plt.figure()\n",
    "# plt.plot(dsp.time, dsp.ghi)\n",
    "# plt.grid()"
   ],
   "metadata": {
    "collapsed": false,
    "ExecuteTime": {
     "end_time": "2023-06-27T06:54:51.032996900Z",
     "start_time": "2023-06-27T06:54:51.018957300Z"
    }
   }
  },
  {
   "cell_type": "markdown",
   "source": [
    "5. Apply appropriate binning to ADC values\n",
    "    * ```pyrnet.logger.resample_mean```\n"
   ],
   "metadata": {
    "collapsed": false
   }
  },
  {
   "cell_type": "code",
   "execution_count": 20,
   "outputs": [
    {
     "data": {
      "text/plain": "<xarray.Dataset>\nDimensions:          (time: 5, station: 1)\nCoordinates:\n  * station          (station) float32 1.0\n  * time             (time) datetime64[ns] 2022-08-30T11:21:03 ... 2022-08-30...\nData variables:\n    ghi              (time, station) float64 0.002086 0.002085 ... 0.002086\n    gti              (time, station) float64 0.001935 0.001935 ... 0.001935\n    ta               (time, station) float64 294.8 294.7 294.8 294.7 294.8\n    rh               (time, station) float64 0.6263 0.6266 0.6271 0.6271 0.629\n    battery_voltage  (time, station) float64 6.445 6.446 6.45 6.448 6.458\nAttributes: (12/31)\n    title:                     TROPOS pyranometer network (PyrNet) observations\n    institution:               Leibniz Institute for Tropospheric Research (T...\n    department:                Remote Sensing of Atmospheric Processes\n    department_team:           Clouds, Aerosol and Radiation\n    address:                   Permoser Str. 15, 04318 Leipzig, Germany\n    source:                    TROPOS pyranometer network (PyrNet)\n    ...                        ...\n    geospatial_lon_max:        11.885256666666667\n    geospatial_lon_units:      degE\n    time_coverage_start:       2022-08-30T11:21:04.065000\n    time_coverage_end:         2022-08-30T11:21:09\n    time_coverage_duration:    P0DT0H0M4.935S\n    time_coverage_resolution:  P0DT0H0M1.23375S",
      "text/html": "<div><svg style=\"position: absolute; width: 0; height: 0; overflow: hidden\">\n<defs>\n<symbol id=\"icon-database\" viewBox=\"0 0 32 32\">\n<path d=\"M16 0c-8.837 0-16 2.239-16 5v4c0 2.761 7.163 5 16 5s16-2.239 16-5v-4c0-2.761-7.163-5-16-5z\"></path>\n<path d=\"M16 17c-8.837 0-16-2.239-16-5v6c0 2.761 7.163 5 16 5s16-2.239 16-5v-6c0 2.761-7.163 5-16 5z\"></path>\n<path d=\"M16 26c-8.837 0-16-2.239-16-5v6c0 2.761 7.163 5 16 5s16-2.239 16-5v-6c0 2.761-7.163 5-16 5z\"></path>\n</symbol>\n<symbol id=\"icon-file-text2\" viewBox=\"0 0 32 32\">\n<path d=\"M28.681 7.159c-0.694-0.947-1.662-2.053-2.724-3.116s-2.169-2.030-3.116-2.724c-1.612-1.182-2.393-1.319-2.841-1.319h-15.5c-1.378 0-2.5 1.121-2.5 2.5v27c0 1.378 1.122 2.5 2.5 2.5h23c1.378 0 2.5-1.122 2.5-2.5v-19.5c0-0.448-0.137-1.23-1.319-2.841zM24.543 5.457c0.959 0.959 1.712 1.825 2.268 2.543h-4.811v-4.811c0.718 0.556 1.584 1.309 2.543 2.268zM28 29.5c0 0.271-0.229 0.5-0.5 0.5h-23c-0.271 0-0.5-0.229-0.5-0.5v-27c0-0.271 0.229-0.5 0.5-0.5 0 0 15.499-0 15.5 0v7c0 0.552 0.448 1 1 1h7v19.5z\"></path>\n<path d=\"M23 26h-14c-0.552 0-1-0.448-1-1s0.448-1 1-1h14c0.552 0 1 0.448 1 1s-0.448 1-1 1z\"></path>\n<path d=\"M23 22h-14c-0.552 0-1-0.448-1-1s0.448-1 1-1h14c0.552 0 1 0.448 1 1s-0.448 1-1 1z\"></path>\n<path d=\"M23 18h-14c-0.552 0-1-0.448-1-1s0.448-1 1-1h14c0.552 0 1 0.448 1 1s-0.448 1-1 1z\"></path>\n</symbol>\n</defs>\n</svg>\n<style>/* CSS stylesheet for displaying xarray objects in jupyterlab.\n *\n */\n\n:root {\n  --xr-font-color0: var(--jp-content-font-color0, rgba(0, 0, 0, 1));\n  --xr-font-color2: var(--jp-content-font-color2, rgba(0, 0, 0, 0.54));\n  --xr-font-color3: var(--jp-content-font-color3, rgba(0, 0, 0, 0.38));\n  --xr-border-color: var(--jp-border-color2, #e0e0e0);\n  --xr-disabled-color: var(--jp-layout-color3, #bdbdbd);\n  --xr-background-color: var(--jp-layout-color0, white);\n  --xr-background-color-row-even: var(--jp-layout-color1, white);\n  --xr-background-color-row-odd: var(--jp-layout-color2, #eeeeee);\n}\n\nhtml[theme=dark],\nbody[data-theme=dark],\nbody.vscode-dark {\n  --xr-font-color0: rgba(255, 255, 255, 1);\n  --xr-font-color2: rgba(255, 255, 255, 0.54);\n  --xr-font-color3: rgba(255, 255, 255, 0.38);\n  --xr-border-color: #1F1F1F;\n  --xr-disabled-color: #515151;\n  --xr-background-color: #111111;\n  --xr-background-color-row-even: #111111;\n  --xr-background-color-row-odd: #313131;\n}\n\n.xr-wrap {\n  display: block !important;\n  min-width: 300px;\n  max-width: 700px;\n}\n\n.xr-text-repr-fallback {\n  /* fallback to plain text repr when CSS is not injected (untrusted notebook) */\n  display: none;\n}\n\n.xr-header {\n  padding-top: 6px;\n  padding-bottom: 6px;\n  margin-bottom: 4px;\n  border-bottom: solid 1px var(--xr-border-color);\n}\n\n.xr-header > div,\n.xr-header > ul {\n  display: inline;\n  margin-top: 0;\n  margin-bottom: 0;\n}\n\n.xr-obj-type,\n.xr-array-name {\n  margin-left: 2px;\n  margin-right: 10px;\n}\n\n.xr-obj-type {\n  color: var(--xr-font-color2);\n}\n\n.xr-sections {\n  padding-left: 0 !important;\n  display: grid;\n  grid-template-columns: 150px auto auto 1fr 20px 20px;\n}\n\n.xr-section-item {\n  display: contents;\n}\n\n.xr-section-item input {\n  display: none;\n}\n\n.xr-section-item input + label {\n  color: var(--xr-disabled-color);\n}\n\n.xr-section-item input:enabled + label {\n  cursor: pointer;\n  color: var(--xr-font-color2);\n}\n\n.xr-section-item input:enabled + label:hover {\n  color: var(--xr-font-color0);\n}\n\n.xr-section-summary {\n  grid-column: 1;\n  color: var(--xr-font-color2);\n  font-weight: 500;\n}\n\n.xr-section-summary > span {\n  display: inline-block;\n  padding-left: 0.5em;\n}\n\n.xr-section-summary-in:disabled + label {\n  color: var(--xr-font-color2);\n}\n\n.xr-section-summary-in + label:before {\n  display: inline-block;\n  content: '►';\n  font-size: 11px;\n  width: 15px;\n  text-align: center;\n}\n\n.xr-section-summary-in:disabled + label:before {\n  color: var(--xr-disabled-color);\n}\n\n.xr-section-summary-in:checked + label:before {\n  content: '▼';\n}\n\n.xr-section-summary-in:checked + label > span {\n  display: none;\n}\n\n.xr-section-summary,\n.xr-section-inline-details {\n  padding-top: 4px;\n  padding-bottom: 4px;\n}\n\n.xr-section-inline-details {\n  grid-column: 2 / -1;\n}\n\n.xr-section-details {\n  display: none;\n  grid-column: 1 / -1;\n  margin-bottom: 5px;\n}\n\n.xr-section-summary-in:checked ~ .xr-section-details {\n  display: contents;\n}\n\n.xr-array-wrap {\n  grid-column: 1 / -1;\n  display: grid;\n  grid-template-columns: 20px auto;\n}\n\n.xr-array-wrap > label {\n  grid-column: 1;\n  vertical-align: top;\n}\n\n.xr-preview {\n  color: var(--xr-font-color3);\n}\n\n.xr-array-preview,\n.xr-array-data {\n  padding: 0 5px !important;\n  grid-column: 2;\n}\n\n.xr-array-data,\n.xr-array-in:checked ~ .xr-array-preview {\n  display: none;\n}\n\n.xr-array-in:checked ~ .xr-array-data,\n.xr-array-preview {\n  display: inline-block;\n}\n\n.xr-dim-list {\n  display: inline-block !important;\n  list-style: none;\n  padding: 0 !important;\n  margin: 0;\n}\n\n.xr-dim-list li {\n  display: inline-block;\n  padding: 0;\n  margin: 0;\n}\n\n.xr-dim-list:before {\n  content: '(';\n}\n\n.xr-dim-list:after {\n  content: ')';\n}\n\n.xr-dim-list li:not(:last-child):after {\n  content: ',';\n  padding-right: 5px;\n}\n\n.xr-has-index {\n  font-weight: bold;\n}\n\n.xr-var-list,\n.xr-var-item {\n  display: contents;\n}\n\n.xr-var-item > div,\n.xr-var-item label,\n.xr-var-item > .xr-var-name span {\n  background-color: var(--xr-background-color-row-even);\n  margin-bottom: 0;\n}\n\n.xr-var-item > .xr-var-name:hover span {\n  padding-right: 5px;\n}\n\n.xr-var-list > li:nth-child(odd) > div,\n.xr-var-list > li:nth-child(odd) > label,\n.xr-var-list > li:nth-child(odd) > .xr-var-name span {\n  background-color: var(--xr-background-color-row-odd);\n}\n\n.xr-var-name {\n  grid-column: 1;\n}\n\n.xr-var-dims {\n  grid-column: 2;\n}\n\n.xr-var-dtype {\n  grid-column: 3;\n  text-align: right;\n  color: var(--xr-font-color2);\n}\n\n.xr-var-preview {\n  grid-column: 4;\n}\n\n.xr-index-preview {\n  grid-column: 2 / 5;\n  color: var(--xr-font-color2);\n}\n\n.xr-var-name,\n.xr-var-dims,\n.xr-var-dtype,\n.xr-preview,\n.xr-attrs dt {\n  white-space: nowrap;\n  overflow: hidden;\n  text-overflow: ellipsis;\n  padding-right: 10px;\n}\n\n.xr-var-name:hover,\n.xr-var-dims:hover,\n.xr-var-dtype:hover,\n.xr-attrs dt:hover {\n  overflow: visible;\n  width: auto;\n  z-index: 1;\n}\n\n.xr-var-attrs,\n.xr-var-data,\n.xr-index-data {\n  display: none;\n  background-color: var(--xr-background-color) !important;\n  padding-bottom: 5px !important;\n}\n\n.xr-var-attrs-in:checked ~ .xr-var-attrs,\n.xr-var-data-in:checked ~ .xr-var-data,\n.xr-index-data-in:checked ~ .xr-index-data {\n  display: block;\n}\n\n.xr-var-data > table {\n  float: right;\n}\n\n.xr-var-name span,\n.xr-var-data,\n.xr-index-name div,\n.xr-index-data,\n.xr-attrs {\n  padding-left: 25px !important;\n}\n\n.xr-attrs,\n.xr-var-attrs,\n.xr-var-data,\n.xr-index-data {\n  grid-column: 1 / -1;\n}\n\ndl.xr-attrs {\n  padding: 0;\n  margin: 0;\n  display: grid;\n  grid-template-columns: 125px auto;\n}\n\n.xr-attrs dt,\n.xr-attrs dd {\n  padding: 0;\n  margin: 0;\n  float: left;\n  padding-right: 10px;\n  width: auto;\n}\n\n.xr-attrs dt {\n  font-weight: normal;\n  grid-column: 1;\n}\n\n.xr-attrs dt:hover span {\n  display: inline-block;\n  background: var(--xr-background-color);\n  padding-right: 10px;\n}\n\n.xr-attrs dd {\n  grid-column: 2;\n  white-space: pre-wrap;\n  word-break: break-all;\n}\n\n.xr-icon-database,\n.xr-icon-file-text2,\n.xr-no-icon {\n  display: inline-block;\n  vertical-align: middle;\n  width: 1em;\n  height: 1.5em !important;\n  stroke-width: 0;\n  stroke: currentColor;\n  fill: currentColor;\n}\n</style><pre class='xr-text-repr-fallback'>&lt;xarray.Dataset&gt;\nDimensions:          (time: 5, station: 1)\nCoordinates:\n  * station          (station) float32 1.0\n  * time             (time) datetime64[ns] 2022-08-30T11:21:03 ... 2022-08-30...\nData variables:\n    ghi              (time, station) float64 0.002086 0.002085 ... 0.002086\n    gti              (time, station) float64 0.001935 0.001935 ... 0.001935\n    ta               (time, station) float64 294.8 294.7 294.8 294.7 294.8\n    rh               (time, station) float64 0.6263 0.6266 0.6271 0.6271 0.629\n    battery_voltage  (time, station) float64 6.445 6.446 6.45 6.448 6.458\nAttributes: (12/31)\n    title:                     TROPOS pyranometer network (PyrNet) observations\n    institution:               Leibniz Institute for Tropospheric Research (T...\n    department:                Remote Sensing of Atmospheric Processes\n    department_team:           Clouds, Aerosol and Radiation\n    address:                   Permoser Str. 15, 04318 Leipzig, Germany\n    source:                    TROPOS pyranometer network (PyrNet)\n    ...                        ...\n    geospatial_lon_max:        11.885256666666667\n    geospatial_lon_units:      degE\n    time_coverage_start:       2022-08-30T11:21:04.065000\n    time_coverage_end:         2022-08-30T11:21:09\n    time_coverage_duration:    P0DT0H0M4.935S\n    time_coverage_resolution:  P0DT0H0M1.23375S</pre><div class='xr-wrap' style='display:none'><div class='xr-header'><div class='xr-obj-type'>xarray.Dataset</div></div><ul class='xr-sections'><li class='xr-section-item'><input id='section-c9372491-353e-407d-a2a7-44a71e45222d' class='xr-section-summary-in' type='checkbox' disabled ><label for='section-c9372491-353e-407d-a2a7-44a71e45222d' class='xr-section-summary'  title='Expand/collapse section'>Dimensions:</label><div class='xr-section-inline-details'><ul class='xr-dim-list'><li><span class='xr-has-index'>time</span>: 5</li><li><span class='xr-has-index'>station</span>: 1</li></ul></div><div class='xr-section-details'></div></li><li class='xr-section-item'><input id='section-e444af1e-c3a1-47db-b6d8-91eeb0a22174' class='xr-section-summary-in' type='checkbox'  checked><label for='section-e444af1e-c3a1-47db-b6d8-91eeb0a22174' class='xr-section-summary' >Coordinates: <span>(2)</span></label><div class='xr-section-inline-details'></div><div class='xr-section-details'><ul class='xr-var-list'><li class='xr-var-item'><div class='xr-var-name'><span class='xr-has-index'>station</span></div><div class='xr-var-dims'>(station)</div><div class='xr-var-dtype'>float32</div><div class='xr-var-preview xr-preview'>1.0</div><input id='attrs-902cb21e-5288-4206-a6bd-ec1165764c58' class='xr-var-attrs-in' type='checkbox' ><label for='attrs-902cb21e-5288-4206-a6bd-ec1165764c58' title='Show/Hide attributes'><svg class='icon xr-icon-file-text2'><use xlink:href='#icon-file-text2'></use></svg></label><input id='data-ed6950e7-f2eb-444f-9af2-e206b55a5564' class='xr-var-data-in' type='checkbox'><label for='data-ed6950e7-f2eb-444f-9af2-e206b55a5564' title='Show/Hide data repr'><svg class='icon xr-icon-database'><use xlink:href='#icon-database'></use></svg></label><div class='xr-var-attrs'><dl class='xr-attrs'><dt><span>units :</span></dt><dd>-</dd><dt><span>long_name :</span></dt><dd>PyrNet unit box number</dd></dl></div><div class='xr-var-data'><pre>array([1.], dtype=float32)</pre></div></li><li class='xr-var-item'><div class='xr-var-name'><span class='xr-has-index'>time</span></div><div class='xr-var-dims'>(time)</div><div class='xr-var-dtype'>datetime64[ns]</div><div class='xr-var-preview xr-preview'>2022-08-30T11:21:03 ... 2022-08-...</div><input id='attrs-8d28d702-22e0-4d1d-80a9-784ef6336680' class='xr-var-attrs-in' type='checkbox' disabled><label for='attrs-8d28d702-22e0-4d1d-80a9-784ef6336680' title='Show/Hide attributes'><svg class='icon xr-icon-file-text2'><use xlink:href='#icon-file-text2'></use></svg></label><input id='data-63ef17ad-3f6a-4d84-9d52-9d52a9bb9efd' class='xr-var-data-in' type='checkbox'><label for='data-63ef17ad-3f6a-4d84-9d52-9d52a9bb9efd' title='Show/Hide data repr'><svg class='icon xr-icon-database'><use xlink:href='#icon-database'></use></svg></label><div class='xr-var-attrs'><dl class='xr-attrs'></dl></div><div class='xr-var-data'><pre>array([&#x27;2022-08-30T11:21:03.000000000&#x27;, &#x27;2022-08-30T11:21:04.000000000&#x27;,\n       &#x27;2022-08-30T11:21:05.000000000&#x27;, &#x27;2022-08-30T11:21:06.000000000&#x27;,\n       &#x27;2022-08-30T11:21:07.000000000&#x27;], dtype=&#x27;datetime64[ns]&#x27;)</pre></div></li></ul></div></li><li class='xr-section-item'><input id='section-8a7a6c76-0141-40bb-ac2a-c2ad51cbbdf8' class='xr-section-summary-in' type='checkbox'  checked><label for='section-8a7a6c76-0141-40bb-ac2a-c2ad51cbbdf8' class='xr-section-summary' >Data variables: <span>(5)</span></label><div class='xr-section-inline-details'></div><div class='xr-section-details'><ul class='xr-var-list'><li class='xr-var-item'><div class='xr-var-name'><span>ghi</span></div><div class='xr-var-dims'>(time, station)</div><div class='xr-var-dtype'>float64</div><div class='xr-var-preview xr-preview'>0.002086 0.002085 ... 0.002086</div><input id='attrs-11a22787-b987-42c1-9322-922f5e1bd29a' class='xr-var-attrs-in' type='checkbox' ><label for='attrs-11a22787-b987-42c1-9322-922f5e1bd29a' title='Show/Hide attributes'><svg class='icon xr-icon-file-text2'><use xlink:href='#icon-file-text2'></use></svg></label><input id='data-d7ced380-c040-405b-81b6-7050346df344' class='xr-var-data-in' type='checkbox'><label for='data-d7ced380-c040-405b-81b6-7050346df344' title='Show/Hide data repr'><svg class='icon xr-icon-database'><use xlink:href='#icon-database'></use></svg></label><div class='xr-var-attrs'><dl class='xr-attrs'><dt><span>units :</span></dt><dd>V</dd><dt><span>long_name :</span></dt><dd>downwelling shortwave flux</dd><dt><span>standard_name :</span></dt><dd>downwelling_shortwave_flux_in_air</dd><dt><span>valid_range :</span></dt><dd>[   0 1023]</dd></dl></div><div class='xr-var-data'><pre>array([[0.00208602],\n       [0.00208495],\n       [0.00208602],\n       [0.00208602],\n       [0.00208602]])</pre></div></li><li class='xr-var-item'><div class='xr-var-name'><span>gti</span></div><div class='xr-var-dims'>(time, station)</div><div class='xr-var-dtype'>float64</div><div class='xr-var-preview xr-preview'>0.001935 0.001935 ... 0.001935</div><input id='attrs-dc703c5f-7d1e-4623-85e7-6ac09478f1b1' class='xr-var-attrs-in' type='checkbox' ><label for='attrs-dc703c5f-7d1e-4623-85e7-6ac09478f1b1' title='Show/Hide attributes'><svg class='icon xr-icon-file-text2'><use xlink:href='#icon-file-text2'></use></svg></label><input id='data-c8ba687c-af58-418e-8a12-c30f312d3cd9' class='xr-var-data-in' type='checkbox'><label for='data-c8ba687c-af58-418e-8a12-c30f312d3cd9' title='Show/Hide data repr'><svg class='icon xr-icon-database'><use xlink:href='#icon-database'></use></svg></label><div class='xr-var-attrs'><dl class='xr-attrs'><dt><span>units :</span></dt><dd>V</dd><dt><span>long_name :</span></dt><dd>downwelling shortwave flux measured on secondary platform, might be tilted</dd><dt><span>standard_name :</span></dt><dd>downwelling_shortwave_flux_in_air</dd><dt><span>valid_range :</span></dt><dd>[   0 1023]</dd><dt><span>hangle :</span></dt><dd>0.0</dd><dt><span>vangle :</span></dt><dd>0.0</dd></dl></div><div class='xr-var-data'><pre>array([[0.00193548],\n       [0.00193548],\n       [0.00193656],\n       [0.00193548],\n       [0.00193548]])</pre></div></li><li class='xr-var-item'><div class='xr-var-name'><span>ta</span></div><div class='xr-var-dims'>(time, station)</div><div class='xr-var-dtype'>float64</div><div class='xr-var-preview xr-preview'>294.8 294.7 294.8 294.7 294.8</div><input id='attrs-a6443c92-4733-41b0-a481-56beaf71fa64' class='xr-var-attrs-in' type='checkbox' ><label for='attrs-a6443c92-4733-41b0-a481-56beaf71fa64' title='Show/Hide attributes'><svg class='icon xr-icon-file-text2'><use xlink:href='#icon-file-text2'></use></svg></label><input id='data-a64a20d2-312c-4fc6-b8c9-4d9381478e2a' class='xr-var-data-in' type='checkbox'><label for='data-a64a20d2-312c-4fc6-b8c9-4d9381478e2a' title='Show/Hide data repr'><svg class='icon xr-icon-database'><use xlink:href='#icon-database'></use></svg></label><div class='xr-var-attrs'><dl class='xr-attrs'><dt><span>units :</span></dt><dd>K</dd><dt><span>long_name :</span></dt><dd>air temperature</dd><dt><span>standard_name :</span></dt><dd>air_temperature</dd><dt><span>valid_range :</span></dt><dd>[  0 775]</dd></dl></div><div class='xr-var-data'><pre>array([[294.77579346],\n       [294.74998474],\n       [294.78870239],\n       [294.74998169],\n       [294.8274231 ]])</pre></div></li><li class='xr-var-item'><div class='xr-var-name'><span>rh</span></div><div class='xr-var-dims'>(time, station)</div><div class='xr-var-dtype'>float64</div><div class='xr-var-preview xr-preview'>0.6263 0.6266 0.6271 0.6271 0.629</div><input id='attrs-c2765df0-8819-4593-9203-9f8b2f1bf004' class='xr-var-attrs-in' type='checkbox' ><label for='attrs-c2765df0-8819-4593-9203-9f8b2f1bf004' title='Show/Hide attributes'><svg class='icon xr-icon-file-text2'><use xlink:href='#icon-file-text2'></use></svg></label><input id='data-9ec23add-9c8f-4d8c-880a-a77cdbb216c6' class='xr-var-data-in' type='checkbox'><label for='data-9ec23add-9c8f-4d8c-880a-a77cdbb216c6' title='Show/Hide data repr'><svg class='icon xr-icon-database'><use xlink:href='#icon-database'></use></svg></label><div class='xr-var-attrs'><dl class='xr-attrs'><dt><span>units :</span></dt><dd>1</dd><dt><span>long_name :</span></dt><dd>air relative humidity</dd><dt><span>standard_name :</span></dt><dd>relative_humidity</dd><dt><span>valid_range :</span></dt><dd>[  0 775]</dd></dl></div><div class='xr-var-data'><pre>array([[0.62632258],\n       [0.62658064],\n       [0.62709677],\n       [0.62709677],\n       [0.62903225]])</pre></div></li><li class='xr-var-item'><div class='xr-var-name'><span>battery_voltage</span></div><div class='xr-var-dims'>(time, station)</div><div class='xr-var-dtype'>float64</div><div class='xr-var-preview xr-preview'>6.445 6.446 6.45 6.448 6.458</div><input id='attrs-9e394f85-92ac-465f-91e7-f19043732256' class='xr-var-attrs-in' type='checkbox' ><label for='attrs-9e394f85-92ac-465f-91e7-f19043732256' title='Show/Hide attributes'><svg class='icon xr-icon-file-text2'><use xlink:href='#icon-file-text2'></use></svg></label><input id='data-7ab95104-d37c-474d-b764-7d13320e98e7' class='xr-var-data-in' type='checkbox'><label for='data-7ab95104-d37c-474d-b764-7d13320e98e7' title='Show/Hide data repr'><svg class='icon xr-icon-database'><use xlink:href='#icon-database'></use></svg></label><div class='xr-var-attrs'><dl class='xr-attrs'><dt><span>units :</span></dt><dd>V</dd><dt><span>standard_name :</span></dt><dd>battery_voltage</dd><dt><span>valid_range :</span></dt><dd>[   0 1023]</dd></dl></div><div class='xr-var-data'><pre>array([[6.44516134],\n       [6.4458065 ],\n       [6.44967747],\n       [6.44774199],\n       [6.45806456]])</pre></div></li></ul></div></li><li class='xr-section-item'><input id='section-f88c91ab-6cb5-43fb-9e80-b2e5119675ce' class='xr-section-summary-in' type='checkbox'  ><label for='section-f88c91ab-6cb5-43fb-9e80-b2e5119675ce' class='xr-section-summary' >Indexes: <span>(2)</span></label><div class='xr-section-inline-details'></div><div class='xr-section-details'><ul class='xr-var-list'><li class='xr-var-item'><div class='xr-index-name'><div>station</div></div><div class='xr-index-preview'>PandasIndex</div><div></div><input id='index-f0f49284-7cd5-4aac-9639-5bb9c1b1d533' class='xr-index-data-in' type='checkbox'/><label for='index-f0f49284-7cd5-4aac-9639-5bb9c1b1d533' title='Show/Hide index repr'><svg class='icon xr-icon-database'><use xlink:href='#icon-database'></use></svg></label><div class='xr-index-data'><pre>PandasIndex(Float64Index([1.0], dtype=&#x27;float64&#x27;, name=&#x27;station&#x27;))</pre></div></li><li class='xr-var-item'><div class='xr-index-name'><div>time</div></div><div class='xr-index-preview'>PandasIndex</div><div></div><input id='index-073df31f-ad10-44ce-a11a-3d2314f23eb0' class='xr-index-data-in' type='checkbox'/><label for='index-073df31f-ad10-44ce-a11a-3d2314f23eb0' title='Show/Hide index repr'><svg class='icon xr-icon-database'><use xlink:href='#icon-database'></use></svg></label><div class='xr-index-data'><pre>PandasIndex(DatetimeIndex([&#x27;2022-08-30 11:21:03&#x27;, &#x27;2022-08-30 11:21:04&#x27;,\n               &#x27;2022-08-30 11:21:05&#x27;, &#x27;2022-08-30 11:21:06&#x27;,\n               &#x27;2022-08-30 11:21:07&#x27;],\n              dtype=&#x27;datetime64[ns]&#x27;, name=&#x27;time&#x27;, freq=None))</pre></div></li></ul></div></li><li class='xr-section-item'><input id='section-e916f8e0-dfdc-4ce1-9180-4c71484491cc' class='xr-section-summary-in' type='checkbox'  ><label for='section-e916f8e0-dfdc-4ce1-9180-4c71484491cc' class='xr-section-summary' >Attributes: <span>(31)</span></label><div class='xr-section-inline-details'></div><div class='xr-section-details'><dl class='xr-attrs'><dt><span>title :</span></dt><dd>TROPOS pyranometer network (PyrNet) observations</dd><dt><span>institution :</span></dt><dd>Leibniz Institute for Tropospheric Research (TROPOS)</dd><dt><span>department :</span></dt><dd>Remote Sensing of Atmospheric Processes</dd><dt><span>department_team :</span></dt><dd>Clouds, Aerosol and Radiation</dd><dt><span>address :</span></dt><dd>Permoser Str. 15, 04318 Leipzig, Germany</dd><dt><span>source :</span></dt><dd>TROPOS pyranometer network (PyrNet)</dd><dt><span>contact_person :</span></dt><dd>Andreas Macke and the clouds, aerosol and radiation team of the remote sensing department, mailto:andreas.macke@tropos.de</dd><dt><span>contributor_name :</span></dt><dd></dd><dt><span>contributor_role :</span></dt><dd></dd><dt><span>authors_software :</span></dt><dd>Hartwig Deneke, Jonas Witthuhn, mailto:deneke@tropos.de</dd><dt><span>creator_name :</span></dt><dd></dd><dt><span>project :</span></dt><dd></dd><dt><span>references :</span></dt><dd>https://doi.org/10.5194/amt-9-1153-2016</dd><dt><span>standard_name_vocabulary :</span></dt><dd>CF Standard Name Table v81</dd><dt><span>conventions :</span></dt><dd>CF-1.10, ACDD-1.3</dd><dt><span>license :</span></dt><dd>CC-BY-SA 3.0</dd><dt><span>TESTNOTE :</span></dt><dd>This is a test note.</dd><dt><span>processing_level :</span></dt><dd>l1a</dd><dt><span>product_version :</span></dt><dd>0.1.8+1.g72dffd1.dirty</dd><dt><span>history :</span></dt><dd>2023-06-27T06:54:50: Generated level l1a  by pyrnet version 0.1.8+1.g72dffd1.dirty; </dd><dt><span>date_created :</span></dt><dd>2023-06-27T06:54:50</dd><dt><span>geospatial_lat_min :</span></dt><dd>51.390208333333334</dd><dt><span>geospatial_lat_max :</span></dt><dd>51.390211666666666</dd><dt><span>geospatial_lat_units :</span></dt><dd>degN</dd><dt><span>geospatial_lon_min :</span></dt><dd>11.885246666666667</dd><dt><span>geospatial_lon_max :</span></dt><dd>11.885256666666667</dd><dt><span>geospatial_lon_units :</span></dt><dd>degE</dd><dt><span>time_coverage_start :</span></dt><dd>2022-08-30T11:21:04.065000</dd><dt><span>time_coverage_end :</span></dt><dd>2022-08-30T11:21:09</dd><dt><span>time_coverage_duration :</span></dt><dd>P0DT0H0M4.935S</dd><dt><span>time_coverage_resolution :</span></dt><dd>P0DT0H0M1.23375S</dd></dl></div></li></ul></div></div>"
     },
     "execution_count": 20,
     "metadata": {},
     "output_type": "execute_result"
    }
   ],
   "source": [
    "#|dropcode\n",
    "#|dropout\n",
    "# 5. resample to desired resolution\n",
    "ds_l1b = pyrlogger.resample_mean(ds_l1b,freq=config['l1bfreq'])\n",
    "\n",
    "ds_l1b"
   ],
   "metadata": {
    "collapsed": false,
    "ExecuteTime": {
     "end_time": "2023-06-27T06:54:51.060749900Z",
     "start_time": "2023-06-27T06:54:51.026007200Z"
    }
   }
  },
  {
   "cell_type": "code",
   "execution_count": 21,
   "outputs": [],
   "source": [
    "#|hide\n",
    "# dsp = ds_l1b.sel(time=\"2019-07-15\")\n",
    "# plt.figure()\n",
    "# plt.plot(dsp.time, dsp.ghi)\n",
    "# plt.grid()"
   ],
   "metadata": {
    "collapsed": false,
    "ExecuteTime": {
     "end_time": "2023-06-27T06:54:51.112200300Z",
     "start_time": "2023-06-27T06:54:51.057743400Z"
    }
   }
  },
  {
   "cell_type": "markdown",
   "source": [
    " * stretch valid_range to not lose resolution due to averaging"
   ],
   "metadata": {
    "collapsed": false
   }
  },
  {
   "cell_type": "code",
   "execution_count": 22,
   "outputs": [],
   "source": [
    "#|dropcode\n",
    "#|dropout\n",
    "# stretch valid range to not lose resolution due to averaging\n",
    "# ds_l1b = stretch_resolution(ds_l1b)\n",
    "# ds_l1b"
   ],
   "metadata": {
    "collapsed": false,
    "ExecuteTime": {
     "end_time": "2023-06-27T06:54:51.143058800Z",
     "start_time": "2023-06-27T06:54:51.066460200Z"
    }
   }
  },
  {
   "cell_type": "code",
   "execution_count": 23,
   "outputs": [],
   "source": [
    "#|hide\n",
    "# dsp = ds_l1b.sel(time=\"2019-07-15\")\n",
    "# plt.figure()\n",
    "# plt.plot(dsp.time, dsp.ghi)\n",
    "# plt.grid()"
   ],
   "metadata": {
    "collapsed": false,
    "ExecuteTime": {
     "end_time": "2023-06-27T06:54:51.144054800Z",
     "start_time": "2023-06-27T06:54:51.077018800Z"
    }
   }
  },
  {
   "cell_type": "markdown",
   "source": [
    "6. Interpolate GPS coordinates to bin time\n",
    "    * ```xarray.interp```\n",
    "    ```{note}\n",
    "    At this point the descision to whether store geocoordinates in full time resolution or as mean over the time interval is made.\n",
    "\n",
    "    This is configured in config.json -> \"average_latlon\"\n",
    "    ```"
   ],
   "metadata": {
    "collapsed": false
   }
  },
  {
   "cell_type": "code",
   "execution_count": 24,
   "outputs": [
    {
     "data": {
      "text/plain": "<xarray.Dataset>\nDimensions:          (time: 5, station: 1)\nCoordinates:\n  * station          (station) float32 1.0\n  * time             (time) datetime64[ns] 2022-08-30T11:21:03 ... 2022-08-30...\nData variables:\n    ghi              (time, station) float64 0.002086 0.002085 ... 0.002086\n    gti              (time, station) float64 0.001935 0.001935 ... 0.001935\n    ta               (time, station) float64 294.8 294.7 294.8 294.7 294.8\n    rh               (time, station) float64 0.6263 0.6266 0.6271 0.6271 0.629\n    battery_voltage  (time, station) float64 6.445 6.446 6.45 6.448 6.458\n    lat              (time, station) float64 nan nan 51.39 51.39 51.39\n    lon              (time, station) float64 nan nan 11.89 11.89 11.89\n    ghi_qc           (station) float32 9.0\n    gti_qc           (station) float32 7.0\nAttributes: (12/31)\n    title:                     TROPOS pyranometer network (PyrNet) observations\n    institution:               Leibniz Institute for Tropospheric Research (T...\n    department:                Remote Sensing of Atmospheric Processes\n    department_team:           Clouds, Aerosol and Radiation\n    address:                   Permoser Str. 15, 04318 Leipzig, Germany\n    source:                    TROPOS pyranometer network (PyrNet)\n    ...                        ...\n    geospatial_lon_max:        11.885256666666667\n    geospatial_lon_units:      degE\n    time_coverage_start:       2022-08-30T11:21:04.065000\n    time_coverage_end:         2022-08-30T11:21:09\n    time_coverage_duration:    P0DT0H0M4.935S\n    time_coverage_resolution:  P0DT0H0M1.23375S",
      "text/html": "<div><svg style=\"position: absolute; width: 0; height: 0; overflow: hidden\">\n<defs>\n<symbol id=\"icon-database\" viewBox=\"0 0 32 32\">\n<path d=\"M16 0c-8.837 0-16 2.239-16 5v4c0 2.761 7.163 5 16 5s16-2.239 16-5v-4c0-2.761-7.163-5-16-5z\"></path>\n<path d=\"M16 17c-8.837 0-16-2.239-16-5v6c0 2.761 7.163 5 16 5s16-2.239 16-5v-6c0 2.761-7.163 5-16 5z\"></path>\n<path d=\"M16 26c-8.837 0-16-2.239-16-5v6c0 2.761 7.163 5 16 5s16-2.239 16-5v-6c0 2.761-7.163 5-16 5z\"></path>\n</symbol>\n<symbol id=\"icon-file-text2\" viewBox=\"0 0 32 32\">\n<path d=\"M28.681 7.159c-0.694-0.947-1.662-2.053-2.724-3.116s-2.169-2.030-3.116-2.724c-1.612-1.182-2.393-1.319-2.841-1.319h-15.5c-1.378 0-2.5 1.121-2.5 2.5v27c0 1.378 1.122 2.5 2.5 2.5h23c1.378 0 2.5-1.122 2.5-2.5v-19.5c0-0.448-0.137-1.23-1.319-2.841zM24.543 5.457c0.959 0.959 1.712 1.825 2.268 2.543h-4.811v-4.811c0.718 0.556 1.584 1.309 2.543 2.268zM28 29.5c0 0.271-0.229 0.5-0.5 0.5h-23c-0.271 0-0.5-0.229-0.5-0.5v-27c0-0.271 0.229-0.5 0.5-0.5 0 0 15.499-0 15.5 0v7c0 0.552 0.448 1 1 1h7v19.5z\"></path>\n<path d=\"M23 26h-14c-0.552 0-1-0.448-1-1s0.448-1 1-1h14c0.552 0 1 0.448 1 1s-0.448 1-1 1z\"></path>\n<path d=\"M23 22h-14c-0.552 0-1-0.448-1-1s0.448-1 1-1h14c0.552 0 1 0.448 1 1s-0.448 1-1 1z\"></path>\n<path d=\"M23 18h-14c-0.552 0-1-0.448-1-1s0.448-1 1-1h14c0.552 0 1 0.448 1 1s-0.448 1-1 1z\"></path>\n</symbol>\n</defs>\n</svg>\n<style>/* CSS stylesheet for displaying xarray objects in jupyterlab.\n *\n */\n\n:root {\n  --xr-font-color0: var(--jp-content-font-color0, rgba(0, 0, 0, 1));\n  --xr-font-color2: var(--jp-content-font-color2, rgba(0, 0, 0, 0.54));\n  --xr-font-color3: var(--jp-content-font-color3, rgba(0, 0, 0, 0.38));\n  --xr-border-color: var(--jp-border-color2, #e0e0e0);\n  --xr-disabled-color: var(--jp-layout-color3, #bdbdbd);\n  --xr-background-color: var(--jp-layout-color0, white);\n  --xr-background-color-row-even: var(--jp-layout-color1, white);\n  --xr-background-color-row-odd: var(--jp-layout-color2, #eeeeee);\n}\n\nhtml[theme=dark],\nbody[data-theme=dark],\nbody.vscode-dark {\n  --xr-font-color0: rgba(255, 255, 255, 1);\n  --xr-font-color2: rgba(255, 255, 255, 0.54);\n  --xr-font-color3: rgba(255, 255, 255, 0.38);\n  --xr-border-color: #1F1F1F;\n  --xr-disabled-color: #515151;\n  --xr-background-color: #111111;\n  --xr-background-color-row-even: #111111;\n  --xr-background-color-row-odd: #313131;\n}\n\n.xr-wrap {\n  display: block !important;\n  min-width: 300px;\n  max-width: 700px;\n}\n\n.xr-text-repr-fallback {\n  /* fallback to plain text repr when CSS is not injected (untrusted notebook) */\n  display: none;\n}\n\n.xr-header {\n  padding-top: 6px;\n  padding-bottom: 6px;\n  margin-bottom: 4px;\n  border-bottom: solid 1px var(--xr-border-color);\n}\n\n.xr-header > div,\n.xr-header > ul {\n  display: inline;\n  margin-top: 0;\n  margin-bottom: 0;\n}\n\n.xr-obj-type,\n.xr-array-name {\n  margin-left: 2px;\n  margin-right: 10px;\n}\n\n.xr-obj-type {\n  color: var(--xr-font-color2);\n}\n\n.xr-sections {\n  padding-left: 0 !important;\n  display: grid;\n  grid-template-columns: 150px auto auto 1fr 20px 20px;\n}\n\n.xr-section-item {\n  display: contents;\n}\n\n.xr-section-item input {\n  display: none;\n}\n\n.xr-section-item input + label {\n  color: var(--xr-disabled-color);\n}\n\n.xr-section-item input:enabled + label {\n  cursor: pointer;\n  color: var(--xr-font-color2);\n}\n\n.xr-section-item input:enabled + label:hover {\n  color: var(--xr-font-color0);\n}\n\n.xr-section-summary {\n  grid-column: 1;\n  color: var(--xr-font-color2);\n  font-weight: 500;\n}\n\n.xr-section-summary > span {\n  display: inline-block;\n  padding-left: 0.5em;\n}\n\n.xr-section-summary-in:disabled + label {\n  color: var(--xr-font-color2);\n}\n\n.xr-section-summary-in + label:before {\n  display: inline-block;\n  content: '►';\n  font-size: 11px;\n  width: 15px;\n  text-align: center;\n}\n\n.xr-section-summary-in:disabled + label:before {\n  color: var(--xr-disabled-color);\n}\n\n.xr-section-summary-in:checked + label:before {\n  content: '▼';\n}\n\n.xr-section-summary-in:checked + label > span {\n  display: none;\n}\n\n.xr-section-summary,\n.xr-section-inline-details {\n  padding-top: 4px;\n  padding-bottom: 4px;\n}\n\n.xr-section-inline-details {\n  grid-column: 2 / -1;\n}\n\n.xr-section-details {\n  display: none;\n  grid-column: 1 / -1;\n  margin-bottom: 5px;\n}\n\n.xr-section-summary-in:checked ~ .xr-section-details {\n  display: contents;\n}\n\n.xr-array-wrap {\n  grid-column: 1 / -1;\n  display: grid;\n  grid-template-columns: 20px auto;\n}\n\n.xr-array-wrap > label {\n  grid-column: 1;\n  vertical-align: top;\n}\n\n.xr-preview {\n  color: var(--xr-font-color3);\n}\n\n.xr-array-preview,\n.xr-array-data {\n  padding: 0 5px !important;\n  grid-column: 2;\n}\n\n.xr-array-data,\n.xr-array-in:checked ~ .xr-array-preview {\n  display: none;\n}\n\n.xr-array-in:checked ~ .xr-array-data,\n.xr-array-preview {\n  display: inline-block;\n}\n\n.xr-dim-list {\n  display: inline-block !important;\n  list-style: none;\n  padding: 0 !important;\n  margin: 0;\n}\n\n.xr-dim-list li {\n  display: inline-block;\n  padding: 0;\n  margin: 0;\n}\n\n.xr-dim-list:before {\n  content: '(';\n}\n\n.xr-dim-list:after {\n  content: ')';\n}\n\n.xr-dim-list li:not(:last-child):after {\n  content: ',';\n  padding-right: 5px;\n}\n\n.xr-has-index {\n  font-weight: bold;\n}\n\n.xr-var-list,\n.xr-var-item {\n  display: contents;\n}\n\n.xr-var-item > div,\n.xr-var-item label,\n.xr-var-item > .xr-var-name span {\n  background-color: var(--xr-background-color-row-even);\n  margin-bottom: 0;\n}\n\n.xr-var-item > .xr-var-name:hover span {\n  padding-right: 5px;\n}\n\n.xr-var-list > li:nth-child(odd) > div,\n.xr-var-list > li:nth-child(odd) > label,\n.xr-var-list > li:nth-child(odd) > .xr-var-name span {\n  background-color: var(--xr-background-color-row-odd);\n}\n\n.xr-var-name {\n  grid-column: 1;\n}\n\n.xr-var-dims {\n  grid-column: 2;\n}\n\n.xr-var-dtype {\n  grid-column: 3;\n  text-align: right;\n  color: var(--xr-font-color2);\n}\n\n.xr-var-preview {\n  grid-column: 4;\n}\n\n.xr-index-preview {\n  grid-column: 2 / 5;\n  color: var(--xr-font-color2);\n}\n\n.xr-var-name,\n.xr-var-dims,\n.xr-var-dtype,\n.xr-preview,\n.xr-attrs dt {\n  white-space: nowrap;\n  overflow: hidden;\n  text-overflow: ellipsis;\n  padding-right: 10px;\n}\n\n.xr-var-name:hover,\n.xr-var-dims:hover,\n.xr-var-dtype:hover,\n.xr-attrs dt:hover {\n  overflow: visible;\n  width: auto;\n  z-index: 1;\n}\n\n.xr-var-attrs,\n.xr-var-data,\n.xr-index-data {\n  display: none;\n  background-color: var(--xr-background-color) !important;\n  padding-bottom: 5px !important;\n}\n\n.xr-var-attrs-in:checked ~ .xr-var-attrs,\n.xr-var-data-in:checked ~ .xr-var-data,\n.xr-index-data-in:checked ~ .xr-index-data {\n  display: block;\n}\n\n.xr-var-data > table {\n  float: right;\n}\n\n.xr-var-name span,\n.xr-var-data,\n.xr-index-name div,\n.xr-index-data,\n.xr-attrs {\n  padding-left: 25px !important;\n}\n\n.xr-attrs,\n.xr-var-attrs,\n.xr-var-data,\n.xr-index-data {\n  grid-column: 1 / -1;\n}\n\ndl.xr-attrs {\n  padding: 0;\n  margin: 0;\n  display: grid;\n  grid-template-columns: 125px auto;\n}\n\n.xr-attrs dt,\n.xr-attrs dd {\n  padding: 0;\n  margin: 0;\n  float: left;\n  padding-right: 10px;\n  width: auto;\n}\n\n.xr-attrs dt {\n  font-weight: normal;\n  grid-column: 1;\n}\n\n.xr-attrs dt:hover span {\n  display: inline-block;\n  background: var(--xr-background-color);\n  padding-right: 10px;\n}\n\n.xr-attrs dd {\n  grid-column: 2;\n  white-space: pre-wrap;\n  word-break: break-all;\n}\n\n.xr-icon-database,\n.xr-icon-file-text2,\n.xr-no-icon {\n  display: inline-block;\n  vertical-align: middle;\n  width: 1em;\n  height: 1.5em !important;\n  stroke-width: 0;\n  stroke: currentColor;\n  fill: currentColor;\n}\n</style><pre class='xr-text-repr-fallback'>&lt;xarray.Dataset&gt;\nDimensions:          (time: 5, station: 1)\nCoordinates:\n  * station          (station) float32 1.0\n  * time             (time) datetime64[ns] 2022-08-30T11:21:03 ... 2022-08-30...\nData variables:\n    ghi              (time, station) float64 0.002086 0.002085 ... 0.002086\n    gti              (time, station) float64 0.001935 0.001935 ... 0.001935\n    ta               (time, station) float64 294.8 294.7 294.8 294.7 294.8\n    rh               (time, station) float64 0.6263 0.6266 0.6271 0.6271 0.629\n    battery_voltage  (time, station) float64 6.445 6.446 6.45 6.448 6.458\n    lat              (time, station) float64 nan nan 51.39 51.39 51.39\n    lon              (time, station) float64 nan nan 11.89 11.89 11.89\n    ghi_qc           (station) float32 9.0\n    gti_qc           (station) float32 7.0\nAttributes: (12/31)\n    title:                     TROPOS pyranometer network (PyrNet) observations\n    institution:               Leibniz Institute for Tropospheric Research (T...\n    department:                Remote Sensing of Atmospheric Processes\n    department_team:           Clouds, Aerosol and Radiation\n    address:                   Permoser Str. 15, 04318 Leipzig, Germany\n    source:                    TROPOS pyranometer network (PyrNet)\n    ...                        ...\n    geospatial_lon_max:        11.885256666666667\n    geospatial_lon_units:      degE\n    time_coverage_start:       2022-08-30T11:21:04.065000\n    time_coverage_end:         2022-08-30T11:21:09\n    time_coverage_duration:    P0DT0H0M4.935S\n    time_coverage_resolution:  P0DT0H0M1.23375S</pre><div class='xr-wrap' style='display:none'><div class='xr-header'><div class='xr-obj-type'>xarray.Dataset</div></div><ul class='xr-sections'><li class='xr-section-item'><input id='section-ef1f6cc3-d7ee-4afb-a2cd-dea6efa6934b' class='xr-section-summary-in' type='checkbox' disabled ><label for='section-ef1f6cc3-d7ee-4afb-a2cd-dea6efa6934b' class='xr-section-summary'  title='Expand/collapse section'>Dimensions:</label><div class='xr-section-inline-details'><ul class='xr-dim-list'><li><span class='xr-has-index'>time</span>: 5</li><li><span class='xr-has-index'>station</span>: 1</li></ul></div><div class='xr-section-details'></div></li><li class='xr-section-item'><input id='section-a084d28c-ac73-4178-8837-4d784c03edb7' class='xr-section-summary-in' type='checkbox'  checked><label for='section-a084d28c-ac73-4178-8837-4d784c03edb7' class='xr-section-summary' >Coordinates: <span>(2)</span></label><div class='xr-section-inline-details'></div><div class='xr-section-details'><ul class='xr-var-list'><li class='xr-var-item'><div class='xr-var-name'><span class='xr-has-index'>station</span></div><div class='xr-var-dims'>(station)</div><div class='xr-var-dtype'>float32</div><div class='xr-var-preview xr-preview'>1.0</div><input id='attrs-f2477d18-0180-4deb-bc5a-ef1197eb964a' class='xr-var-attrs-in' type='checkbox' ><label for='attrs-f2477d18-0180-4deb-bc5a-ef1197eb964a' title='Show/Hide attributes'><svg class='icon xr-icon-file-text2'><use xlink:href='#icon-file-text2'></use></svg></label><input id='data-5379ac6e-ce52-4a23-be88-c188e54e5cff' class='xr-var-data-in' type='checkbox'><label for='data-5379ac6e-ce52-4a23-be88-c188e54e5cff' title='Show/Hide data repr'><svg class='icon xr-icon-database'><use xlink:href='#icon-database'></use></svg></label><div class='xr-var-attrs'><dl class='xr-attrs'><dt><span>units :</span></dt><dd>-</dd><dt><span>long_name :</span></dt><dd>PyrNet unit box number</dd></dl></div><div class='xr-var-data'><pre>array([1.], dtype=float32)</pre></div></li><li class='xr-var-item'><div class='xr-var-name'><span class='xr-has-index'>time</span></div><div class='xr-var-dims'>(time)</div><div class='xr-var-dtype'>datetime64[ns]</div><div class='xr-var-preview xr-preview'>2022-08-30T11:21:03 ... 2022-08-...</div><input id='attrs-6d82f7c7-cfbd-4a93-958a-6c1c0cf7f9b0' class='xr-var-attrs-in' type='checkbox' disabled><label for='attrs-6d82f7c7-cfbd-4a93-958a-6c1c0cf7f9b0' title='Show/Hide attributes'><svg class='icon xr-icon-file-text2'><use xlink:href='#icon-file-text2'></use></svg></label><input id='data-b3472373-08bd-4477-8015-2f4522da0aa6' class='xr-var-data-in' type='checkbox'><label for='data-b3472373-08bd-4477-8015-2f4522da0aa6' title='Show/Hide data repr'><svg class='icon xr-icon-database'><use xlink:href='#icon-database'></use></svg></label><div class='xr-var-attrs'><dl class='xr-attrs'></dl></div><div class='xr-var-data'><pre>array([&#x27;2022-08-30T11:21:03.000000000&#x27;, &#x27;2022-08-30T11:21:04.000000000&#x27;,\n       &#x27;2022-08-30T11:21:05.000000000&#x27;, &#x27;2022-08-30T11:21:06.000000000&#x27;,\n       &#x27;2022-08-30T11:21:07.000000000&#x27;], dtype=&#x27;datetime64[ns]&#x27;)</pre></div></li></ul></div></li><li class='xr-section-item'><input id='section-cd3cd843-a829-455d-a144-37846b87a124' class='xr-section-summary-in' type='checkbox'  checked><label for='section-cd3cd843-a829-455d-a144-37846b87a124' class='xr-section-summary' >Data variables: <span>(9)</span></label><div class='xr-section-inline-details'></div><div class='xr-section-details'><ul class='xr-var-list'><li class='xr-var-item'><div class='xr-var-name'><span>ghi</span></div><div class='xr-var-dims'>(time, station)</div><div class='xr-var-dtype'>float64</div><div class='xr-var-preview xr-preview'>0.002086 0.002085 ... 0.002086</div><input id='attrs-f64c48cd-d649-4fda-aba6-2f791acdc33a' class='xr-var-attrs-in' type='checkbox' ><label for='attrs-f64c48cd-d649-4fda-aba6-2f791acdc33a' title='Show/Hide attributes'><svg class='icon xr-icon-file-text2'><use xlink:href='#icon-file-text2'></use></svg></label><input id='data-3d515244-48bd-4696-b495-d050fcd369df' class='xr-var-data-in' type='checkbox'><label for='data-3d515244-48bd-4696-b495-d050fcd369df' title='Show/Hide data repr'><svg class='icon xr-icon-database'><use xlink:href='#icon-database'></use></svg></label><div class='xr-var-attrs'><dl class='xr-attrs'><dt><span>units :</span></dt><dd>V</dd><dt><span>long_name :</span></dt><dd>downwelling shortwave flux</dd><dt><span>standard_name :</span></dt><dd>downwelling_shortwave_flux_in_air</dd><dt><span>valid_range :</span></dt><dd>[   0 1023]</dd></dl></div><div class='xr-var-data'><pre>array([[0.00208602],\n       [0.00208495],\n       [0.00208602],\n       [0.00208602],\n       [0.00208602]])</pre></div></li><li class='xr-var-item'><div class='xr-var-name'><span>gti</span></div><div class='xr-var-dims'>(time, station)</div><div class='xr-var-dtype'>float64</div><div class='xr-var-preview xr-preview'>0.001935 0.001935 ... 0.001935</div><input id='attrs-3e2b2391-7719-4120-aeb8-c7fbbbb285db' class='xr-var-attrs-in' type='checkbox' ><label for='attrs-3e2b2391-7719-4120-aeb8-c7fbbbb285db' title='Show/Hide attributes'><svg class='icon xr-icon-file-text2'><use xlink:href='#icon-file-text2'></use></svg></label><input id='data-7723912d-e6cf-444b-bf69-b6a35940bcde' class='xr-var-data-in' type='checkbox'><label for='data-7723912d-e6cf-444b-bf69-b6a35940bcde' title='Show/Hide data repr'><svg class='icon xr-icon-database'><use xlink:href='#icon-database'></use></svg></label><div class='xr-var-attrs'><dl class='xr-attrs'><dt><span>units :</span></dt><dd>V</dd><dt><span>long_name :</span></dt><dd>downwelling shortwave flux measured on secondary platform, might be tilted</dd><dt><span>standard_name :</span></dt><dd>downwelling_shortwave_flux_in_air</dd><dt><span>valid_range :</span></dt><dd>[   0 1023]</dd><dt><span>hangle :</span></dt><dd>0.0</dd><dt><span>vangle :</span></dt><dd>0.0</dd></dl></div><div class='xr-var-data'><pre>array([[0.00193548],\n       [0.00193548],\n       [0.00193656],\n       [0.00193548],\n       [0.00193548]])</pre></div></li><li class='xr-var-item'><div class='xr-var-name'><span>ta</span></div><div class='xr-var-dims'>(time, station)</div><div class='xr-var-dtype'>float64</div><div class='xr-var-preview xr-preview'>294.8 294.7 294.8 294.7 294.8</div><input id='attrs-7a45adce-4fda-418f-90ff-1b6e3e75c8ac' class='xr-var-attrs-in' type='checkbox' ><label for='attrs-7a45adce-4fda-418f-90ff-1b6e3e75c8ac' title='Show/Hide attributes'><svg class='icon xr-icon-file-text2'><use xlink:href='#icon-file-text2'></use></svg></label><input id='data-fccc52e0-d6b9-496c-b358-87a0ae72ce2b' class='xr-var-data-in' type='checkbox'><label for='data-fccc52e0-d6b9-496c-b358-87a0ae72ce2b' title='Show/Hide data repr'><svg class='icon xr-icon-database'><use xlink:href='#icon-database'></use></svg></label><div class='xr-var-attrs'><dl class='xr-attrs'><dt><span>units :</span></dt><dd>K</dd><dt><span>long_name :</span></dt><dd>air temperature</dd><dt><span>standard_name :</span></dt><dd>air_temperature</dd><dt><span>valid_range :</span></dt><dd>[  0 775]</dd></dl></div><div class='xr-var-data'><pre>array([[294.77579346],\n       [294.74998474],\n       [294.78870239],\n       [294.74998169],\n       [294.8274231 ]])</pre></div></li><li class='xr-var-item'><div class='xr-var-name'><span>rh</span></div><div class='xr-var-dims'>(time, station)</div><div class='xr-var-dtype'>float64</div><div class='xr-var-preview xr-preview'>0.6263 0.6266 0.6271 0.6271 0.629</div><input id='attrs-3cfd1d65-9c0c-4bfe-9bb3-a813f46c402e' class='xr-var-attrs-in' type='checkbox' ><label for='attrs-3cfd1d65-9c0c-4bfe-9bb3-a813f46c402e' title='Show/Hide attributes'><svg class='icon xr-icon-file-text2'><use xlink:href='#icon-file-text2'></use></svg></label><input id='data-8bc3ca47-55c6-4c05-bb8e-b1eec5c0baf1' class='xr-var-data-in' type='checkbox'><label for='data-8bc3ca47-55c6-4c05-bb8e-b1eec5c0baf1' title='Show/Hide data repr'><svg class='icon xr-icon-database'><use xlink:href='#icon-database'></use></svg></label><div class='xr-var-attrs'><dl class='xr-attrs'><dt><span>units :</span></dt><dd>1</dd><dt><span>long_name :</span></dt><dd>air relative humidity</dd><dt><span>standard_name :</span></dt><dd>relative_humidity</dd><dt><span>valid_range :</span></dt><dd>[  0 775]</dd></dl></div><div class='xr-var-data'><pre>array([[0.62632258],\n       [0.62658064],\n       [0.62709677],\n       [0.62709677],\n       [0.62903225]])</pre></div></li><li class='xr-var-item'><div class='xr-var-name'><span>battery_voltage</span></div><div class='xr-var-dims'>(time, station)</div><div class='xr-var-dtype'>float64</div><div class='xr-var-preview xr-preview'>6.445 6.446 6.45 6.448 6.458</div><input id='attrs-d1964fa2-ab07-4bc0-9ae9-8e8db186d913' class='xr-var-attrs-in' type='checkbox' ><label for='attrs-d1964fa2-ab07-4bc0-9ae9-8e8db186d913' title='Show/Hide attributes'><svg class='icon xr-icon-file-text2'><use xlink:href='#icon-file-text2'></use></svg></label><input id='data-0f2091a2-e270-4075-bc53-7abbc7758ef4' class='xr-var-data-in' type='checkbox'><label for='data-0f2091a2-e270-4075-bc53-7abbc7758ef4' title='Show/Hide data repr'><svg class='icon xr-icon-database'><use xlink:href='#icon-database'></use></svg></label><div class='xr-var-attrs'><dl class='xr-attrs'><dt><span>units :</span></dt><dd>V</dd><dt><span>standard_name :</span></dt><dd>battery_voltage</dd><dt><span>valid_range :</span></dt><dd>[   0 1023]</dd></dl></div><div class='xr-var-data'><pre>array([[6.44516134],\n       [6.4458065 ],\n       [6.44967747],\n       [6.44774199],\n       [6.45806456]])</pre></div></li><li class='xr-var-item'><div class='xr-var-name'><span>lat</span></div><div class='xr-var-dims'>(time, station)</div><div class='xr-var-dtype'>float64</div><div class='xr-var-preview xr-preview'>nan nan 51.39 51.39 51.39</div><input id='attrs-e4bd0008-a337-4833-98b7-eff38ca343bc' class='xr-var-attrs-in' type='checkbox' ><label for='attrs-e4bd0008-a337-4833-98b7-eff38ca343bc' title='Show/Hide attributes'><svg class='icon xr-icon-file-text2'><use xlink:href='#icon-file-text2'></use></svg></label><input id='data-8818d63f-3fba-404f-9c83-6dbd287f5ba0' class='xr-var-data-in' type='checkbox'><label for='data-8818d63f-3fba-404f-9c83-6dbd287f5ba0' title='Show/Hide data repr'><svg class='icon xr-icon-database'><use xlink:href='#icon-database'></use></svg></label><div class='xr-var-attrs'><dl class='xr-attrs'><dt><span>standard_name :</span></dt><dd>latitude</dd><dt><span>units :</span></dt><dd>degree_north</dd><dt><span>valid_range :</span></dt><dd>[0.0e+00 1.8e+08]</dd></dl></div><div class='xr-var-data'><pre>array([[        nan],\n       [        nan],\n       [51.390212  ],\n       [51.39021103],\n       [51.39021   ]])</pre></div></li><li class='xr-var-item'><div class='xr-var-name'><span>lon</span></div><div class='xr-var-dims'>(time, station)</div><div class='xr-var-dtype'>float64</div><div class='xr-var-preview xr-preview'>nan nan 11.89 11.89 11.89</div><input id='attrs-8ffb7630-e372-4a0c-a7ca-7243b8b36314' class='xr-var-attrs-in' type='checkbox' ><label for='attrs-8ffb7630-e372-4a0c-a7ca-7243b8b36314' title='Show/Hide attributes'><svg class='icon xr-icon-file-text2'><use xlink:href='#icon-file-text2'></use></svg></label><input id='data-3bbcf74a-9bf0-45ec-a525-b466cde1aa4c' class='xr-var-data-in' type='checkbox'><label for='data-3bbcf74a-9bf0-45ec-a525-b466cde1aa4c' title='Show/Hide data repr'><svg class='icon xr-icon-database'><use xlink:href='#icon-database'></use></svg></label><div class='xr-var-attrs'><dl class='xr-attrs'><dt><span>standard_name :</span></dt><dd>longitude</dd><dt><span>units :</span></dt><dd>degree_east</dd><dt><span>valid_range :</span></dt><dd>[0.0e+00 3.6e+08]</dd></dl></div><div class='xr-var-data'><pre>array([[        nan],\n       [        nan],\n       [11.88525687],\n       [11.88525458],\n       [11.885252  ]])</pre></div></li><li class='xr-var-item'><div class='xr-var-name'><span>ghi_qc</span></div><div class='xr-var-dims'>(station)</div><div class='xr-var-dtype'>float32</div><div class='xr-var-preview xr-preview'>9.0</div><input id='attrs-684c5734-af0d-4d8d-a54b-019d3e4b4774' class='xr-var-attrs-in' type='checkbox' ><label for='attrs-684c5734-af0d-4d8d-a54b-019d3e4b4774' title='Show/Hide attributes'><svg class='icon xr-icon-file-text2'><use xlink:href='#icon-file-text2'></use></svg></label><input id='data-1d970888-e6e3-4b2a-87b2-10627de20b66' class='xr-var-data-in' type='checkbox'><label for='data-1d970888-e6e3-4b2a-87b2-10627de20b66' title='Show/Hide data repr'><svg class='icon xr-icon-database'><use xlink:href='#icon-database'></use></svg></label><div class='xr-var-attrs'><dl class='xr-attrs'><dt><span>standard_name :</span></dt><dd>quality_flag</dd><dt><span>long_name :</span></dt><dd>Maintenance quality control flags for main pyranometer</dd><dt><span>note :</span></dt><dd>Soiling describes subjectively the coverage of the pyranometer dome with dirt. The level flag is problematic if the bubble of the spirit level touches the reference ring, and bad if it is outside.</dd><dt><span>valid_range :</span></dt><dd>[ 0 11]</dd><dt><span>flag_masks :</span></dt><dd>[ 3  3  3 12 12]</dd><dt><span>flag_values :</span></dt><dd>[1 2 3 4 8]</dd><dt><span>flag_meanings :</span></dt><dd>soiling_light soiling_moderate soiling_heavy level_problematic level_bad</dd><dt><span>note_general :</span></dt><dd>this is a test; 222</dd><dt><span>note_clean :</span></dt><dd>testing notes; None</dd><dt><span>note_level :</span></dt><dd>None; test</dd></dl></div><div class='xr-var-data'><pre>array([9.], dtype=float32)</pre></div></li><li class='xr-var-item'><div class='xr-var-name'><span>gti_qc</span></div><div class='xr-var-dims'>(station)</div><div class='xr-var-dtype'>float32</div><div class='xr-var-preview xr-preview'>7.0</div><input id='attrs-f54df48b-994a-436e-9827-e4162739a50b' class='xr-var-attrs-in' type='checkbox' ><label for='attrs-f54df48b-994a-436e-9827-e4162739a50b' title='Show/Hide attributes'><svg class='icon xr-icon-file-text2'><use xlink:href='#icon-file-text2'></use></svg></label><input id='data-b483af92-8098-4d15-8471-209b639d0b11' class='xr-var-data-in' type='checkbox'><label for='data-b483af92-8098-4d15-8471-209b639d0b11' title='Show/Hide data repr'><svg class='icon xr-icon-database'><use xlink:href='#icon-database'></use></svg></label><div class='xr-var-attrs'><dl class='xr-attrs'><dt><span>standard_name :</span></dt><dd>quality_flag</dd><dt><span>long_name :</span></dt><dd>Maintenance quality control flags for secondary pyranometer</dd><dt><span>note :</span></dt><dd>Soiling describes subjectively the coverage of the pyranometer dome with dirt. The level flag is problematic if the bubble of the spirit level touches the reference ring, and bad if it is outside.</dd><dt><span>valid_range :</span></dt><dd>[ 0 11]</dd><dt><span>flag_masks :</span></dt><dd>[ 3  3  3 12 12]</dd><dt><span>flag_values :</span></dt><dd>[1 2 3 4 8]</dd><dt><span>flag_meanings :</span></dt><dd>soiling_light soiling_moderate soiling_heavy level_problematic level_bad</dd><dt><span>note_general :</span></dt><dd>this is a test; 222</dd><dt><span>note_clean :</span></dt><dd>None; None</dd><dt><span>note_level :</span></dt><dd>None; None</dd></dl></div><div class='xr-var-data'><pre>array([7.], dtype=float32)</pre></div></li></ul></div></li><li class='xr-section-item'><input id='section-3ac484ec-9265-4e4a-8306-ca087bdafec5' class='xr-section-summary-in' type='checkbox'  ><label for='section-3ac484ec-9265-4e4a-8306-ca087bdafec5' class='xr-section-summary' >Indexes: <span>(2)</span></label><div class='xr-section-inline-details'></div><div class='xr-section-details'><ul class='xr-var-list'><li class='xr-var-item'><div class='xr-index-name'><div>station</div></div><div class='xr-index-preview'>PandasIndex</div><div></div><input id='index-2041298a-2991-4207-b00f-b38600a0617b' class='xr-index-data-in' type='checkbox'/><label for='index-2041298a-2991-4207-b00f-b38600a0617b' title='Show/Hide index repr'><svg class='icon xr-icon-database'><use xlink:href='#icon-database'></use></svg></label><div class='xr-index-data'><pre>PandasIndex(Float64Index([1.0], dtype=&#x27;float64&#x27;, name=&#x27;station&#x27;))</pre></div></li><li class='xr-var-item'><div class='xr-index-name'><div>time</div></div><div class='xr-index-preview'>PandasIndex</div><div></div><input id='index-3b60c193-c40a-472c-8c01-7ed7221eb2d1' class='xr-index-data-in' type='checkbox'/><label for='index-3b60c193-c40a-472c-8c01-7ed7221eb2d1' title='Show/Hide index repr'><svg class='icon xr-icon-database'><use xlink:href='#icon-database'></use></svg></label><div class='xr-index-data'><pre>PandasIndex(DatetimeIndex([&#x27;2022-08-30 11:21:03&#x27;, &#x27;2022-08-30 11:21:04&#x27;,\n               &#x27;2022-08-30 11:21:05&#x27;, &#x27;2022-08-30 11:21:06&#x27;,\n               &#x27;2022-08-30 11:21:07&#x27;],\n              dtype=&#x27;datetime64[ns]&#x27;, name=&#x27;time&#x27;, freq=None))</pre></div></li></ul></div></li><li class='xr-section-item'><input id='section-5c1ac0da-78fc-4575-98f6-659b479337a1' class='xr-section-summary-in' type='checkbox'  ><label for='section-5c1ac0da-78fc-4575-98f6-659b479337a1' class='xr-section-summary' >Attributes: <span>(31)</span></label><div class='xr-section-inline-details'></div><div class='xr-section-details'><dl class='xr-attrs'><dt><span>title :</span></dt><dd>TROPOS pyranometer network (PyrNet) observations</dd><dt><span>institution :</span></dt><dd>Leibniz Institute for Tropospheric Research (TROPOS)</dd><dt><span>department :</span></dt><dd>Remote Sensing of Atmospheric Processes</dd><dt><span>department_team :</span></dt><dd>Clouds, Aerosol and Radiation</dd><dt><span>address :</span></dt><dd>Permoser Str. 15, 04318 Leipzig, Germany</dd><dt><span>source :</span></dt><dd>TROPOS pyranometer network (PyrNet)</dd><dt><span>contact_person :</span></dt><dd>Andreas Macke and the clouds, aerosol and radiation team of the remote sensing department, mailto:andreas.macke@tropos.de</dd><dt><span>contributor_name :</span></dt><dd></dd><dt><span>contributor_role :</span></dt><dd></dd><dt><span>authors_software :</span></dt><dd>Hartwig Deneke, Jonas Witthuhn, mailto:deneke@tropos.de</dd><dt><span>creator_name :</span></dt><dd></dd><dt><span>project :</span></dt><dd></dd><dt><span>references :</span></dt><dd>https://doi.org/10.5194/amt-9-1153-2016</dd><dt><span>standard_name_vocabulary :</span></dt><dd>CF Standard Name Table v81</dd><dt><span>conventions :</span></dt><dd>CF-1.10, ACDD-1.3</dd><dt><span>license :</span></dt><dd>CC-BY-SA 3.0</dd><dt><span>TESTNOTE :</span></dt><dd>This is a test note.</dd><dt><span>processing_level :</span></dt><dd>l1a</dd><dt><span>product_version :</span></dt><dd>0.1.8+1.g72dffd1.dirty</dd><dt><span>history :</span></dt><dd>2023-06-27T06:54:50: Generated level l1a  by pyrnet version 0.1.8+1.g72dffd1.dirty; </dd><dt><span>date_created :</span></dt><dd>2023-06-27T06:54:50</dd><dt><span>geospatial_lat_min :</span></dt><dd>51.390208333333334</dd><dt><span>geospatial_lat_max :</span></dt><dd>51.390211666666666</dd><dt><span>geospatial_lat_units :</span></dt><dd>degN</dd><dt><span>geospatial_lon_min :</span></dt><dd>11.885246666666667</dd><dt><span>geospatial_lon_max :</span></dt><dd>11.885256666666667</dd><dt><span>geospatial_lon_units :</span></dt><dd>degE</dd><dt><span>time_coverage_start :</span></dt><dd>2022-08-30T11:21:04.065000</dd><dt><span>time_coverage_end :</span></dt><dd>2022-08-30T11:21:09</dd><dt><span>time_coverage_duration :</span></dt><dd>P0DT0H0M4.935S</dd><dt><span>time_coverage_resolution :</span></dt><dd>P0DT0H0M1.23375S</dd></dl></div></li></ul></div></div>"
     },
     "execution_count": 24,
     "metadata": {},
     "output_type": "execute_result"
    }
   ],
   "source": [
    "#|dropcode\n",
    "#|dropout\n",
    "\n",
    "# 6. Interpolate GPS coordinates to bin time\n",
    "ds_gps = ds_l1a.drop_dims(\"adctime\")\n",
    "ds_gps = ds_gps.drop_vars(['iadc'])\n",
    "\n",
    "\n",
    "# Decide whether geo coordinates should be averaged or not\n",
    "\n",
    "# if config['average_latlon']:\n",
    "ds_gps_avg = ds_gps.mean('gpstime',skipna=True)\n",
    "ds_l1b_avg = xr.merge((ds_l1b,ds_gps_avg))\n",
    "\n",
    "# else:\n",
    "ds_gps = ds_gps.interp(gpstime=ds_l1b.time,\n",
    "                       kwargs={\"bounds_error\":False, \"fill_value\":np.nan})\n",
    "ds_gps = ds_gps.drop_vars(\"gpstime\")\n",
    "\n",
    "ds_l1b = xr.merge((ds_l1b,ds_gps))\n",
    "\n",
    "ds_l1b"
   ],
   "metadata": {
    "collapsed": false,
    "ExecuteTime": {
     "end_time": "2023-06-27T06:54:51.146338400Z",
     "start_time": "2023-06-27T06:54:51.077018800Z"
    }
   }
  },
  {
   "cell_type": "code",
   "execution_count": 25,
   "outputs": [],
   "source": [
    "#|hide\n",
    "# dsp = ds_l1b.sel(time=\"2019-07-15\")\n",
    "# plt.figure()\n",
    "# plt.plot(dsp.time, dsp.ghi)\n",
    "# plt.grid()"
   ],
   "metadata": {
    "collapsed": false,
    "ExecuteTime": {
     "end_time": "2023-06-27T06:54:51.147335500Z",
     "start_time": "2023-06-27T06:54:51.134077200Z"
    }
   }
  },
  {
   "cell_type": "markdown",
   "source": [],
   "metadata": {
    "collapsed": false
   }
  },
  {
   "cell_type": "markdown",
   "source": [
    "7. Calculate sun position\n",
    "    * ```trosat.sunpos```\n"
   ],
   "metadata": {
    "collapsed": false
   }
  },
  {
   "cell_type": "code",
   "execution_count": 26,
   "outputs": [
    {
     "name": "stdout",
     "output_type": "stream",
     "text": [
      "szen (avg latlon): [42.51158535 42.51172152 42.51185796 42.51199467 42.51213166]\n",
      "szen: [        nan         nan 42.5118597  42.51199538 42.51213126]\n",
      "sazi  (avg latlon): [182.90675083 182.91284047 182.91893008 182.92501967 182.93110922]\n",
      "sazi: [         nan          nan 182.91893682 182.92502312 182.93110895]\n",
      "Earth-Sun Distance: 1.009599726026352\n"
     ]
    }
   ],
   "source": [
    "#|dropcode\n",
    "#|dropout\n",
    "# 7. Calc and add sun position\n",
    "\n",
    "szen, sazi = sp.sun_angles(\n",
    "    time=ds_l1b.time.values[:,None],\n",
    "    lat=ds_l1b.lat.values,\n",
    "    lon=ds_l1b.lon.values\n",
    ")\n",
    "\n",
    "\n",
    "szen_avg, sazi_avg = sp.sun_angles(\n",
    "    time=ds_l1b_avg.time.values[:,None],\n",
    "    lat=ds_l1b_avg.lat.values,\n",
    "    lon=ds_l1b_avg.lon.values\n",
    ")\n",
    "\n",
    "szen  = szen.squeeze()\n",
    "sazi = sazi.squeeze()\n",
    "szen_avg = szen_avg.squeeze()\n",
    "sazi_avg = sazi_avg.squeeze()\n",
    "\n",
    "\n",
    "esd = np.mean(sp.earth_sun_distance(ds_l1b.time.values))\n",
    "\n",
    "print('szen (avg latlon):', szen_avg)\n",
    "print('szen:', szen)\n",
    "print('sazi  (avg latlon):', sazi_avg)\n",
    "print('sazi:', sazi)\n",
    "print('Earth-Sun Distance:',esd)"
   ],
   "metadata": {
    "collapsed": false,
    "ExecuteTime": {
     "end_time": "2023-06-27T06:54:51.260047400Z",
     "start_time": "2023-06-27T06:54:51.148162100Z"
    }
   }
  },
  {
   "cell_type": "code",
   "execution_count": 27,
   "outputs": [
    {
     "data": {
      "text/plain": "<xarray.Dataset>\nDimensions:          (time: 5, station: 1)\nCoordinates:\n  * station          (station) float32 1.0\n  * time             (time) datetime64[ns] 2022-08-30T11:21:03 ... 2022-08-30...\nData variables:\n    ghi              (time, station) float64 0.002086 0.002085 ... 0.002086\n    gti              (time, station) float64 0.001935 0.001935 ... 0.001935\n    ta               (time, station) float64 294.8 294.7 294.8 294.7 294.8\n    rh               (time, station) float64 0.6263 0.6266 0.6271 0.6271 0.629\n    battery_voltage  (time, station) float64 6.445 6.446 6.45 6.448 6.458\n    lat              (time, station) float64 nan nan 51.39 51.39 51.39\n    lon              (time, station) float64 nan nan 11.89 11.89 11.89\n    ghi_qc           (station) float32 9.0\n    gti_qc           (station) float32 7.0\n    szen             (time, station) float64 nan nan 42.51 42.51 42.51\n    sazi             (time, station) float64 nan nan 182.9 182.9 182.9\n    esd              (station) float64 1.01\nAttributes: (12/31)\n    title:                     TROPOS pyranometer network (PyrNet) observations\n    institution:               Leibniz Institute for Tropospheric Research (T...\n    department:                Remote Sensing of Atmospheric Processes\n    department_team:           Clouds, Aerosol and Radiation\n    address:                   Permoser Str. 15, 04318 Leipzig, Germany\n    source:                    TROPOS pyranometer network (PyrNet)\n    ...                        ...\n    geospatial_lon_max:        11.885256666666667\n    geospatial_lon_units:      degE\n    time_coverage_start:       2022-08-30T11:21:04.065000\n    time_coverage_end:         2022-08-30T11:21:09\n    time_coverage_duration:    P0DT0H0M4.935S\n    time_coverage_resolution:  P0DT0H0M1.23375S",
      "text/html": "<div><svg style=\"position: absolute; width: 0; height: 0; overflow: hidden\">\n<defs>\n<symbol id=\"icon-database\" viewBox=\"0 0 32 32\">\n<path d=\"M16 0c-8.837 0-16 2.239-16 5v4c0 2.761 7.163 5 16 5s16-2.239 16-5v-4c0-2.761-7.163-5-16-5z\"></path>\n<path d=\"M16 17c-8.837 0-16-2.239-16-5v6c0 2.761 7.163 5 16 5s16-2.239 16-5v-6c0 2.761-7.163 5-16 5z\"></path>\n<path d=\"M16 26c-8.837 0-16-2.239-16-5v6c0 2.761 7.163 5 16 5s16-2.239 16-5v-6c0 2.761-7.163 5-16 5z\"></path>\n</symbol>\n<symbol id=\"icon-file-text2\" viewBox=\"0 0 32 32\">\n<path d=\"M28.681 7.159c-0.694-0.947-1.662-2.053-2.724-3.116s-2.169-2.030-3.116-2.724c-1.612-1.182-2.393-1.319-2.841-1.319h-15.5c-1.378 0-2.5 1.121-2.5 2.5v27c0 1.378 1.122 2.5 2.5 2.5h23c1.378 0 2.5-1.122 2.5-2.5v-19.5c0-0.448-0.137-1.23-1.319-2.841zM24.543 5.457c0.959 0.959 1.712 1.825 2.268 2.543h-4.811v-4.811c0.718 0.556 1.584 1.309 2.543 2.268zM28 29.5c0 0.271-0.229 0.5-0.5 0.5h-23c-0.271 0-0.5-0.229-0.5-0.5v-27c0-0.271 0.229-0.5 0.5-0.5 0 0 15.499-0 15.5 0v7c0 0.552 0.448 1 1 1h7v19.5z\"></path>\n<path d=\"M23 26h-14c-0.552 0-1-0.448-1-1s0.448-1 1-1h14c0.552 0 1 0.448 1 1s-0.448 1-1 1z\"></path>\n<path d=\"M23 22h-14c-0.552 0-1-0.448-1-1s0.448-1 1-1h14c0.552 0 1 0.448 1 1s-0.448 1-1 1z\"></path>\n<path d=\"M23 18h-14c-0.552 0-1-0.448-1-1s0.448-1 1-1h14c0.552 0 1 0.448 1 1s-0.448 1-1 1z\"></path>\n</symbol>\n</defs>\n</svg>\n<style>/* CSS stylesheet for displaying xarray objects in jupyterlab.\n *\n */\n\n:root {\n  --xr-font-color0: var(--jp-content-font-color0, rgba(0, 0, 0, 1));\n  --xr-font-color2: var(--jp-content-font-color2, rgba(0, 0, 0, 0.54));\n  --xr-font-color3: var(--jp-content-font-color3, rgba(0, 0, 0, 0.38));\n  --xr-border-color: var(--jp-border-color2, #e0e0e0);\n  --xr-disabled-color: var(--jp-layout-color3, #bdbdbd);\n  --xr-background-color: var(--jp-layout-color0, white);\n  --xr-background-color-row-even: var(--jp-layout-color1, white);\n  --xr-background-color-row-odd: var(--jp-layout-color2, #eeeeee);\n}\n\nhtml[theme=dark],\nbody[data-theme=dark],\nbody.vscode-dark {\n  --xr-font-color0: rgba(255, 255, 255, 1);\n  --xr-font-color2: rgba(255, 255, 255, 0.54);\n  --xr-font-color3: rgba(255, 255, 255, 0.38);\n  --xr-border-color: #1F1F1F;\n  --xr-disabled-color: #515151;\n  --xr-background-color: #111111;\n  --xr-background-color-row-even: #111111;\n  --xr-background-color-row-odd: #313131;\n}\n\n.xr-wrap {\n  display: block !important;\n  min-width: 300px;\n  max-width: 700px;\n}\n\n.xr-text-repr-fallback {\n  /* fallback to plain text repr when CSS is not injected (untrusted notebook) */\n  display: none;\n}\n\n.xr-header {\n  padding-top: 6px;\n  padding-bottom: 6px;\n  margin-bottom: 4px;\n  border-bottom: solid 1px var(--xr-border-color);\n}\n\n.xr-header > div,\n.xr-header > ul {\n  display: inline;\n  margin-top: 0;\n  margin-bottom: 0;\n}\n\n.xr-obj-type,\n.xr-array-name {\n  margin-left: 2px;\n  margin-right: 10px;\n}\n\n.xr-obj-type {\n  color: var(--xr-font-color2);\n}\n\n.xr-sections {\n  padding-left: 0 !important;\n  display: grid;\n  grid-template-columns: 150px auto auto 1fr 20px 20px;\n}\n\n.xr-section-item {\n  display: contents;\n}\n\n.xr-section-item input {\n  display: none;\n}\n\n.xr-section-item input + label {\n  color: var(--xr-disabled-color);\n}\n\n.xr-section-item input:enabled + label {\n  cursor: pointer;\n  color: var(--xr-font-color2);\n}\n\n.xr-section-item input:enabled + label:hover {\n  color: var(--xr-font-color0);\n}\n\n.xr-section-summary {\n  grid-column: 1;\n  color: var(--xr-font-color2);\n  font-weight: 500;\n}\n\n.xr-section-summary > span {\n  display: inline-block;\n  padding-left: 0.5em;\n}\n\n.xr-section-summary-in:disabled + label {\n  color: var(--xr-font-color2);\n}\n\n.xr-section-summary-in + label:before {\n  display: inline-block;\n  content: '►';\n  font-size: 11px;\n  width: 15px;\n  text-align: center;\n}\n\n.xr-section-summary-in:disabled + label:before {\n  color: var(--xr-disabled-color);\n}\n\n.xr-section-summary-in:checked + label:before {\n  content: '▼';\n}\n\n.xr-section-summary-in:checked + label > span {\n  display: none;\n}\n\n.xr-section-summary,\n.xr-section-inline-details {\n  padding-top: 4px;\n  padding-bottom: 4px;\n}\n\n.xr-section-inline-details {\n  grid-column: 2 / -1;\n}\n\n.xr-section-details {\n  display: none;\n  grid-column: 1 / -1;\n  margin-bottom: 5px;\n}\n\n.xr-section-summary-in:checked ~ .xr-section-details {\n  display: contents;\n}\n\n.xr-array-wrap {\n  grid-column: 1 / -1;\n  display: grid;\n  grid-template-columns: 20px auto;\n}\n\n.xr-array-wrap > label {\n  grid-column: 1;\n  vertical-align: top;\n}\n\n.xr-preview {\n  color: var(--xr-font-color3);\n}\n\n.xr-array-preview,\n.xr-array-data {\n  padding: 0 5px !important;\n  grid-column: 2;\n}\n\n.xr-array-data,\n.xr-array-in:checked ~ .xr-array-preview {\n  display: none;\n}\n\n.xr-array-in:checked ~ .xr-array-data,\n.xr-array-preview {\n  display: inline-block;\n}\n\n.xr-dim-list {\n  display: inline-block !important;\n  list-style: none;\n  padding: 0 !important;\n  margin: 0;\n}\n\n.xr-dim-list li {\n  display: inline-block;\n  padding: 0;\n  margin: 0;\n}\n\n.xr-dim-list:before {\n  content: '(';\n}\n\n.xr-dim-list:after {\n  content: ')';\n}\n\n.xr-dim-list li:not(:last-child):after {\n  content: ',';\n  padding-right: 5px;\n}\n\n.xr-has-index {\n  font-weight: bold;\n}\n\n.xr-var-list,\n.xr-var-item {\n  display: contents;\n}\n\n.xr-var-item > div,\n.xr-var-item label,\n.xr-var-item > .xr-var-name span {\n  background-color: var(--xr-background-color-row-even);\n  margin-bottom: 0;\n}\n\n.xr-var-item > .xr-var-name:hover span {\n  padding-right: 5px;\n}\n\n.xr-var-list > li:nth-child(odd) > div,\n.xr-var-list > li:nth-child(odd) > label,\n.xr-var-list > li:nth-child(odd) > .xr-var-name span {\n  background-color: var(--xr-background-color-row-odd);\n}\n\n.xr-var-name {\n  grid-column: 1;\n}\n\n.xr-var-dims {\n  grid-column: 2;\n}\n\n.xr-var-dtype {\n  grid-column: 3;\n  text-align: right;\n  color: var(--xr-font-color2);\n}\n\n.xr-var-preview {\n  grid-column: 4;\n}\n\n.xr-index-preview {\n  grid-column: 2 / 5;\n  color: var(--xr-font-color2);\n}\n\n.xr-var-name,\n.xr-var-dims,\n.xr-var-dtype,\n.xr-preview,\n.xr-attrs dt {\n  white-space: nowrap;\n  overflow: hidden;\n  text-overflow: ellipsis;\n  padding-right: 10px;\n}\n\n.xr-var-name:hover,\n.xr-var-dims:hover,\n.xr-var-dtype:hover,\n.xr-attrs dt:hover {\n  overflow: visible;\n  width: auto;\n  z-index: 1;\n}\n\n.xr-var-attrs,\n.xr-var-data,\n.xr-index-data {\n  display: none;\n  background-color: var(--xr-background-color) !important;\n  padding-bottom: 5px !important;\n}\n\n.xr-var-attrs-in:checked ~ .xr-var-attrs,\n.xr-var-data-in:checked ~ .xr-var-data,\n.xr-index-data-in:checked ~ .xr-index-data {\n  display: block;\n}\n\n.xr-var-data > table {\n  float: right;\n}\n\n.xr-var-name span,\n.xr-var-data,\n.xr-index-name div,\n.xr-index-data,\n.xr-attrs {\n  padding-left: 25px !important;\n}\n\n.xr-attrs,\n.xr-var-attrs,\n.xr-var-data,\n.xr-index-data {\n  grid-column: 1 / -1;\n}\n\ndl.xr-attrs {\n  padding: 0;\n  margin: 0;\n  display: grid;\n  grid-template-columns: 125px auto;\n}\n\n.xr-attrs dt,\n.xr-attrs dd {\n  padding: 0;\n  margin: 0;\n  float: left;\n  padding-right: 10px;\n  width: auto;\n}\n\n.xr-attrs dt {\n  font-weight: normal;\n  grid-column: 1;\n}\n\n.xr-attrs dt:hover span {\n  display: inline-block;\n  background: var(--xr-background-color);\n  padding-right: 10px;\n}\n\n.xr-attrs dd {\n  grid-column: 2;\n  white-space: pre-wrap;\n  word-break: break-all;\n}\n\n.xr-icon-database,\n.xr-icon-file-text2,\n.xr-no-icon {\n  display: inline-block;\n  vertical-align: middle;\n  width: 1em;\n  height: 1.5em !important;\n  stroke-width: 0;\n  stroke: currentColor;\n  fill: currentColor;\n}\n</style><pre class='xr-text-repr-fallback'>&lt;xarray.Dataset&gt;\nDimensions:          (time: 5, station: 1)\nCoordinates:\n  * station          (station) float32 1.0\n  * time             (time) datetime64[ns] 2022-08-30T11:21:03 ... 2022-08-30...\nData variables:\n    ghi              (time, station) float64 0.002086 0.002085 ... 0.002086\n    gti              (time, station) float64 0.001935 0.001935 ... 0.001935\n    ta               (time, station) float64 294.8 294.7 294.8 294.7 294.8\n    rh               (time, station) float64 0.6263 0.6266 0.6271 0.6271 0.629\n    battery_voltage  (time, station) float64 6.445 6.446 6.45 6.448 6.458\n    lat              (time, station) float64 nan nan 51.39 51.39 51.39\n    lon              (time, station) float64 nan nan 11.89 11.89 11.89\n    ghi_qc           (station) float32 9.0\n    gti_qc           (station) float32 7.0\n    szen             (time, station) float64 nan nan 42.51 42.51 42.51\n    sazi             (time, station) float64 nan nan 182.9 182.9 182.9\n    esd              (station) float64 1.01\nAttributes: (12/31)\n    title:                     TROPOS pyranometer network (PyrNet) observations\n    institution:               Leibniz Institute for Tropospheric Research (T...\n    department:                Remote Sensing of Atmospheric Processes\n    department_team:           Clouds, Aerosol and Radiation\n    address:                   Permoser Str. 15, 04318 Leipzig, Germany\n    source:                    TROPOS pyranometer network (PyrNet)\n    ...                        ...\n    geospatial_lon_max:        11.885256666666667\n    geospatial_lon_units:      degE\n    time_coverage_start:       2022-08-30T11:21:04.065000\n    time_coverage_end:         2022-08-30T11:21:09\n    time_coverage_duration:    P0DT0H0M4.935S\n    time_coverage_resolution:  P0DT0H0M1.23375S</pre><div class='xr-wrap' style='display:none'><div class='xr-header'><div class='xr-obj-type'>xarray.Dataset</div></div><ul class='xr-sections'><li class='xr-section-item'><input id='section-3d973b39-af64-4902-aa8f-a9a6302cfea3' class='xr-section-summary-in' type='checkbox' disabled ><label for='section-3d973b39-af64-4902-aa8f-a9a6302cfea3' class='xr-section-summary'  title='Expand/collapse section'>Dimensions:</label><div class='xr-section-inline-details'><ul class='xr-dim-list'><li><span class='xr-has-index'>time</span>: 5</li><li><span class='xr-has-index'>station</span>: 1</li></ul></div><div class='xr-section-details'></div></li><li class='xr-section-item'><input id='section-51eafa36-ad30-499d-8112-f9819352171d' class='xr-section-summary-in' type='checkbox'  checked><label for='section-51eafa36-ad30-499d-8112-f9819352171d' class='xr-section-summary' >Coordinates: <span>(2)</span></label><div class='xr-section-inline-details'></div><div class='xr-section-details'><ul class='xr-var-list'><li class='xr-var-item'><div class='xr-var-name'><span class='xr-has-index'>station</span></div><div class='xr-var-dims'>(station)</div><div class='xr-var-dtype'>float32</div><div class='xr-var-preview xr-preview'>1.0</div><input id='attrs-33f9660c-8b15-4fc7-91fb-8920c98a70a7' class='xr-var-attrs-in' type='checkbox' ><label for='attrs-33f9660c-8b15-4fc7-91fb-8920c98a70a7' title='Show/Hide attributes'><svg class='icon xr-icon-file-text2'><use xlink:href='#icon-file-text2'></use></svg></label><input id='data-6d133486-e24f-4b26-91f7-4a7999454753' class='xr-var-data-in' type='checkbox'><label for='data-6d133486-e24f-4b26-91f7-4a7999454753' title='Show/Hide data repr'><svg class='icon xr-icon-database'><use xlink:href='#icon-database'></use></svg></label><div class='xr-var-attrs'><dl class='xr-attrs'><dt><span>units :</span></dt><dd>-</dd><dt><span>long_name :</span></dt><dd>PyrNet unit box number</dd></dl></div><div class='xr-var-data'><pre>array([1.], dtype=float32)</pre></div></li><li class='xr-var-item'><div class='xr-var-name'><span class='xr-has-index'>time</span></div><div class='xr-var-dims'>(time)</div><div class='xr-var-dtype'>datetime64[ns]</div><div class='xr-var-preview xr-preview'>2022-08-30T11:21:03 ... 2022-08-...</div><input id='attrs-61e284ad-6b1f-4c8c-b7b8-ba1e3939ba2f' class='xr-var-attrs-in' type='checkbox' disabled><label for='attrs-61e284ad-6b1f-4c8c-b7b8-ba1e3939ba2f' title='Show/Hide attributes'><svg class='icon xr-icon-file-text2'><use xlink:href='#icon-file-text2'></use></svg></label><input id='data-aadae67c-2d46-477d-978d-9b6b43ae2f2c' class='xr-var-data-in' type='checkbox'><label for='data-aadae67c-2d46-477d-978d-9b6b43ae2f2c' title='Show/Hide data repr'><svg class='icon xr-icon-database'><use xlink:href='#icon-database'></use></svg></label><div class='xr-var-attrs'><dl class='xr-attrs'></dl></div><div class='xr-var-data'><pre>array([&#x27;2022-08-30T11:21:03.000000000&#x27;, &#x27;2022-08-30T11:21:04.000000000&#x27;,\n       &#x27;2022-08-30T11:21:05.000000000&#x27;, &#x27;2022-08-30T11:21:06.000000000&#x27;,\n       &#x27;2022-08-30T11:21:07.000000000&#x27;], dtype=&#x27;datetime64[ns]&#x27;)</pre></div></li></ul></div></li><li class='xr-section-item'><input id='section-fd385175-3b8f-42ee-a0b0-cfa832e94904' class='xr-section-summary-in' type='checkbox'  checked><label for='section-fd385175-3b8f-42ee-a0b0-cfa832e94904' class='xr-section-summary' >Data variables: <span>(12)</span></label><div class='xr-section-inline-details'></div><div class='xr-section-details'><ul class='xr-var-list'><li class='xr-var-item'><div class='xr-var-name'><span>ghi</span></div><div class='xr-var-dims'>(time, station)</div><div class='xr-var-dtype'>float64</div><div class='xr-var-preview xr-preview'>0.002086 0.002085 ... 0.002086</div><input id='attrs-72d85c5c-755c-4ced-9b83-2f1a3e36769e' class='xr-var-attrs-in' type='checkbox' ><label for='attrs-72d85c5c-755c-4ced-9b83-2f1a3e36769e' title='Show/Hide attributes'><svg class='icon xr-icon-file-text2'><use xlink:href='#icon-file-text2'></use></svg></label><input id='data-f9cac13f-08a7-403c-93e2-dd4212173008' class='xr-var-data-in' type='checkbox'><label for='data-f9cac13f-08a7-403c-93e2-dd4212173008' title='Show/Hide data repr'><svg class='icon xr-icon-database'><use xlink:href='#icon-database'></use></svg></label><div class='xr-var-attrs'><dl class='xr-attrs'><dt><span>units :</span></dt><dd>V</dd><dt><span>long_name :</span></dt><dd>downwelling shortwave flux</dd><dt><span>standard_name :</span></dt><dd>downwelling_shortwave_flux_in_air</dd><dt><span>valid_range :</span></dt><dd>[   0 1023]</dd></dl></div><div class='xr-var-data'><pre>array([[0.00208602],\n       [0.00208495],\n       [0.00208602],\n       [0.00208602],\n       [0.00208602]])</pre></div></li><li class='xr-var-item'><div class='xr-var-name'><span>gti</span></div><div class='xr-var-dims'>(time, station)</div><div class='xr-var-dtype'>float64</div><div class='xr-var-preview xr-preview'>0.001935 0.001935 ... 0.001935</div><input id='attrs-426cf1ef-aee0-4973-8f3c-addf1d4ef88d' class='xr-var-attrs-in' type='checkbox' ><label for='attrs-426cf1ef-aee0-4973-8f3c-addf1d4ef88d' title='Show/Hide attributes'><svg class='icon xr-icon-file-text2'><use xlink:href='#icon-file-text2'></use></svg></label><input id='data-3ac927be-1437-4ce6-8c05-c5a76ed59f19' class='xr-var-data-in' type='checkbox'><label for='data-3ac927be-1437-4ce6-8c05-c5a76ed59f19' title='Show/Hide data repr'><svg class='icon xr-icon-database'><use xlink:href='#icon-database'></use></svg></label><div class='xr-var-attrs'><dl class='xr-attrs'><dt><span>units :</span></dt><dd>V</dd><dt><span>long_name :</span></dt><dd>downwelling shortwave flux measured on secondary platform, might be tilted</dd><dt><span>standard_name :</span></dt><dd>downwelling_shortwave_flux_in_air</dd><dt><span>valid_range :</span></dt><dd>[   0 1023]</dd><dt><span>hangle :</span></dt><dd>0.0</dd><dt><span>vangle :</span></dt><dd>0.0</dd></dl></div><div class='xr-var-data'><pre>array([[0.00193548],\n       [0.00193548],\n       [0.00193656],\n       [0.00193548],\n       [0.00193548]])</pre></div></li><li class='xr-var-item'><div class='xr-var-name'><span>ta</span></div><div class='xr-var-dims'>(time, station)</div><div class='xr-var-dtype'>float64</div><div class='xr-var-preview xr-preview'>294.8 294.7 294.8 294.7 294.8</div><input id='attrs-333ff58e-864f-4fc7-bb60-ae54432d9035' class='xr-var-attrs-in' type='checkbox' ><label for='attrs-333ff58e-864f-4fc7-bb60-ae54432d9035' title='Show/Hide attributes'><svg class='icon xr-icon-file-text2'><use xlink:href='#icon-file-text2'></use></svg></label><input id='data-56aba18c-7a9f-4812-8f9f-dc3bed3f9c8f' class='xr-var-data-in' type='checkbox'><label for='data-56aba18c-7a9f-4812-8f9f-dc3bed3f9c8f' title='Show/Hide data repr'><svg class='icon xr-icon-database'><use xlink:href='#icon-database'></use></svg></label><div class='xr-var-attrs'><dl class='xr-attrs'><dt><span>units :</span></dt><dd>K</dd><dt><span>long_name :</span></dt><dd>air temperature</dd><dt><span>standard_name :</span></dt><dd>air_temperature</dd><dt><span>valid_range :</span></dt><dd>[  0 775]</dd></dl></div><div class='xr-var-data'><pre>array([[294.77579346],\n       [294.74998474],\n       [294.78870239],\n       [294.74998169],\n       [294.8274231 ]])</pre></div></li><li class='xr-var-item'><div class='xr-var-name'><span>rh</span></div><div class='xr-var-dims'>(time, station)</div><div class='xr-var-dtype'>float64</div><div class='xr-var-preview xr-preview'>0.6263 0.6266 0.6271 0.6271 0.629</div><input id='attrs-d0e099d9-0682-4422-9096-fc031a842dcd' class='xr-var-attrs-in' type='checkbox' ><label for='attrs-d0e099d9-0682-4422-9096-fc031a842dcd' title='Show/Hide attributes'><svg class='icon xr-icon-file-text2'><use xlink:href='#icon-file-text2'></use></svg></label><input id='data-f050b6a2-1772-4a07-b1f6-228767adff52' class='xr-var-data-in' type='checkbox'><label for='data-f050b6a2-1772-4a07-b1f6-228767adff52' title='Show/Hide data repr'><svg class='icon xr-icon-database'><use xlink:href='#icon-database'></use></svg></label><div class='xr-var-attrs'><dl class='xr-attrs'><dt><span>units :</span></dt><dd>1</dd><dt><span>long_name :</span></dt><dd>air relative humidity</dd><dt><span>standard_name :</span></dt><dd>relative_humidity</dd><dt><span>valid_range :</span></dt><dd>[  0 775]</dd></dl></div><div class='xr-var-data'><pre>array([[0.62632258],\n       [0.62658064],\n       [0.62709677],\n       [0.62709677],\n       [0.62903225]])</pre></div></li><li class='xr-var-item'><div class='xr-var-name'><span>battery_voltage</span></div><div class='xr-var-dims'>(time, station)</div><div class='xr-var-dtype'>float64</div><div class='xr-var-preview xr-preview'>6.445 6.446 6.45 6.448 6.458</div><input id='attrs-2686a62b-fb42-4518-bfed-f76e00d46c19' class='xr-var-attrs-in' type='checkbox' ><label for='attrs-2686a62b-fb42-4518-bfed-f76e00d46c19' title='Show/Hide attributes'><svg class='icon xr-icon-file-text2'><use xlink:href='#icon-file-text2'></use></svg></label><input id='data-de973cfb-12ff-42cd-aa6e-4953daac511d' class='xr-var-data-in' type='checkbox'><label for='data-de973cfb-12ff-42cd-aa6e-4953daac511d' title='Show/Hide data repr'><svg class='icon xr-icon-database'><use xlink:href='#icon-database'></use></svg></label><div class='xr-var-attrs'><dl class='xr-attrs'><dt><span>units :</span></dt><dd>V</dd><dt><span>standard_name :</span></dt><dd>battery_voltage</dd><dt><span>valid_range :</span></dt><dd>[   0 1023]</dd></dl></div><div class='xr-var-data'><pre>array([[6.44516134],\n       [6.4458065 ],\n       [6.44967747],\n       [6.44774199],\n       [6.45806456]])</pre></div></li><li class='xr-var-item'><div class='xr-var-name'><span>lat</span></div><div class='xr-var-dims'>(time, station)</div><div class='xr-var-dtype'>float64</div><div class='xr-var-preview xr-preview'>nan nan 51.39 51.39 51.39</div><input id='attrs-75e0235e-70d3-44b3-b33f-7edbd48039b0' class='xr-var-attrs-in' type='checkbox' ><label for='attrs-75e0235e-70d3-44b3-b33f-7edbd48039b0' title='Show/Hide attributes'><svg class='icon xr-icon-file-text2'><use xlink:href='#icon-file-text2'></use></svg></label><input id='data-c85eba87-1b0f-453d-806f-46b8d370c3a1' class='xr-var-data-in' type='checkbox'><label for='data-c85eba87-1b0f-453d-806f-46b8d370c3a1' title='Show/Hide data repr'><svg class='icon xr-icon-database'><use xlink:href='#icon-database'></use></svg></label><div class='xr-var-attrs'><dl class='xr-attrs'><dt><span>standard_name :</span></dt><dd>latitude</dd><dt><span>units :</span></dt><dd>degree_north</dd><dt><span>valid_range :</span></dt><dd>[0.0e+00 1.8e+08]</dd></dl></div><div class='xr-var-data'><pre>array([[        nan],\n       [        nan],\n       [51.390212  ],\n       [51.39021103],\n       [51.39021   ]])</pre></div></li><li class='xr-var-item'><div class='xr-var-name'><span>lon</span></div><div class='xr-var-dims'>(time, station)</div><div class='xr-var-dtype'>float64</div><div class='xr-var-preview xr-preview'>nan nan 11.89 11.89 11.89</div><input id='attrs-a4e12f82-cebf-4244-b9a3-ca154c16bc88' class='xr-var-attrs-in' type='checkbox' ><label for='attrs-a4e12f82-cebf-4244-b9a3-ca154c16bc88' title='Show/Hide attributes'><svg class='icon xr-icon-file-text2'><use xlink:href='#icon-file-text2'></use></svg></label><input id='data-d4fcae9c-d436-4487-9f20-25c15adbb162' class='xr-var-data-in' type='checkbox'><label for='data-d4fcae9c-d436-4487-9f20-25c15adbb162' title='Show/Hide data repr'><svg class='icon xr-icon-database'><use xlink:href='#icon-database'></use></svg></label><div class='xr-var-attrs'><dl class='xr-attrs'><dt><span>standard_name :</span></dt><dd>longitude</dd><dt><span>units :</span></dt><dd>degree_east</dd><dt><span>valid_range :</span></dt><dd>[0.0e+00 3.6e+08]</dd></dl></div><div class='xr-var-data'><pre>array([[        nan],\n       [        nan],\n       [11.88525687],\n       [11.88525458],\n       [11.885252  ]])</pre></div></li><li class='xr-var-item'><div class='xr-var-name'><span>ghi_qc</span></div><div class='xr-var-dims'>(station)</div><div class='xr-var-dtype'>float32</div><div class='xr-var-preview xr-preview'>9.0</div><input id='attrs-019cc05e-624e-4e41-be33-9e9cb7983e56' class='xr-var-attrs-in' type='checkbox' ><label for='attrs-019cc05e-624e-4e41-be33-9e9cb7983e56' title='Show/Hide attributes'><svg class='icon xr-icon-file-text2'><use xlink:href='#icon-file-text2'></use></svg></label><input id='data-1b6f5b52-6f42-4147-9106-413a1bd52632' class='xr-var-data-in' type='checkbox'><label for='data-1b6f5b52-6f42-4147-9106-413a1bd52632' title='Show/Hide data repr'><svg class='icon xr-icon-database'><use xlink:href='#icon-database'></use></svg></label><div class='xr-var-attrs'><dl class='xr-attrs'><dt><span>standard_name :</span></dt><dd>quality_flag</dd><dt><span>long_name :</span></dt><dd>Maintenance quality control flags for main pyranometer</dd><dt><span>note :</span></dt><dd>Soiling describes subjectively the coverage of the pyranometer dome with dirt. The level flag is problematic if the bubble of the spirit level touches the reference ring, and bad if it is outside.</dd><dt><span>valid_range :</span></dt><dd>[ 0 11]</dd><dt><span>flag_masks :</span></dt><dd>[ 3  3  3 12 12]</dd><dt><span>flag_values :</span></dt><dd>[1 2 3 4 8]</dd><dt><span>flag_meanings :</span></dt><dd>soiling_light soiling_moderate soiling_heavy level_problematic level_bad</dd><dt><span>note_general :</span></dt><dd>this is a test; 222</dd><dt><span>note_clean :</span></dt><dd>testing notes; None</dd><dt><span>note_level :</span></dt><dd>None; test</dd></dl></div><div class='xr-var-data'><pre>array([9.], dtype=float32)</pre></div></li><li class='xr-var-item'><div class='xr-var-name'><span>gti_qc</span></div><div class='xr-var-dims'>(station)</div><div class='xr-var-dtype'>float32</div><div class='xr-var-preview xr-preview'>7.0</div><input id='attrs-e7c4c9e2-8fc5-4332-b298-82bc7ac30064' class='xr-var-attrs-in' type='checkbox' ><label for='attrs-e7c4c9e2-8fc5-4332-b298-82bc7ac30064' title='Show/Hide attributes'><svg class='icon xr-icon-file-text2'><use xlink:href='#icon-file-text2'></use></svg></label><input id='data-89441d86-076f-4437-842f-e7e04cb4c928' class='xr-var-data-in' type='checkbox'><label for='data-89441d86-076f-4437-842f-e7e04cb4c928' title='Show/Hide data repr'><svg class='icon xr-icon-database'><use xlink:href='#icon-database'></use></svg></label><div class='xr-var-attrs'><dl class='xr-attrs'><dt><span>standard_name :</span></dt><dd>quality_flag</dd><dt><span>long_name :</span></dt><dd>Maintenance quality control flags for secondary pyranometer</dd><dt><span>note :</span></dt><dd>Soiling describes subjectively the coverage of the pyranometer dome with dirt. The level flag is problematic if the bubble of the spirit level touches the reference ring, and bad if it is outside.</dd><dt><span>valid_range :</span></dt><dd>[ 0 11]</dd><dt><span>flag_masks :</span></dt><dd>[ 3  3  3 12 12]</dd><dt><span>flag_values :</span></dt><dd>[1 2 3 4 8]</dd><dt><span>flag_meanings :</span></dt><dd>soiling_light soiling_moderate soiling_heavy level_problematic level_bad</dd><dt><span>note_general :</span></dt><dd>this is a test; 222</dd><dt><span>note_clean :</span></dt><dd>None; None</dd><dt><span>note_level :</span></dt><dd>None; None</dd></dl></div><div class='xr-var-data'><pre>array([7.], dtype=float32)</pre></div></li><li class='xr-var-item'><div class='xr-var-name'><span>szen</span></div><div class='xr-var-dims'>(time, station)</div><div class='xr-var-dtype'>float64</div><div class='xr-var-preview xr-preview'>nan nan 42.51 42.51 42.51</div><input id='attrs-2b70c3d6-42ee-473e-aa85-d102a9cc09e9' class='xr-var-attrs-in' type='checkbox' ><label for='attrs-2b70c3d6-42ee-473e-aa85-d102a9cc09e9' title='Show/Hide attributes'><svg class='icon xr-icon-file-text2'><use xlink:href='#icon-file-text2'></use></svg></label><input id='data-30f3a7b2-cba9-4b58-a006-edb14409d068' class='xr-var-data-in' type='checkbox'><label for='data-30f3a7b2-cba9-4b58-a006-edb14409d068' title='Show/Hide data repr'><svg class='icon xr-icon-database'><use xlink:href='#icon-database'></use></svg></label><div class='xr-var-attrs'><dl class='xr-attrs'><dt><span>standard_name :</span></dt><dd>solar_zenith_angle</dd><dt><span>units :</span></dt><dd>degree</dd><dt><span>valid_range :</span></dt><dd>[0, 36000]</dd></dl></div><div class='xr-var-data'><pre>array([[        nan],\n       [        nan],\n       [42.5118597 ],\n       [42.51199538],\n       [42.51213126]])</pre></div></li><li class='xr-var-item'><div class='xr-var-name'><span>sazi</span></div><div class='xr-var-dims'>(time, station)</div><div class='xr-var-dtype'>float64</div><div class='xr-var-preview xr-preview'>nan nan 182.9 182.9 182.9</div><input id='attrs-5e729ade-a102-44fe-9b59-983b393ff977' class='xr-var-attrs-in' type='checkbox' ><label for='attrs-5e729ade-a102-44fe-9b59-983b393ff977' title='Show/Hide attributes'><svg class='icon xr-icon-file-text2'><use xlink:href='#icon-file-text2'></use></svg></label><input id='data-a7ce6db5-e46c-4320-a454-d586f1a0c6b0' class='xr-var-data-in' type='checkbox'><label for='data-a7ce6db5-e46c-4320-a454-d586f1a0c6b0' title='Show/Hide data repr'><svg class='icon xr-icon-database'><use xlink:href='#icon-database'></use></svg></label><div class='xr-var-attrs'><dl class='xr-attrs'><dt><span>standard_name :</span></dt><dd>solar_azimuth_angle</dd><dt><span>units :</span></dt><dd>degree</dd><dt><span>valid_range :</span></dt><dd>[0, 36000]</dd></dl></div><div class='xr-var-data'><pre>array([[         nan],\n       [         nan],\n       [182.91893682],\n       [182.92502312],\n       [182.93110895]])</pre></div></li><li class='xr-var-item'><div class='xr-var-name'><span>esd</span></div><div class='xr-var-dims'>(station)</div><div class='xr-var-dtype'>float64</div><div class='xr-var-preview xr-preview'>1.01</div><input id='attrs-75e0f9e7-52c5-415e-a079-455e969f189b' class='xr-var-attrs-in' type='checkbox' ><label for='attrs-75e0f9e7-52c5-415e-a079-455e969f189b' title='Show/Hide attributes'><svg class='icon xr-icon-file-text2'><use xlink:href='#icon-file-text2'></use></svg></label><input id='data-89cdfed7-88a6-4c8b-be82-f8dcac74ef50' class='xr-var-data-in' type='checkbox'><label for='data-89cdfed7-88a6-4c8b-be82-f8dcac74ef50' title='Show/Hide data repr'><svg class='icon xr-icon-database'><use xlink:href='#icon-database'></use></svg></label><div class='xr-var-attrs'><dl class='xr-attrs'><dt><span>standard_name :</span></dt><dd>earth_sun_distance</dd><dt><span>units :</span></dt><dd>AU</dd><dt><span>valid_range :</span></dt><dd>[0, 40000]</dd></dl></div><div class='xr-var-data'><pre>array([1.00959973])</pre></div></li></ul></div></li><li class='xr-section-item'><input id='section-074c2bae-695f-4d99-bb9f-80b24a27c0e7' class='xr-section-summary-in' type='checkbox'  ><label for='section-074c2bae-695f-4d99-bb9f-80b24a27c0e7' class='xr-section-summary' >Indexes: <span>(2)</span></label><div class='xr-section-inline-details'></div><div class='xr-section-details'><ul class='xr-var-list'><li class='xr-var-item'><div class='xr-index-name'><div>station</div></div><div class='xr-index-preview'>PandasIndex</div><div></div><input id='index-479592e5-a334-4c64-997a-9a114d497bfe' class='xr-index-data-in' type='checkbox'/><label for='index-479592e5-a334-4c64-997a-9a114d497bfe' title='Show/Hide index repr'><svg class='icon xr-icon-database'><use xlink:href='#icon-database'></use></svg></label><div class='xr-index-data'><pre>PandasIndex(Float64Index([1.0], dtype=&#x27;float64&#x27;, name=&#x27;station&#x27;))</pre></div></li><li class='xr-var-item'><div class='xr-index-name'><div>time</div></div><div class='xr-index-preview'>PandasIndex</div><div></div><input id='index-e6ac19be-04ac-4554-b6ab-af080c3febb9' class='xr-index-data-in' type='checkbox'/><label for='index-e6ac19be-04ac-4554-b6ab-af080c3febb9' title='Show/Hide index repr'><svg class='icon xr-icon-database'><use xlink:href='#icon-database'></use></svg></label><div class='xr-index-data'><pre>PandasIndex(DatetimeIndex([&#x27;2022-08-30 11:21:03&#x27;, &#x27;2022-08-30 11:21:04&#x27;,\n               &#x27;2022-08-30 11:21:05&#x27;, &#x27;2022-08-30 11:21:06&#x27;,\n               &#x27;2022-08-30 11:21:07&#x27;],\n              dtype=&#x27;datetime64[ns]&#x27;, name=&#x27;time&#x27;, freq=None))</pre></div></li></ul></div></li><li class='xr-section-item'><input id='section-5ebcb8f7-ef32-46ce-abf2-4e065b36b86d' class='xr-section-summary-in' type='checkbox'  ><label for='section-5ebcb8f7-ef32-46ce-abf2-4e065b36b86d' class='xr-section-summary' >Attributes: <span>(31)</span></label><div class='xr-section-inline-details'></div><div class='xr-section-details'><dl class='xr-attrs'><dt><span>title :</span></dt><dd>TROPOS pyranometer network (PyrNet) observations</dd><dt><span>institution :</span></dt><dd>Leibniz Institute for Tropospheric Research (TROPOS)</dd><dt><span>department :</span></dt><dd>Remote Sensing of Atmospheric Processes</dd><dt><span>department_team :</span></dt><dd>Clouds, Aerosol and Radiation</dd><dt><span>address :</span></dt><dd>Permoser Str. 15, 04318 Leipzig, Germany</dd><dt><span>source :</span></dt><dd>TROPOS pyranometer network (PyrNet)</dd><dt><span>contact_person :</span></dt><dd>Andreas Macke and the clouds, aerosol and radiation team of the remote sensing department, mailto:andreas.macke@tropos.de</dd><dt><span>contributor_name :</span></dt><dd></dd><dt><span>contributor_role :</span></dt><dd></dd><dt><span>authors_software :</span></dt><dd>Hartwig Deneke, Jonas Witthuhn, mailto:deneke@tropos.de</dd><dt><span>creator_name :</span></dt><dd></dd><dt><span>project :</span></dt><dd></dd><dt><span>references :</span></dt><dd>https://doi.org/10.5194/amt-9-1153-2016</dd><dt><span>standard_name_vocabulary :</span></dt><dd>CF Standard Name Table v81</dd><dt><span>conventions :</span></dt><dd>CF-1.10, ACDD-1.3</dd><dt><span>license :</span></dt><dd>CC-BY-SA 3.0</dd><dt><span>TESTNOTE :</span></dt><dd>This is a test note.</dd><dt><span>processing_level :</span></dt><dd>l1a</dd><dt><span>product_version :</span></dt><dd>0.1.8+1.g72dffd1.dirty</dd><dt><span>history :</span></dt><dd>2023-06-27T06:54:50: Generated level l1a  by pyrnet version 0.1.8+1.g72dffd1.dirty; </dd><dt><span>date_created :</span></dt><dd>2023-06-27T06:54:50</dd><dt><span>geospatial_lat_min :</span></dt><dd>51.390208333333334</dd><dt><span>geospatial_lat_max :</span></dt><dd>51.390211666666666</dd><dt><span>geospatial_lat_units :</span></dt><dd>degN</dd><dt><span>geospatial_lon_min :</span></dt><dd>11.885246666666667</dd><dt><span>geospatial_lon_max :</span></dt><dd>11.885256666666667</dd><dt><span>geospatial_lon_units :</span></dt><dd>degE</dd><dt><span>time_coverage_start :</span></dt><dd>2022-08-30T11:21:04.065000</dd><dt><span>time_coverage_end :</span></dt><dd>2022-08-30T11:21:09</dd><dt><span>time_coverage_duration :</span></dt><dd>P0DT0H0M4.935S</dd><dt><span>time_coverage_resolution :</span></dt><dd>P0DT0H0M1.23375S</dd></dl></div></li></ul></div></div>"
     },
     "execution_count": 27,
     "metadata": {},
     "output_type": "execute_result"
    }
   ],
   "source": [
    "#|dropcode\n",
    "#|dropout\n",
    "ds_l1b = ds_l1b.assign(\n",
    "    {\n",
    "        \"szen\": ((\"time\", \"station\"), szen[:,None]),\n",
    "        \"sazi\": ((\"time\", \"station\"), sazi[:,None]),\n",
    "        \"esd\": (\"station\", [esd])\n",
    "    }\n",
    ")\n",
    "for key in ['szen', 'sazi','esd']:\n",
    "    ds_l1b[key].attrs.update(vattrs[key])\n",
    "    # ds_l1b[key].encoding.update(vencode[key])\n",
    "ds_l1b"
   ],
   "metadata": {
    "collapsed": false,
    "ExecuteTime": {
     "end_time": "2023-06-27T06:54:51.304638900Z",
     "start_time": "2023-06-27T06:54:51.164629200Z"
    }
   }
  },
  {
   "cell_type": "markdown",
   "source": [
    "8. Calibrate radiation flux\n",
    "9. Update variables and global attributes and encoding"
   ],
   "metadata": {
    "collapsed": false
   }
  },
  {
   "cell_type": "code",
   "execution_count": 28,
   "outputs": [
    {
     "name": "stdout",
     "output_type": "stream",
     "text": [
      "Meta Lookup:\n",
      ">> Box=1.0\n",
      ">> serial(s)=['S12128.001', 'S12137.049']\n",
      "calibration factor(s)=[7.73, 6.98]\n"
     ]
    },
    {
     "data": {
      "text/plain": "<xarray.Dataset>\nDimensions:          (time: 5, station: 1)\nCoordinates:\n  * station          (station) float32 1.0\n  * time             (time) datetime64[ns] 2022-08-30T11:21:03 ... 2022-08-30...\nData variables:\n    ghi              (time, station) float64 269.9 269.7 269.9 269.9 269.9\n    gti              (time, station) float64 277.3 277.3 277.4 277.3 277.3\n    ta               (time, station) float64 294.8 294.7 294.8 294.7 294.8\n    rh               (time, station) float64 0.6263 0.6266 0.6271 0.6271 0.629\n    battery_voltage  (time, station) float64 6.445 6.446 6.45 6.448 6.458\n    lat              (time, station) float64 nan nan 51.39 51.39 51.39\n    lon              (time, station) float64 nan nan 11.89 11.89 11.89\n    ghi_qc           (station) float32 9.0\n    gti_qc           (station) float32 7.0\n    szen             (time, station) float64 nan nan 42.51 42.51 42.51\n    sazi             (time, station) float64 nan nan 182.9 182.9 182.9\n    esd              (station) float64 1.01\nAttributes: (12/31)\n    title:                     TROPOS pyranometer network (PyrNet) observations\n    institution:               Leibniz Institute for Tropospheric Research (T...\n    department:                Remote Sensing of Atmospheric Processes\n    department_team:           Clouds, Aerosol and Radiation\n    address:                   Permoser Str. 15, 04318 Leipzig, Germany\n    source:                    TROPOS pyranometer network (PyrNet)\n    ...                        ...\n    geospatial_lon_max:        11.885256869999996\n    geospatial_lon_units:      degE\n    time_coverage_start:       2022-08-30T11:21:03\n    time_coverage_end:         2022-08-30T11:21:07\n    time_coverage_duration:    P0DT0H0M4S\n    time_coverage_resolution:  P0DT0H0M1S",
      "text/html": "<div><svg style=\"position: absolute; width: 0; height: 0; overflow: hidden\">\n<defs>\n<symbol id=\"icon-database\" viewBox=\"0 0 32 32\">\n<path d=\"M16 0c-8.837 0-16 2.239-16 5v4c0 2.761 7.163 5 16 5s16-2.239 16-5v-4c0-2.761-7.163-5-16-5z\"></path>\n<path d=\"M16 17c-8.837 0-16-2.239-16-5v6c0 2.761 7.163 5 16 5s16-2.239 16-5v-6c0 2.761-7.163 5-16 5z\"></path>\n<path d=\"M16 26c-8.837 0-16-2.239-16-5v6c0 2.761 7.163 5 16 5s16-2.239 16-5v-6c0 2.761-7.163 5-16 5z\"></path>\n</symbol>\n<symbol id=\"icon-file-text2\" viewBox=\"0 0 32 32\">\n<path d=\"M28.681 7.159c-0.694-0.947-1.662-2.053-2.724-3.116s-2.169-2.030-3.116-2.724c-1.612-1.182-2.393-1.319-2.841-1.319h-15.5c-1.378 0-2.5 1.121-2.5 2.5v27c0 1.378 1.122 2.5 2.5 2.5h23c1.378 0 2.5-1.122 2.5-2.5v-19.5c0-0.448-0.137-1.23-1.319-2.841zM24.543 5.457c0.959 0.959 1.712 1.825 2.268 2.543h-4.811v-4.811c0.718 0.556 1.584 1.309 2.543 2.268zM28 29.5c0 0.271-0.229 0.5-0.5 0.5h-23c-0.271 0-0.5-0.229-0.5-0.5v-27c0-0.271 0.229-0.5 0.5-0.5 0 0 15.499-0 15.5 0v7c0 0.552 0.448 1 1 1h7v19.5z\"></path>\n<path d=\"M23 26h-14c-0.552 0-1-0.448-1-1s0.448-1 1-1h14c0.552 0 1 0.448 1 1s-0.448 1-1 1z\"></path>\n<path d=\"M23 22h-14c-0.552 0-1-0.448-1-1s0.448-1 1-1h14c0.552 0 1 0.448 1 1s-0.448 1-1 1z\"></path>\n<path d=\"M23 18h-14c-0.552 0-1-0.448-1-1s0.448-1 1-1h14c0.552 0 1 0.448 1 1s-0.448 1-1 1z\"></path>\n</symbol>\n</defs>\n</svg>\n<style>/* CSS stylesheet for displaying xarray objects in jupyterlab.\n *\n */\n\n:root {\n  --xr-font-color0: var(--jp-content-font-color0, rgba(0, 0, 0, 1));\n  --xr-font-color2: var(--jp-content-font-color2, rgba(0, 0, 0, 0.54));\n  --xr-font-color3: var(--jp-content-font-color3, rgba(0, 0, 0, 0.38));\n  --xr-border-color: var(--jp-border-color2, #e0e0e0);\n  --xr-disabled-color: var(--jp-layout-color3, #bdbdbd);\n  --xr-background-color: var(--jp-layout-color0, white);\n  --xr-background-color-row-even: var(--jp-layout-color1, white);\n  --xr-background-color-row-odd: var(--jp-layout-color2, #eeeeee);\n}\n\nhtml[theme=dark],\nbody[data-theme=dark],\nbody.vscode-dark {\n  --xr-font-color0: rgba(255, 255, 255, 1);\n  --xr-font-color2: rgba(255, 255, 255, 0.54);\n  --xr-font-color3: rgba(255, 255, 255, 0.38);\n  --xr-border-color: #1F1F1F;\n  --xr-disabled-color: #515151;\n  --xr-background-color: #111111;\n  --xr-background-color-row-even: #111111;\n  --xr-background-color-row-odd: #313131;\n}\n\n.xr-wrap {\n  display: block !important;\n  min-width: 300px;\n  max-width: 700px;\n}\n\n.xr-text-repr-fallback {\n  /* fallback to plain text repr when CSS is not injected (untrusted notebook) */\n  display: none;\n}\n\n.xr-header {\n  padding-top: 6px;\n  padding-bottom: 6px;\n  margin-bottom: 4px;\n  border-bottom: solid 1px var(--xr-border-color);\n}\n\n.xr-header > div,\n.xr-header > ul {\n  display: inline;\n  margin-top: 0;\n  margin-bottom: 0;\n}\n\n.xr-obj-type,\n.xr-array-name {\n  margin-left: 2px;\n  margin-right: 10px;\n}\n\n.xr-obj-type {\n  color: var(--xr-font-color2);\n}\n\n.xr-sections {\n  padding-left: 0 !important;\n  display: grid;\n  grid-template-columns: 150px auto auto 1fr 20px 20px;\n}\n\n.xr-section-item {\n  display: contents;\n}\n\n.xr-section-item input {\n  display: none;\n}\n\n.xr-section-item input + label {\n  color: var(--xr-disabled-color);\n}\n\n.xr-section-item input:enabled + label {\n  cursor: pointer;\n  color: var(--xr-font-color2);\n}\n\n.xr-section-item input:enabled + label:hover {\n  color: var(--xr-font-color0);\n}\n\n.xr-section-summary {\n  grid-column: 1;\n  color: var(--xr-font-color2);\n  font-weight: 500;\n}\n\n.xr-section-summary > span {\n  display: inline-block;\n  padding-left: 0.5em;\n}\n\n.xr-section-summary-in:disabled + label {\n  color: var(--xr-font-color2);\n}\n\n.xr-section-summary-in + label:before {\n  display: inline-block;\n  content: '►';\n  font-size: 11px;\n  width: 15px;\n  text-align: center;\n}\n\n.xr-section-summary-in:disabled + label:before {\n  color: var(--xr-disabled-color);\n}\n\n.xr-section-summary-in:checked + label:before {\n  content: '▼';\n}\n\n.xr-section-summary-in:checked + label > span {\n  display: none;\n}\n\n.xr-section-summary,\n.xr-section-inline-details {\n  padding-top: 4px;\n  padding-bottom: 4px;\n}\n\n.xr-section-inline-details {\n  grid-column: 2 / -1;\n}\n\n.xr-section-details {\n  display: none;\n  grid-column: 1 / -1;\n  margin-bottom: 5px;\n}\n\n.xr-section-summary-in:checked ~ .xr-section-details {\n  display: contents;\n}\n\n.xr-array-wrap {\n  grid-column: 1 / -1;\n  display: grid;\n  grid-template-columns: 20px auto;\n}\n\n.xr-array-wrap > label {\n  grid-column: 1;\n  vertical-align: top;\n}\n\n.xr-preview {\n  color: var(--xr-font-color3);\n}\n\n.xr-array-preview,\n.xr-array-data {\n  padding: 0 5px !important;\n  grid-column: 2;\n}\n\n.xr-array-data,\n.xr-array-in:checked ~ .xr-array-preview {\n  display: none;\n}\n\n.xr-array-in:checked ~ .xr-array-data,\n.xr-array-preview {\n  display: inline-block;\n}\n\n.xr-dim-list {\n  display: inline-block !important;\n  list-style: none;\n  padding: 0 !important;\n  margin: 0;\n}\n\n.xr-dim-list li {\n  display: inline-block;\n  padding: 0;\n  margin: 0;\n}\n\n.xr-dim-list:before {\n  content: '(';\n}\n\n.xr-dim-list:after {\n  content: ')';\n}\n\n.xr-dim-list li:not(:last-child):after {\n  content: ',';\n  padding-right: 5px;\n}\n\n.xr-has-index {\n  font-weight: bold;\n}\n\n.xr-var-list,\n.xr-var-item {\n  display: contents;\n}\n\n.xr-var-item > div,\n.xr-var-item label,\n.xr-var-item > .xr-var-name span {\n  background-color: var(--xr-background-color-row-even);\n  margin-bottom: 0;\n}\n\n.xr-var-item > .xr-var-name:hover span {\n  padding-right: 5px;\n}\n\n.xr-var-list > li:nth-child(odd) > div,\n.xr-var-list > li:nth-child(odd) > label,\n.xr-var-list > li:nth-child(odd) > .xr-var-name span {\n  background-color: var(--xr-background-color-row-odd);\n}\n\n.xr-var-name {\n  grid-column: 1;\n}\n\n.xr-var-dims {\n  grid-column: 2;\n}\n\n.xr-var-dtype {\n  grid-column: 3;\n  text-align: right;\n  color: var(--xr-font-color2);\n}\n\n.xr-var-preview {\n  grid-column: 4;\n}\n\n.xr-index-preview {\n  grid-column: 2 / 5;\n  color: var(--xr-font-color2);\n}\n\n.xr-var-name,\n.xr-var-dims,\n.xr-var-dtype,\n.xr-preview,\n.xr-attrs dt {\n  white-space: nowrap;\n  overflow: hidden;\n  text-overflow: ellipsis;\n  padding-right: 10px;\n}\n\n.xr-var-name:hover,\n.xr-var-dims:hover,\n.xr-var-dtype:hover,\n.xr-attrs dt:hover {\n  overflow: visible;\n  width: auto;\n  z-index: 1;\n}\n\n.xr-var-attrs,\n.xr-var-data,\n.xr-index-data {\n  display: none;\n  background-color: var(--xr-background-color) !important;\n  padding-bottom: 5px !important;\n}\n\n.xr-var-attrs-in:checked ~ .xr-var-attrs,\n.xr-var-data-in:checked ~ .xr-var-data,\n.xr-index-data-in:checked ~ .xr-index-data {\n  display: block;\n}\n\n.xr-var-data > table {\n  float: right;\n}\n\n.xr-var-name span,\n.xr-var-data,\n.xr-index-name div,\n.xr-index-data,\n.xr-attrs {\n  padding-left: 25px !important;\n}\n\n.xr-attrs,\n.xr-var-attrs,\n.xr-var-data,\n.xr-index-data {\n  grid-column: 1 / -1;\n}\n\ndl.xr-attrs {\n  padding: 0;\n  margin: 0;\n  display: grid;\n  grid-template-columns: 125px auto;\n}\n\n.xr-attrs dt,\n.xr-attrs dd {\n  padding: 0;\n  margin: 0;\n  float: left;\n  padding-right: 10px;\n  width: auto;\n}\n\n.xr-attrs dt {\n  font-weight: normal;\n  grid-column: 1;\n}\n\n.xr-attrs dt:hover span {\n  display: inline-block;\n  background: var(--xr-background-color);\n  padding-right: 10px;\n}\n\n.xr-attrs dd {\n  grid-column: 2;\n  white-space: pre-wrap;\n  word-break: break-all;\n}\n\n.xr-icon-database,\n.xr-icon-file-text2,\n.xr-no-icon {\n  display: inline-block;\n  vertical-align: middle;\n  width: 1em;\n  height: 1.5em !important;\n  stroke-width: 0;\n  stroke: currentColor;\n  fill: currentColor;\n}\n</style><pre class='xr-text-repr-fallback'>&lt;xarray.Dataset&gt;\nDimensions:          (time: 5, station: 1)\nCoordinates:\n  * station          (station) float32 1.0\n  * time             (time) datetime64[ns] 2022-08-30T11:21:03 ... 2022-08-30...\nData variables:\n    ghi              (time, station) float64 269.9 269.7 269.9 269.9 269.9\n    gti              (time, station) float64 277.3 277.3 277.4 277.3 277.3\n    ta               (time, station) float64 294.8 294.7 294.8 294.7 294.8\n    rh               (time, station) float64 0.6263 0.6266 0.6271 0.6271 0.629\n    battery_voltage  (time, station) float64 6.445 6.446 6.45 6.448 6.458\n    lat              (time, station) float64 nan nan 51.39 51.39 51.39\n    lon              (time, station) float64 nan nan 11.89 11.89 11.89\n    ghi_qc           (station) float32 9.0\n    gti_qc           (station) float32 7.0\n    szen             (time, station) float64 nan nan 42.51 42.51 42.51\n    sazi             (time, station) float64 nan nan 182.9 182.9 182.9\n    esd              (station) float64 1.01\nAttributes: (12/31)\n    title:                     TROPOS pyranometer network (PyrNet) observations\n    institution:               Leibniz Institute for Tropospheric Research (T...\n    department:                Remote Sensing of Atmospheric Processes\n    department_team:           Clouds, Aerosol and Radiation\n    address:                   Permoser Str. 15, 04318 Leipzig, Germany\n    source:                    TROPOS pyranometer network (PyrNet)\n    ...                        ...\n    geospatial_lon_max:        11.885256869999996\n    geospatial_lon_units:      degE\n    time_coverage_start:       2022-08-30T11:21:03\n    time_coverage_end:         2022-08-30T11:21:07\n    time_coverage_duration:    P0DT0H0M4S\n    time_coverage_resolution:  P0DT0H0M1S</pre><div class='xr-wrap' style='display:none'><div class='xr-header'><div class='xr-obj-type'>xarray.Dataset</div></div><ul class='xr-sections'><li class='xr-section-item'><input id='section-2d7d5047-415c-4e9a-aecf-ee223b3c305a' class='xr-section-summary-in' type='checkbox' disabled ><label for='section-2d7d5047-415c-4e9a-aecf-ee223b3c305a' class='xr-section-summary'  title='Expand/collapse section'>Dimensions:</label><div class='xr-section-inline-details'><ul class='xr-dim-list'><li><span class='xr-has-index'>time</span>: 5</li><li><span class='xr-has-index'>station</span>: 1</li></ul></div><div class='xr-section-details'></div></li><li class='xr-section-item'><input id='section-24b0ef6a-7c76-48fb-8e91-e897cfc74856' class='xr-section-summary-in' type='checkbox'  checked><label for='section-24b0ef6a-7c76-48fb-8e91-e897cfc74856' class='xr-section-summary' >Coordinates: <span>(2)</span></label><div class='xr-section-inline-details'></div><div class='xr-section-details'><ul class='xr-var-list'><li class='xr-var-item'><div class='xr-var-name'><span class='xr-has-index'>station</span></div><div class='xr-var-dims'>(station)</div><div class='xr-var-dtype'>float32</div><div class='xr-var-preview xr-preview'>1.0</div><input id='attrs-9707cb65-fbf6-4a97-8251-c29215e253e3' class='xr-var-attrs-in' type='checkbox' ><label for='attrs-9707cb65-fbf6-4a97-8251-c29215e253e3' title='Show/Hide attributes'><svg class='icon xr-icon-file-text2'><use xlink:href='#icon-file-text2'></use></svg></label><input id='data-1db86c9f-2d00-4fe7-8112-316dae149b23' class='xr-var-data-in' type='checkbox'><label for='data-1db86c9f-2d00-4fe7-8112-316dae149b23' title='Show/Hide data repr'><svg class='icon xr-icon-database'><use xlink:href='#icon-database'></use></svg></label><div class='xr-var-attrs'><dl class='xr-attrs'><dt><span>units :</span></dt><dd>-</dd><dt><span>long_name :</span></dt><dd>PyrNet unit box number</dd></dl></div><div class='xr-var-data'><pre>array([1.], dtype=float32)</pre></div></li><li class='xr-var-item'><div class='xr-var-name'><span class='xr-has-index'>time</span></div><div class='xr-var-dims'>(time)</div><div class='xr-var-dtype'>datetime64[ns]</div><div class='xr-var-preview xr-preview'>2022-08-30T11:21:03 ... 2022-08-...</div><input id='attrs-bab4012a-d02a-40be-adae-a3c622bfe1b0' class='xr-var-attrs-in' type='checkbox' disabled><label for='attrs-bab4012a-d02a-40be-adae-a3c622bfe1b0' title='Show/Hide attributes'><svg class='icon xr-icon-file-text2'><use xlink:href='#icon-file-text2'></use></svg></label><input id='data-ee198ede-7f92-48bd-884f-009ece36398b' class='xr-var-data-in' type='checkbox'><label for='data-ee198ede-7f92-48bd-884f-009ece36398b' title='Show/Hide data repr'><svg class='icon xr-icon-database'><use xlink:href='#icon-database'></use></svg></label><div class='xr-var-attrs'><dl class='xr-attrs'></dl></div><div class='xr-var-data'><pre>array([&#x27;2022-08-30T11:21:03.000000000&#x27;, &#x27;2022-08-30T11:21:04.000000000&#x27;,\n       &#x27;2022-08-30T11:21:05.000000000&#x27;, &#x27;2022-08-30T11:21:06.000000000&#x27;,\n       &#x27;2022-08-30T11:21:07.000000000&#x27;], dtype=&#x27;datetime64[ns]&#x27;)</pre></div></li></ul></div></li><li class='xr-section-item'><input id='section-e95ad97b-abe2-43e6-a1a9-d6f88c570fbe' class='xr-section-summary-in' type='checkbox'  checked><label for='section-e95ad97b-abe2-43e6-a1a9-d6f88c570fbe' class='xr-section-summary' >Data variables: <span>(12)</span></label><div class='xr-section-inline-details'></div><div class='xr-section-details'><ul class='xr-var-list'><li class='xr-var-item'><div class='xr-var-name'><span>ghi</span></div><div class='xr-var-dims'>(time, station)</div><div class='xr-var-dtype'>float64</div><div class='xr-var-preview xr-preview'>269.9 269.7 269.9 269.9 269.9</div><input id='attrs-e259628d-5beb-473f-9517-59e8ec2163c0' class='xr-var-attrs-in' type='checkbox' ><label for='attrs-e259628d-5beb-473f-9517-59e8ec2163c0' title='Show/Hide attributes'><svg class='icon xr-icon-file-text2'><use xlink:href='#icon-file-text2'></use></svg></label><input id='data-00123474-1216-4238-ae4c-971685c41252' class='xr-var-data-in' type='checkbox'><label for='data-00123474-1216-4238-ae4c-971685c41252' title='Show/Hide data repr'><svg class='icon xr-icon-database'><use xlink:href='#icon-database'></use></svg></label><div class='xr-var-attrs'><dl class='xr-attrs'><dt><span>units :</span></dt><dd>W m-2</dd><dt><span>long_name :</span></dt><dd>downwelling shortwave flux</dd><dt><span>standard_name :</span></dt><dd>downwelling_shortwave_flux_in_air</dd><dt><span>valid_range :</span></dt><dd>[   0 1023]</dd><dt><span>serial :</span></dt><dd>S12128.001</dd><dt><span>calibration_factor :</span></dt><dd>7.73</dd></dl></div><div class='xr-var-data'><pre>array([[269.860475],\n       [269.721373],\n       [269.860475],\n       [269.860475],\n       [269.860475]])</pre></div></li><li class='xr-var-item'><div class='xr-var-name'><span>gti</span></div><div class='xr-var-dims'>(time, station)</div><div class='xr-var-dtype'>float64</div><div class='xr-var-preview xr-preview'>277.3 277.3 277.4 277.3 277.3</div><input id='attrs-5781dcb3-9b88-4d76-9a75-80cd4aeaa809' class='xr-var-attrs-in' type='checkbox' ><label for='attrs-5781dcb3-9b88-4d76-9a75-80cd4aeaa809' title='Show/Hide attributes'><svg class='icon xr-icon-file-text2'><use xlink:href='#icon-file-text2'></use></svg></label><input id='data-a4b34079-37de-4d94-bfc7-d2bd202f38d0' class='xr-var-data-in' type='checkbox'><label for='data-a4b34079-37de-4d94-bfc7-d2bd202f38d0' title='Show/Hide data repr'><svg class='icon xr-icon-database'><use xlink:href='#icon-database'></use></svg></label><div class='xr-var-attrs'><dl class='xr-attrs'><dt><span>units :</span></dt><dd>W m-2</dd><dt><span>long_name :</span></dt><dd>downwelling shortwave flux measured on secondary platform, might be tilted</dd><dt><span>standard_name :</span></dt><dd>downwelling_shortwave_flux_in_air</dd><dt><span>valid_range :</span></dt><dd>[   0 1023]</dd><dt><span>hangle :</span></dt><dd>0.0</dd><dt><span>vangle :</span></dt><dd>0.0</dd><dt><span>serial :</span></dt><dd>S12137.049</dd><dt><span>calibration_factor :</span></dt><dd>6.98</dd></dl></div><div class='xr-var-data'><pre>array([[277.28995527],\n       [277.28995527],\n       [277.44400543],\n       [277.28995527],\n       [277.28995527]])</pre></div></li><li class='xr-var-item'><div class='xr-var-name'><span>ta</span></div><div class='xr-var-dims'>(time, station)</div><div class='xr-var-dtype'>float64</div><div class='xr-var-preview xr-preview'>294.8 294.7 294.8 294.7 294.8</div><input id='attrs-2b3f7d19-54e6-435a-bff3-7cafbf536c19' class='xr-var-attrs-in' type='checkbox' ><label for='attrs-2b3f7d19-54e6-435a-bff3-7cafbf536c19' title='Show/Hide attributes'><svg class='icon xr-icon-file-text2'><use xlink:href='#icon-file-text2'></use></svg></label><input id='data-d2f089c3-f182-4701-a26c-d167b5dfdbe0' class='xr-var-data-in' type='checkbox'><label for='data-d2f089c3-f182-4701-a26c-d167b5dfdbe0' title='Show/Hide data repr'><svg class='icon xr-icon-database'><use xlink:href='#icon-database'></use></svg></label><div class='xr-var-attrs'><dl class='xr-attrs'><dt><span>units :</span></dt><dd>K</dd><dt><span>long_name :</span></dt><dd>air temperature</dd><dt><span>standard_name :</span></dt><dd>air_temperature</dd><dt><span>valid_range :</span></dt><dd>[  0 775]</dd></dl></div><div class='xr-var-data'><pre>array([[294.77579346],\n       [294.74998474],\n       [294.78870239],\n       [294.74998169],\n       [294.8274231 ]])</pre></div></li><li class='xr-var-item'><div class='xr-var-name'><span>rh</span></div><div class='xr-var-dims'>(time, station)</div><div class='xr-var-dtype'>float64</div><div class='xr-var-preview xr-preview'>0.6263 0.6266 0.6271 0.6271 0.629</div><input id='attrs-09e12d5b-b6b6-4a7d-b23a-d854d24cef06' class='xr-var-attrs-in' type='checkbox' ><label for='attrs-09e12d5b-b6b6-4a7d-b23a-d854d24cef06' title='Show/Hide attributes'><svg class='icon xr-icon-file-text2'><use xlink:href='#icon-file-text2'></use></svg></label><input id='data-17d27c13-9250-40e5-a930-155e37bcc5b8' class='xr-var-data-in' type='checkbox'><label for='data-17d27c13-9250-40e5-a930-155e37bcc5b8' title='Show/Hide data repr'><svg class='icon xr-icon-database'><use xlink:href='#icon-database'></use></svg></label><div class='xr-var-attrs'><dl class='xr-attrs'><dt><span>units :</span></dt><dd>1</dd><dt><span>long_name :</span></dt><dd>air relative humidity</dd><dt><span>standard_name :</span></dt><dd>relative_humidity</dd><dt><span>valid_range :</span></dt><dd>[  0 775]</dd></dl></div><div class='xr-var-data'><pre>array([[0.62632258],\n       [0.62658064],\n       [0.62709677],\n       [0.62709677],\n       [0.62903225]])</pre></div></li><li class='xr-var-item'><div class='xr-var-name'><span>battery_voltage</span></div><div class='xr-var-dims'>(time, station)</div><div class='xr-var-dtype'>float64</div><div class='xr-var-preview xr-preview'>6.445 6.446 6.45 6.448 6.458</div><input id='attrs-d76ec26b-2da1-4161-9b4d-0109d960e962' class='xr-var-attrs-in' type='checkbox' ><label for='attrs-d76ec26b-2da1-4161-9b4d-0109d960e962' title='Show/Hide attributes'><svg class='icon xr-icon-file-text2'><use xlink:href='#icon-file-text2'></use></svg></label><input id='data-c673bd8b-4ed7-4f9e-86d7-5ab3a37a489b' class='xr-var-data-in' type='checkbox'><label for='data-c673bd8b-4ed7-4f9e-86d7-5ab3a37a489b' title='Show/Hide data repr'><svg class='icon xr-icon-database'><use xlink:href='#icon-database'></use></svg></label><div class='xr-var-attrs'><dl class='xr-attrs'><dt><span>units :</span></dt><dd>V</dd><dt><span>standard_name :</span></dt><dd>battery_voltage</dd><dt><span>valid_range :</span></dt><dd>[   0 1023]</dd></dl></div><div class='xr-var-data'><pre>array([[6.44516134],\n       [6.4458065 ],\n       [6.44967747],\n       [6.44774199],\n       [6.45806456]])</pre></div></li><li class='xr-var-item'><div class='xr-var-name'><span>lat</span></div><div class='xr-var-dims'>(time, station)</div><div class='xr-var-dtype'>float64</div><div class='xr-var-preview xr-preview'>nan nan 51.39 51.39 51.39</div><input id='attrs-f60ba212-9b4c-4850-8109-3c90f911274a' class='xr-var-attrs-in' type='checkbox' ><label for='attrs-f60ba212-9b4c-4850-8109-3c90f911274a' title='Show/Hide attributes'><svg class='icon xr-icon-file-text2'><use xlink:href='#icon-file-text2'></use></svg></label><input id='data-236e20af-7600-4678-bf0c-1199986ec823' class='xr-var-data-in' type='checkbox'><label for='data-236e20af-7600-4678-bf0c-1199986ec823' title='Show/Hide data repr'><svg class='icon xr-icon-database'><use xlink:href='#icon-database'></use></svg></label><div class='xr-var-attrs'><dl class='xr-attrs'><dt><span>standard_name :</span></dt><dd>latitude</dd><dt><span>units :</span></dt><dd>degree_north</dd><dt><span>valid_range :</span></dt><dd>[0.0e+00 1.8e+08]</dd></dl></div><div class='xr-var-data'><pre>array([[        nan],\n       [        nan],\n       [51.390212  ],\n       [51.39021103],\n       [51.39021   ]])</pre></div></li><li class='xr-var-item'><div class='xr-var-name'><span>lon</span></div><div class='xr-var-dims'>(time, station)</div><div class='xr-var-dtype'>float64</div><div class='xr-var-preview xr-preview'>nan nan 11.89 11.89 11.89</div><input id='attrs-23052aff-d881-4030-8601-d6d0a848f06a' class='xr-var-attrs-in' type='checkbox' ><label for='attrs-23052aff-d881-4030-8601-d6d0a848f06a' title='Show/Hide attributes'><svg class='icon xr-icon-file-text2'><use xlink:href='#icon-file-text2'></use></svg></label><input id='data-f56877aa-ab82-451e-a21b-1818c582c10a' class='xr-var-data-in' type='checkbox'><label for='data-f56877aa-ab82-451e-a21b-1818c582c10a' title='Show/Hide data repr'><svg class='icon xr-icon-database'><use xlink:href='#icon-database'></use></svg></label><div class='xr-var-attrs'><dl class='xr-attrs'><dt><span>standard_name :</span></dt><dd>longitude</dd><dt><span>units :</span></dt><dd>degree_east</dd><dt><span>valid_range :</span></dt><dd>[0.0e+00 3.6e+08]</dd></dl></div><div class='xr-var-data'><pre>array([[        nan],\n       [        nan],\n       [11.88525687],\n       [11.88525458],\n       [11.885252  ]])</pre></div></li><li class='xr-var-item'><div class='xr-var-name'><span>ghi_qc</span></div><div class='xr-var-dims'>(station)</div><div class='xr-var-dtype'>float32</div><div class='xr-var-preview xr-preview'>9.0</div><input id='attrs-1a88ed2a-717b-4617-b715-5da8e4a2a839' class='xr-var-attrs-in' type='checkbox' ><label for='attrs-1a88ed2a-717b-4617-b715-5da8e4a2a839' title='Show/Hide attributes'><svg class='icon xr-icon-file-text2'><use xlink:href='#icon-file-text2'></use></svg></label><input id='data-4d5c296a-7b5b-46f6-9180-6ec270e9e525' class='xr-var-data-in' type='checkbox'><label for='data-4d5c296a-7b5b-46f6-9180-6ec270e9e525' title='Show/Hide data repr'><svg class='icon xr-icon-database'><use xlink:href='#icon-database'></use></svg></label><div class='xr-var-attrs'><dl class='xr-attrs'><dt><span>standard_name :</span></dt><dd>quality_flag</dd><dt><span>long_name :</span></dt><dd>Maintenance quality control flags for main pyranometer</dd><dt><span>note :</span></dt><dd>Soiling describes subjectively the coverage of the pyranometer dome with dirt. The level flag is problematic if the bubble of the spirit level touches the reference ring, and bad if it is outside.</dd><dt><span>valid_range :</span></dt><dd>[ 0 11]</dd><dt><span>flag_masks :</span></dt><dd>[ 3  3  3 12 12]</dd><dt><span>flag_values :</span></dt><dd>[1 2 3 4 8]</dd><dt><span>flag_meanings :</span></dt><dd>soiling_light soiling_moderate soiling_heavy level_problematic level_bad</dd><dt><span>note_general :</span></dt><dd>this is a test; 222</dd><dt><span>note_clean :</span></dt><dd>testing notes; None</dd><dt><span>note_level :</span></dt><dd>None; test</dd></dl></div><div class='xr-var-data'><pre>array([9.], dtype=float32)</pre></div></li><li class='xr-var-item'><div class='xr-var-name'><span>gti_qc</span></div><div class='xr-var-dims'>(station)</div><div class='xr-var-dtype'>float32</div><div class='xr-var-preview xr-preview'>7.0</div><input id='attrs-f320a3f1-093b-4937-88db-b4ca3d9565f7' class='xr-var-attrs-in' type='checkbox' ><label for='attrs-f320a3f1-093b-4937-88db-b4ca3d9565f7' title='Show/Hide attributes'><svg class='icon xr-icon-file-text2'><use xlink:href='#icon-file-text2'></use></svg></label><input id='data-bf6bedbe-98c4-458d-9542-ad08081d9906' class='xr-var-data-in' type='checkbox'><label for='data-bf6bedbe-98c4-458d-9542-ad08081d9906' title='Show/Hide data repr'><svg class='icon xr-icon-database'><use xlink:href='#icon-database'></use></svg></label><div class='xr-var-attrs'><dl class='xr-attrs'><dt><span>standard_name :</span></dt><dd>quality_flag</dd><dt><span>long_name :</span></dt><dd>Maintenance quality control flags for secondary pyranometer</dd><dt><span>note :</span></dt><dd>Soiling describes subjectively the coverage of the pyranometer dome with dirt. The level flag is problematic if the bubble of the spirit level touches the reference ring, and bad if it is outside.</dd><dt><span>valid_range :</span></dt><dd>[ 0 11]</dd><dt><span>flag_masks :</span></dt><dd>[ 3  3  3 12 12]</dd><dt><span>flag_values :</span></dt><dd>[1 2 3 4 8]</dd><dt><span>flag_meanings :</span></dt><dd>soiling_light soiling_moderate soiling_heavy level_problematic level_bad</dd><dt><span>note_general :</span></dt><dd>this is a test; 222</dd><dt><span>note_clean :</span></dt><dd>None; None</dd><dt><span>note_level :</span></dt><dd>None; None</dd></dl></div><div class='xr-var-data'><pre>array([7.], dtype=float32)</pre></div></li><li class='xr-var-item'><div class='xr-var-name'><span>szen</span></div><div class='xr-var-dims'>(time, station)</div><div class='xr-var-dtype'>float64</div><div class='xr-var-preview xr-preview'>nan nan 42.51 42.51 42.51</div><input id='attrs-cc9deebd-3f22-4847-a730-6de9ebfde63d' class='xr-var-attrs-in' type='checkbox' ><label for='attrs-cc9deebd-3f22-4847-a730-6de9ebfde63d' title='Show/Hide attributes'><svg class='icon xr-icon-file-text2'><use xlink:href='#icon-file-text2'></use></svg></label><input id='data-834be833-3d2e-4be5-822a-1eb8e2cde6cb' class='xr-var-data-in' type='checkbox'><label for='data-834be833-3d2e-4be5-822a-1eb8e2cde6cb' title='Show/Hide data repr'><svg class='icon xr-icon-database'><use xlink:href='#icon-database'></use></svg></label><div class='xr-var-attrs'><dl class='xr-attrs'><dt><span>standard_name :</span></dt><dd>solar_zenith_angle</dd><dt><span>units :</span></dt><dd>degree</dd><dt><span>valid_range :</span></dt><dd>[0, 36000]</dd></dl></div><div class='xr-var-data'><pre>array([[        nan],\n       [        nan],\n       [42.5118597 ],\n       [42.51199538],\n       [42.51213126]])</pre></div></li><li class='xr-var-item'><div class='xr-var-name'><span>sazi</span></div><div class='xr-var-dims'>(time, station)</div><div class='xr-var-dtype'>float64</div><div class='xr-var-preview xr-preview'>nan nan 182.9 182.9 182.9</div><input id='attrs-b9328c1c-db53-4e9f-8514-74e4b111c466' class='xr-var-attrs-in' type='checkbox' ><label for='attrs-b9328c1c-db53-4e9f-8514-74e4b111c466' title='Show/Hide attributes'><svg class='icon xr-icon-file-text2'><use xlink:href='#icon-file-text2'></use></svg></label><input id='data-2d09470f-f40a-4e76-bc75-2acb0df4c32f' class='xr-var-data-in' type='checkbox'><label for='data-2d09470f-f40a-4e76-bc75-2acb0df4c32f' title='Show/Hide data repr'><svg class='icon xr-icon-database'><use xlink:href='#icon-database'></use></svg></label><div class='xr-var-attrs'><dl class='xr-attrs'><dt><span>standard_name :</span></dt><dd>solar_azimuth_angle</dd><dt><span>units :</span></dt><dd>degree</dd><dt><span>valid_range :</span></dt><dd>[0, 36000]</dd></dl></div><div class='xr-var-data'><pre>array([[         nan],\n       [         nan],\n       [182.91893682],\n       [182.92502312],\n       [182.93110895]])</pre></div></li><li class='xr-var-item'><div class='xr-var-name'><span>esd</span></div><div class='xr-var-dims'>(station)</div><div class='xr-var-dtype'>float64</div><div class='xr-var-preview xr-preview'>1.01</div><input id='attrs-2d8d0c73-3b1f-4b6d-ad0a-0facdf57a302' class='xr-var-attrs-in' type='checkbox' ><label for='attrs-2d8d0c73-3b1f-4b6d-ad0a-0facdf57a302' title='Show/Hide attributes'><svg class='icon xr-icon-file-text2'><use xlink:href='#icon-file-text2'></use></svg></label><input id='data-95d7d7a2-a207-4fc0-8bcb-71e3a9e0e577' class='xr-var-data-in' type='checkbox'><label for='data-95d7d7a2-a207-4fc0-8bcb-71e3a9e0e577' title='Show/Hide data repr'><svg class='icon xr-icon-database'><use xlink:href='#icon-database'></use></svg></label><div class='xr-var-attrs'><dl class='xr-attrs'><dt><span>standard_name :</span></dt><dd>earth_sun_distance</dd><dt><span>units :</span></dt><dd>AU</dd><dt><span>valid_range :</span></dt><dd>[0, 40000]</dd></dl></div><div class='xr-var-data'><pre>array([1.00959973])</pre></div></li></ul></div></li><li class='xr-section-item'><input id='section-23e569cb-ee6f-43e8-86ef-b7511c3a92f5' class='xr-section-summary-in' type='checkbox'  ><label for='section-23e569cb-ee6f-43e8-86ef-b7511c3a92f5' class='xr-section-summary' >Indexes: <span>(2)</span></label><div class='xr-section-inline-details'></div><div class='xr-section-details'><ul class='xr-var-list'><li class='xr-var-item'><div class='xr-index-name'><div>station</div></div><div class='xr-index-preview'>PandasIndex</div><div></div><input id='index-d9a09a0c-13b6-426e-a2b2-62d498fefe1a' class='xr-index-data-in' type='checkbox'/><label for='index-d9a09a0c-13b6-426e-a2b2-62d498fefe1a' title='Show/Hide index repr'><svg class='icon xr-icon-database'><use xlink:href='#icon-database'></use></svg></label><div class='xr-index-data'><pre>PandasIndex(Float64Index([1.0], dtype=&#x27;float64&#x27;, name=&#x27;station&#x27;))</pre></div></li><li class='xr-var-item'><div class='xr-index-name'><div>time</div></div><div class='xr-index-preview'>PandasIndex</div><div></div><input id='index-6cd3e77d-9de4-41a7-bc63-91f79194c4a9' class='xr-index-data-in' type='checkbox'/><label for='index-6cd3e77d-9de4-41a7-bc63-91f79194c4a9' title='Show/Hide index repr'><svg class='icon xr-icon-database'><use xlink:href='#icon-database'></use></svg></label><div class='xr-index-data'><pre>PandasIndex(DatetimeIndex([&#x27;2022-08-30 11:21:03&#x27;, &#x27;2022-08-30 11:21:04&#x27;,\n               &#x27;2022-08-30 11:21:05&#x27;, &#x27;2022-08-30 11:21:06&#x27;,\n               &#x27;2022-08-30 11:21:07&#x27;],\n              dtype=&#x27;datetime64[ns]&#x27;, name=&#x27;time&#x27;, freq=None))</pre></div></li></ul></div></li><li class='xr-section-item'><input id='section-16fd5e4e-6fb5-4ed6-a234-4711fd8200eb' class='xr-section-summary-in' type='checkbox'  ><label for='section-16fd5e4e-6fb5-4ed6-a234-4711fd8200eb' class='xr-section-summary' >Attributes: <span>(31)</span></label><div class='xr-section-inline-details'></div><div class='xr-section-details'><dl class='xr-attrs'><dt><span>title :</span></dt><dd>TROPOS pyranometer network (PyrNet) observations</dd><dt><span>institution :</span></dt><dd>Leibniz Institute for Tropospheric Research (TROPOS)</dd><dt><span>department :</span></dt><dd>Remote Sensing of Atmospheric Processes</dd><dt><span>department_team :</span></dt><dd>Clouds, Aerosol and Radiation</dd><dt><span>address :</span></dt><dd>Permoser Str. 15, 04318 Leipzig, Germany</dd><dt><span>source :</span></dt><dd>TROPOS pyranometer network (PyrNet)</dd><dt><span>contact_person :</span></dt><dd>Andreas Macke and the clouds, aerosol and radiation team of the remote sensing department, mailto:andreas.macke@tropos.de</dd><dt><span>contributor_name :</span></dt><dd></dd><dt><span>contributor_role :</span></dt><dd></dd><dt><span>authors_software :</span></dt><dd>Hartwig Deneke, Jonas Witthuhn, mailto:deneke@tropos.de</dd><dt><span>creator_name :</span></dt><dd></dd><dt><span>project :</span></dt><dd></dd><dt><span>references :</span></dt><dd>https://doi.org/10.5194/amt-9-1153-2016</dd><dt><span>standard_name_vocabulary :</span></dt><dd>CF Standard Name Table v81</dd><dt><span>conventions :</span></dt><dd>CF-1.10, ACDD-1.3</dd><dt><span>license :</span></dt><dd>CC-BY-SA 3.0</dd><dt><span>TESTNOTE :</span></dt><dd>This is a test note.</dd><dt><span>processing_level :</span></dt><dd>l1b</dd><dt><span>product_version :</span></dt><dd>0.1.8+1.g72dffd1.dirty</dd><dt><span>history :</span></dt><dd>2023-06-27T06:54:50: Generated level l1a  by pyrnet version 0.1.8+1.g72dffd1.dirty; 2023-06-27T06:54:51: Generated level l1b  by pyrnet version 0.1.8+1.g72dffd1.dirty; </dd><dt><span>date_created :</span></dt><dd>2023-06-27T06:54:51</dd><dt><span>geospatial_lat_min :</span></dt><dd>51.390209999999996</dd><dt><span>geospatial_lat_max :</span></dt><dd>51.39021199999999</dd><dt><span>geospatial_lat_units :</span></dt><dd>degN</dd><dt><span>geospatial_lon_min :</span></dt><dd>11.88525199999998</dd><dt><span>geospatial_lon_max :</span></dt><dd>11.885256869999996</dd><dt><span>geospatial_lon_units :</span></dt><dd>degE</dd><dt><span>time_coverage_start :</span></dt><dd>2022-08-30T11:21:03</dd><dt><span>time_coverage_end :</span></dt><dd>2022-08-30T11:21:07</dd><dt><span>time_coverage_duration :</span></dt><dd>P0DT0H0M4S</dd><dt><span>time_coverage_resolution :</span></dt><dd>P0DT0H0M1S</dd></dl></div></li></ul></div></div>"
     },
     "execution_count": 28,
     "metadata": {},
     "output_type": "execute_result"
    }
   ],
   "source": [
    "#|dropcode\n",
    "#|dropout\n",
    "# 8. rad flux calibration\n",
    "box = ds_l1b.station.values[0]\n",
    "boxnumber, serial, cfac = pyrnet.meta_lookup(\n",
    "    ds_l1b.time.values[0],\n",
    "    box=box,\n",
    "    cfile=config['file_calibration'],\n",
    "    mapfile=config['file_mapping'],\n",
    ")\n",
    "\n",
    "print(f\"Meta Lookup:\")\n",
    "print(f\">> Box={box}\")\n",
    "print(f\">> serial(s)={serial}\")\n",
    "print(f\"calibration factor(s)={cfac}\")\n",
    "\n",
    "\n",
    "# calibrate radiation flux with gain=300\n",
    "for i, radflx in enumerate(config['radflux_varname']):\n",
    "    if cfac[i] is None:\n",
    "        # drop if calibration/instrument don't exist (probably secondary pyranometer).\n",
    "        ds_l1b = ds_l1b.drop_vars([var for var in ds_l1b if radflx in var])\n",
    "        continue\n",
    "    ds_l1b[radflx].values = ds_l1b[radflx].values*1e6/cfac[i] # V -> W m-2\n",
    "    ds_l1b[radflx].attrs['units'] = \"W m-2\",\n",
    "    ds_l1b[radflx].attrs.update({\n",
    "        \"units\": \"W m-2\",\n",
    "        \"serial\": serial[i],\n",
    "        \"calibration_factor\": cfac[i]\n",
    "    })\n",
    "    # ds_l1b[radflx].encoding.update({\n",
    "    #     'scale_factor': ds_l1b[radflx].encoding['scale_factor']*1e6/cfac[i]\n",
    "    # })\n",
    "\n",
    "\n",
    "# add global coverage attributes\n",
    "ds_l1b = update_coverage_meta(ds_l1b, timevar=\"time\")\n",
    "\n",
    "ds_l1b.attrs[\"processing_level\"] = 'l1b'\n",
    "now = pd.to_datetime(np.datetime64(\"now\"))\n",
    "ds_l1b.attrs[\"history\"] = ds_l1b.history + f\"{now.isoformat()}: Generated level l1b  by pyrnet version {pyrnet_version}; \"\n",
    "\n",
    "ds_l1b"
   ],
   "metadata": {
    "collapsed": false,
    "ExecuteTime": {
     "end_time": "2023-06-27T06:54:51.305636800Z",
     "start_time": "2023-06-27T06:54:51.189231800Z"
    }
   }
  },
  {
   "cell_type": "code",
   "execution_count": 29,
   "outputs": [],
   "source": [
    "#|hide\n",
    "# dsp = ds_l1b.sel(time=\"2019-07-15\")\n",
    "# plt.figure()\n",
    "# plt.plot(dsp.time, dsp.ghi)\n",
    "# plt.grid()"
   ],
   "metadata": {
    "collapsed": false,
    "ExecuteTime": {
     "end_time": "2023-06-27T06:54:51.306632400Z",
     "start_time": "2023-06-27T06:54:51.226888900Z"
    }
   }
  },
  {
   "cell_type": "code",
   "execution_count": 30,
   "outputs": [],
   "source": [
    "#|hide\n",
    "# ds_l1b.to_netcdf(\"../../testnb/to_l1b_output.nc\",\n",
    "#                  encoding={'time':{'dtype':'float64'}})"
   ],
   "metadata": {
    "collapsed": false,
    "ExecuteTime": {
     "end_time": "2023-06-27T06:54:51.306632400Z",
     "start_time": "2023-06-27T06:54:51.236605900Z"
    }
   }
  },
  {
   "cell_type": "code",
   "execution_count": 31,
   "outputs": [],
   "source": [
    "#|hide\n",
    "# dsp = xr.load_dataset(\"../../testnb/to_l1b_output.nc\").sel(time=\"2019-07-15\")\n",
    "# plt.figure()\n",
    "# plt.plot(dsp.time, dsp.ghi)\n",
    "# plt.grid()"
   ],
   "metadata": {
    "collapsed": false,
    "ExecuteTime": {
     "end_time": "2023-06-27T06:54:51.306632400Z",
     "start_time": "2023-06-27T06:54:51.243318400Z"
    }
   }
  },
  {
   "cell_type": "code",
   "execution_count": 32,
   "outputs": [],
   "source": [
    "#|export\n",
    "#|dropcode\n",
    "def to_l1b(\n",
    "        fname: str,\n",
    "        *,\n",
    "        config: dict | None = None,\n",
    "        global_attrs: dict | None = None\n",
    ") -> xr.Dataset|None:\n",
    "\n",
    "    config = get_config(config)\n",
    "    gattrs, vattrs, vencode = get_cfmeta(config)\n",
    "\n",
    "    if global_attrs is not None:\n",
    "        gattrs.update(global_attrs)\n",
    "\n",
    "    # 1. Load l1a data\n",
    "    ds_l1a = xr.open_dataset(fname)\n",
    "    # check correct file\n",
    "    if ds_l1a.processing_level != \"l1a\":\n",
    "        logger.warning(f\"{fname} is not a l1a file. Skip.\")\n",
    "        return None\n",
    "\n",
    "    # 2. Sync GPS to ADC time\n",
    "    adctime = pyrlogger.sync_adc_time(\n",
    "        adctime = ds_l1a.adctime.values,\n",
    "        gpstime = ds_l1a.gpstime.values,\n",
    "        iadc = ds_l1a.iadc.squeeze().values.astype(int)\n",
    "    )\n",
    "\n",
    "    # 3. Create new dataset (l1b)\n",
    "    ds_l1b = ds_l1a.drop_dims('gpstime')\n",
    "    ds_l1b = ds_l1b.drop_vars(['ghi_qc','gti_qc']) # keep only time dependend variables\n",
    "    ds_l1b = ds_l1b.assign({'time': ('adctime', adctime)})\n",
    "    ds_l1b = ds_l1b.swap_dims({\"adctime\":\"time\"})\n",
    "    ds_l1b = ds_l1b.drop_vars(\"adctime\")\n",
    "\n",
    "    ds_l1b[\"time\"].encoding.update({\n",
    "        \"dtype\": 'float64',\n",
    "        \"units\": f\"seconds since {np.datetime_as_string(ds_l1b.time.data[0], unit='D')}T00:00Z\",\n",
    "    })\n",
    "    logger.info(f\"Dataset time coverage before strip: {ds_l1b.time.values[0]} - {ds_l1b.time.values[-1]}\")\n",
    "\n",
    "    # 4. Drop first and last <stripminutes> minutes of data to avoid bad data due to maintenance\n",
    "    stripminutes = np.timedelta64(int(config['stripminutes']), 'm')\n",
    "    if (ds_l1b.time.values[0] + 3*stripminutes) > ds_l1b.time.values[-1]:\n",
    "        logger.warning(f\"{fname} has not enough data. Skip.\")\n",
    "        return None\n",
    "\n",
    "    ds_l1b = ds_l1b.isel(time=ds_l1b.time>ds_l1b.time.values[0] + stripminutes)\n",
    "    ds_l1b = ds_l1b.isel(time=ds_l1b.time<ds_l1b.time.values[-1] - stripminutes)\n",
    "    logger.info(f\"Dataset time coverage after strip: {ds_l1b.time.values[0]} - {ds_l1b.time.values[-1]}\")\n",
    "\n",
    "\n",
    "    # 5. resample to desired resolution\n",
    "    ds_l1b = pyrlogger.resample_mean(ds_l1b, freq=config['l1bfreq'])\n",
    "    # stretch valid range to not lose resolution due to averaging\n",
    "    ds_l1b = stretch_resolution(ds_l1b)\n",
    "\n",
    "    # 6. Interpolate GPS coordinates to l1b time\n",
    "    ds_gps = ds_l1a.drop_dims(\"adctime\")\n",
    "    ds_gps = ds_gps.drop_vars(['iadc'])\n",
    "\n",
    "    # Decide whether geo coordinates should be averaged or not\n",
    "    if config['average_latlon']:\n",
    "        ds_gps = ds_gps.mean('gpstime', skipna=True, keep_attrs=True)\n",
    "    else:\n",
    "        ds_gps = ds_gps.interp(gpstime=ds_l1b.time)\n",
    "        ds_gps = ds_gps.drop_vars(\"gpstime\")\n",
    "\n",
    "    ds_l1b = xr.merge((ds_l1b,ds_gps))\n",
    "\n",
    "    # 7. Calc and add sun position\n",
    "    szen, sazi = sp.sun_angles(\n",
    "        time=ds_l1b.time.values[:,None], # line up with coordinates to keep dependence on time only\n",
    "        lat=ds_l1b.lat.values,\n",
    "        lon=ds_l1b.lon.values\n",
    "    )\n",
    "    szen  = szen.squeeze()\n",
    "    sazi = sazi.squeeze()\n",
    "\n",
    "    esd = np.mean(sp.earth_sun_distance(ds_l1b.time.values))\n",
    "\n",
    "    ds_l1b = ds_l1b.assign(\n",
    "        {\n",
    "            \"szen\": ((\"time\", \"station\"), szen[:,None]),\n",
    "            \"sazi\": ((\"time\", \"station\"), sazi[:,None]),\n",
    "            \"esd\": (\"station\", [esd])\n",
    "        }\n",
    "    )\n",
    "    # update attributes and encoding\n",
    "    for key in ['szen', 'sazi','esd']:\n",
    "        ds_l1b[key].attrs.update(vattrs[key])\n",
    "        # ds_l1b[key].encoding.update(vencode[key])\n",
    "\n",
    "\n",
    "    # 8. rad flux calibration\n",
    "    box = ds_l1b.station.values[0]\n",
    "    boxnumber, serial, cfac = pyrnet.meta_lookup(\n",
    "        ds_l1b.time.values[0],\n",
    "        box=box,\n",
    "        cfile=config['file_calibration'],\n",
    "        mapfile=config['file_mapping'],\n",
    "    )\n",
    "    logger.info(f\"Meta Lookup:\")\n",
    "    logger.info(f\">> Box={box}\")\n",
    "    logger.info(f\">> serial(s)={serial}\")\n",
    "    logger.info(f\">> calibration factor(s)={cfac}\")\n",
    "\n",
    "\n",
    "    # calibrate radiation flux with gain=300\n",
    "    for i, radflx in enumerate(config['radflux_varname']):\n",
    "        if cfac[i] is None:\n",
    "            # drop if calibration/instrument don't exist (probably secondary pyranometer).\n",
    "            ds_l1b = ds_l1b.drop_vars([var for var in ds_l1b if radflx in var])\n",
    "            continue\n",
    "        ds_l1b[radflx].values = ds_l1b[radflx].values*1e6/(cfac[i]) # V -> W m-2\n",
    "        ds_l1b[radflx].attrs['units'] = \"W m-2\",\n",
    "        ds_l1b[radflx].attrs.update({\n",
    "            \"units\": \"W m-2\",\n",
    "            \"serial\": serial[i],\n",
    "            \"calibration_factor\": cfac[i]\n",
    "        })\n",
    "        # ds_l1b[radflx].encoding.update({\n",
    "        #     'scale_factor': ds_l1b[radflx].encoding['scale_factor']*1e6/(cfac[i])\n",
    "        # })\n",
    "\n",
    "\n",
    "    # add global coverage attributes\n",
    "    ds_l1b = update_coverage_meta(ds_l1b, timevar=\"time\")\n",
    "    ds_l1b.attrs[\"processing_level\"] = 'l1b'\n",
    "    now = pd.to_datetime(np.datetime64(\"now\"))\n",
    "    ds_l1b.attrs[\"history\"] = ds_l1b.history + f\"{now.isoformat()}: Generated level l1b  by pyrnet version {pyrnet_version}; \"\n",
    "\n",
    "    # update encoding\n",
    "    ds_l1b = add_encoding(ds_l1b, vencode=vencode)\n",
    "\n",
    "    return ds_l1b"
   ],
   "metadata": {
    "collapsed": false,
    "ExecuteTime": {
     "end_time": "2023-06-27T06:54:51.307629700Z",
     "start_time": "2023-06-27T06:54:51.244424200Z"
    }
   }
  },
  {
   "cell_type": "code",
   "execution_count": 33,
   "outputs": [],
   "source": [
    "#|dropout\n",
    "fname = \"../../example_data/to_l1a_output.nc\"\n",
    "config = {\n",
    "    \"l1bfreq\":\"1s\",\n",
    "    \"stripminutes\":0,\n",
    "    \"average_latlon\":True,\n",
    "}\n",
    "\n",
    "ds_l1b = to_l1b(fname=fname, config=config)\n",
    "ds_l1b.to_netcdf(\"../../example_data/to_l1b_output.nc\",\n",
    "                 encoding={'time':{'dtype':'float64'}}) # use float64 and not int64 for opendap2 compatibility"
   ],
   "metadata": {
    "collapsed": false,
    "ExecuteTime": {
     "end_time": "2023-06-27T06:54:51.384550300Z",
     "start_time": "2023-06-27T06:54:51.270081400Z"
    }
   }
  },
  {
   "cell_type": "code",
   "execution_count": 34,
   "outputs": [
    {
     "data": {
      "text/plain": "<class 'netCDF4._netCDF4.Dataset'>\nroot group (NETCDF4 data model, file format HDF5):\n    title: TROPOS pyranometer network (PyrNet) observations\n    institution: Leibniz Institute for Tropospheric Research (TROPOS)\n    department: Remote Sensing of Atmospheric Processes\n    department_team: Clouds, Aerosol and Radiation\n    address: Permoser Str. 15, 04318 Leipzig, Germany\n    source: TROPOS pyranometer network (PyrNet)\n    contact_person: Andreas Macke and the clouds, aerosol and radiation team of the remote sensing department, mailto:andreas.macke@tropos.de\n    contributor_name: \n    contributor_role: \n    authors_software: Hartwig Deneke, Jonas Witthuhn, mailto:deneke@tropos.de\n    creator_name: \n    project: \n    references: https://doi.org/10.5194/amt-9-1153-2016\n    standard_name_vocabulary: CF Standard Name Table v81\n    conventions: CF-1.10, ACDD-1.3\n    license: CC-BY-SA 3.0\n    TESTNOTE: This is a test note.\n    processing_level: l1b\n    product_version: 0.1.8+1.g72dffd1.dirty\n    history: 2023-06-27T06:54:50: Generated level l1a  by pyrnet version 0.1.8+1.g72dffd1.dirty; 2023-06-27T06:54:51: Generated level l1b  by pyrnet version 0.1.8+1.g72dffd1.dirty; \n    date_created: 2023-06-27T06:54:51\n    geospatial_lat_min: 51.3902104\n    geospatial_lat_max: 51.3902104\n    geospatial_lat_units: degN\n    geospatial_lon_min: 11.885252199999991\n    geospatial_lon_max: 11.885252199999991\n    geospatial_lon_units: degE\n    time_coverage_start: 2022-08-30T11:21:01\n    time_coverage_end: 2022-08-30T11:21:09\n    time_coverage_duration: P0DT0H0M8S\n    time_coverage_resolution: P0DT0H0M1S\n    dimensions(sizes): time(9), station(1)\n    variables(dimensions): uint16 ghi(time, station), uint16 gti(time, station), uint16 ta(time, station), uint16 rh(time, station), uint16 battery_voltage(time, station), uint8 station(station), float64 time(time), uint32 lat(station), uint32 lon(station), uint8 ghi_qc(station), uint8 gti_qc(station), uint16 szen(time, station), uint16 sazi(time, station), uint16 esd(station)\n    groups: "
     },
     "execution_count": 34,
     "metadata": {},
     "output_type": "execute_result"
    }
   ],
   "source": [
    "#|dropout\n",
    "import netCDF4\n",
    "netCDF4.Dataset(\"../../example_data/to_l1b_output.nc\",'r')"
   ],
   "metadata": {
    "collapsed": false,
    "ExecuteTime": {
     "end_time": "2023-06-27T06:54:51.404016Z",
     "start_time": "2023-06-27T06:54:51.367383Z"
    }
   }
  },
  {
   "cell_type": "code",
   "execution_count": 35,
   "outputs": [],
   "source": [
    "#|hide\n",
    "# Export module\n",
    "# Requires *nbdev* to export and update the *../lib/logger.py* module\n",
    "import nbdev.export\n",
    "import nbformat as nbf\n",
    "name = \"data\"\n",
    "\n",
    "# Export python module\n",
    "nbdev.export.nb_export( f\"{name}.ipynb\" ,f\"../../src/pyrnet\")\n",
    "\n",
    "# Export to docs\n",
    "ntbk = nbf.read(f\"{name}.ipynb\", nbf.NO_CONVERT)\n",
    "\n",
    "text_search_dict = {\n",
    "    \"#|hide\": \"remove-cell\",  # Remove the whole cell\n",
    "    \"#|dropcode\": \"hide-input\",  # Hide the input w/ a button to show\n",
    "    \"#|dropout\": \"hide-output\"  # Hide the output w/ a button to show\n",
    "}\n",
    "for cell in ntbk.cells:\n",
    "    cell_tags = cell.get('metadata', {}).get('tags', [])\n",
    "    for key, val in text_search_dict.items():\n",
    "            if key in cell['source']:\n",
    "                if val not in cell_tags:\n",
    "                    cell_tags.append(val)\n",
    "    if len(cell_tags) > 0:\n",
    "        cell['metadata']['tags'] = cell_tags\n",
    "    nbf.write(ntbk, f\"../../docs/source/nbs/{name}.ipynb\")"
   ],
   "metadata": {
    "collapsed": false,
    "ExecuteTime": {
     "end_time": "2023-06-27T06:54:52.287954200Z",
     "start_time": "2023-06-27T06:54:51.384550300Z"
    }
   }
  }
 ],
 "metadata": {
  "kernelspec": {
   "display_name": "Python 3",
   "language": "python",
   "name": "python3"
  },
  "language_info": {
   "codemirror_mode": {
    "name": "ipython",
    "version": 2
   },
   "file_extension": ".py",
   "mimetype": "text/x-python",
   "name": "python",
   "nbconvert_exporter": "python",
   "pygments_lexer": "ipython2",
   "version": "2.7.6"
  }
 },
 "nbformat": 4,
 "nbformat_minor": 0
}
